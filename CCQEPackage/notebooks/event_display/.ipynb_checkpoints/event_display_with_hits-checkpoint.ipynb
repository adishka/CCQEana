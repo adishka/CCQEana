{
 "cells": [
  {
   "cell_type": "code",
   "execution_count": 52,
   "metadata": {
    "collapsed": false
   },
   "outputs": [
    {
     "data": {
      "text/html": [
       "<style>.container { width:100% !important; }</style>"
      ],
      "text/plain": [
       "<IPython.core.display.HTML object>"
      ]
     },
     "metadata": {},
     "output_type": "display_data"
    }
   ],
   "source": [
    "import ROOT\n",
    "from larlite import *\n",
    "from ROOT import PandoraNuTrack\n",
    "from ROOT import AnalyseEvents\n",
    "import sys; sys.path.insert(0, '../');\n",
    "%matplotlib inline\n",
    "# %matplotlib notebook\n",
    "from IPython.core.display import HTML,display\n",
    "display(HTML(\"<style>.container { width:100% !important; }</style>\"))"
   ]
  },
  {
   "cell_type": "code",
   "execution_count": 2,
   "metadata": {
    "collapsed": false
   },
   "outputs": [],
   "source": [
    "import numpy as np, matplotlib.pyplot as plt, pandas as pd\n",
    "sys.path.insert(0, '/Users/erezcohen/larlite/UserDev/mySoftware/MySoftwarePackage/mac/')\n",
    "from plot_tools import *\n",
    "from matplotlib.ticker import NullFormatter"
   ]
  },
  {
   "cell_type": "code",
   "execution_count": 32,
   "metadata": {
    "collapsed": true
   },
   "outputs": [],
   "source": [
    "file=ROOT.TFile(\"/Users/erezcohen/Desktop/uBoone/CCQEanalysis/EventsFiles/EventsFile.root\")\n",
    "tree=file.Get(\"EventsAnalyzer/eventsTree\")\n",
    "ana=AnalyseEvents(tree)"
   ]
  },
  {
   "cell_type": "code",
   "execution_count": 4,
   "metadata": {
    "collapsed": true
   },
   "outputs": [],
   "source": [
    "def gen_tracks_and_hits( ana=None, entry=0 , debug=0 ):\n",
    "    if ana is None: \n",
    "        print \"ana is None! returning...\"\n",
    "        return\n",
    "    ana.GetEntry( entry )\n",
    "    tracks = ana.GetTracks()\n",
    "    hits = ana.GetHits()\n",
    "    if debug:\n",
    "        print '%d track, %d hits'%(int(tracks.size()),int(hits.size()))\n",
    "    return hits,tracks"
   ]
  },
  {
   "cell_type": "code",
   "execution_count": 123,
   "metadata": {
    "collapsed": true
   },
   "outputs": [],
   "source": [
    "#---------------------------------------------------------------------------------------------\n",
    "def get_t_start_end(t,plane): # t is a track\n",
    "    if plane==0:    \n",
    "        t_start_wire,t_start_time = t.start_wire_u, t.start_time_u                \n",
    "        t_end_wire,t_end_time = t.end_wire_u, t.end_time_u\n",
    "    elif plane==1:                \n",
    "        t_start_wire,t_start_time = t.start_wire_v, t.start_time_v                                    \n",
    "        t_end_wire,t_end_time = t.end_wire_v, t.end_time_v                \n",
    "    elif plane==2:                            \n",
    "        t_start_wire,t_start_time = t.start_wire_y, t.start_time_y                                    \n",
    "        t_end_wire,t_end_time = t.end_wire_y, t.end_time_y            \n",
    "    return t_start_wire , t_start_time , t_end_wire , t_end_time\n",
    "#---------------------------------------------------------------------------------------------\n",
    "\n",
    "#---------------------------------------------------------------------------------------------\n",
    "def plot_tracks(hits,plane,ax=None,cmap='hot_r',color='',do_add_numbers=False, do_add_text=False):\n",
    "    for t in tracks:\n",
    "        color, label = set_color_label(t)\n",
    "        #         print t.MCpdgCode\n",
    "        t_start_wire , t_start_time , t_end_wire , t_end_time = get_t_start_end(t,plane)\n",
    "        plt.plot([t_start_wire,t_end_wire],[t_start_time,t_end_time],color=color)\n",
    "        if do_add_text: plt.text(t_start_wire + 0.3*(t_end_wire-t_start_wire),t_start_time,label,color=color,fontsize=20)\n",
    "#---------------------------------------------------------------------------------------------\n",
    "\n",
    "\n",
    "# ------------------------------------------------\n",
    "def set_color_label_cmap(t,do_add_PfromRange=False):\n",
    "    \n",
    "    pdg = t.MCpdgCode\n",
    "    t_length = t.length\n",
    "\n",
    "    if pdg==-13:\n",
    "        color = 'black'\n",
    "        label = '$\\\\mu^+$'\n",
    "        cmap = 'Grays'\n",
    "    elif pdg==13:\n",
    "        color = 'black'\n",
    "        label = '$\\\\mu^-$'\n",
    "        cmap = 'Grays'   \n",
    "    elif pdg==-11:\n",
    "        color = 'red'\n",
    "        label = '$e^+$'\n",
    "        cmap = 'Reds'   \n",
    "    elif pdg==11:\n",
    "        color = 'red'\n",
    "        label = '$e^-$'\n",
    "    elif pdg==2212:\n",
    "        color = 'blue'\n",
    "        label = '$p$'\n",
    "        cmap = 'Blues'   \n",
    "\n",
    "    elif pdg==2112:\n",
    "        color = 'salmon'\n",
    "        label = '$n$'\n",
    "    elif pdg==-211:\n",
    "        color = 'slateblue'\n",
    "        label = '$\\\\pi^-$'\n",
    "    elif pdg==211:\n",
    "        color = 'slateblue'\n",
    "        label = '$\\\\pi^+$'\n",
    "    elif pdg==111:\n",
    "        color = 'slateblue'\n",
    "        label = '$\\\\pi^0$'\n",
    "    elif pdg==22:\n",
    "        color = 'cyan'\n",
    "        label = '$\\\\gamma$'\n",
    "    else:\n",
    "        color = 'purple'\n",
    "        label = '%d'%pdg\n",
    "        \n",
    "    if do_add_PfromRange:\n",
    "        Ptruth = t.truth_P\n",
    "        if np.abs(pdg)==13:\n",
    "            PfromRange = 0.001*muon_momontum_from_range(t_length)\n",
    "    return color , label\n",
    "# ------------------------------------------------"
   ]
  },
  {
   "cell_type": "code",
   "execution_count": 124,
   "metadata": {
    "collapsed": true
   },
   "outputs": [],
   "source": [
    "def draw_event_display( hits=None, tracks=None , do_add_legend=False, planes=[0,1,2], do_add_hit_trkKey=False ,\n",
    "                       xlim=None , ylim=None ):\n",
    "    fig=plt.figure(figsize=(28,8))\n",
    "    for plane in planes:\n",
    "        ax=fig.add_subplot(1,3,plane+1)\n",
    "        plot_hits(hits , plane=plane , ax=ax , cmap='hot_r',do_add_hit_trkKey=do_add_hit_trkKey, tracks=tracks)\n",
    "        if do_add_legend and plane==2: ax.add_legend(bbox_to_anchor(1,1.05),loc=2,fontsize=20)\n",
    "        set_axes(ax,'wire','time tick' if plane==0 else '',xticks=np.linspace(np.min(ax.get_xlim()),np.max(ax.get_xlim()),5))\n",
    "        if plane>0: ax.yaxis.set_major_formatter( NullFormatter() )\n",
    "        if xlim is not None: ax.set_xlim(xlim[plane])\n",
    "        if ylim is not None: ax.set_ylim(ylim)            \n",
    "        plot_tracks(tracks , plane=plane , ax=ax , do_add_text=False )"
   ]
  },
  {
   "cell_type": "code",
   "execution_count": 125,
   "metadata": {
    "collapsed": false
   },
   "outputs": [
    {
     "name": "stdout",
     "output_type": "stream",
     "text": [
      "10 track, 6685 hits\n"
     ]
    }
   ],
   "source": [
    "hits , tracks = gen_tracks_and_hits( ana, entry=30 , debug=True )"
   ]
  },
  {
   "cell_type": "code",
   "execution_count": 202,
   "metadata": {
    "collapsed": true
   },
   "outputs": [],
   "source": [
    "def find_hit_color(hit_trkKey=None,tracks=None):\n",
    "    if tracks is None: return 'purple'\n",
    "    for t in tracks:\n",
    "        if t.track_id == hit_trkKey:\n",
    "            color,_ = set_color_label(t)\n",
    "            return color\n",
    "    return 'white'"
   ]
  },
  {
   "cell_type": "code",
   "execution_count": 254,
   "metadata": {
    "collapsed": false
   },
   "outputs": [],
   "source": [
    "#---------------------------------------------------------------------------------------------\n",
    "def plot_hits(hits,plane,ax=None,cmap='hot_r',do_add_hit_trkKey=False,do_add_numbers=False,tracks=None):\n",
    "    hit_wire, hit_time, hit_charge , hit_number , hit_trkKey, hit_color = [] , [] , [] , [] , [], []\n",
    "    # hits in this plane\n",
    "    hits_df=pd.DataFrame({})\n",
    "    associated_hits=dict()\n",
    "    for t in tracks:\n",
    "        associated_hits[t.track_id] = pd.DataFrame()\n",
    "    non_associated_hits = pd.DataFrame()\n",
    "    for i_hit,hit in enumerate(hits):\n",
    "        if hit.hit_plane==plane:# and hit_in_box(hit,box=box):\n",
    "            hit_number.append(i_hit)\n",
    "            hit_wire.append(hit.hit_wire)\n",
    "            hit_time.append(hit.hit_peakT)\n",
    "            hit_charge.append(hit.hit_charge)\n",
    "            hit_trkKey.append(hit.hit_trkKey)\n",
    "            hit_color.append( find_hit_color(hit.hit_trkKey,tracks) )\n",
    "            hit_df = pd.DataFrame({'plane':plane,\n",
    "                                   'wire':hit.hit_wire,                                   \n",
    "                                   'time':hit.hit_peakT,                                   \n",
    "                                   'charge':hit.hit_charge}                                   \n",
    "                                  ,index=[i_hit])\n",
    "\n",
    "            if (hit.hit_trkKey!=-9999): # change this to -1! -9999 is the default PDG code of an unknown particle\n",
    "                associated_hits[hit.hit_trkKey]=associated_hits[hit.hit_trkKey].append( hit_df ,ignore_index=True)\n",
    "            else:\n",
    "                non_associated_hits = non_associated_hits.append( hit_df ,ignore_index=True)\n",
    "\n",
    "#     ax.scatter(hit_wire,hit_time,c=hit_charge,facecolor=hit_color,s=100, vmin=np.min(hit_charge), vmax=np.max(hit_charge) , cmap='hot_r')\n",
    "#     ax.scatter(hit_wire,hit_time,marker='o',c=hit_color,s=1 )\n",
    "    \n",
    "    ax.scatter(non_associated_hits['wire'],non_associated_hits['time'],c=non_associated_hits['charge'],s=20, vmin=np.min(non_associated_hits['charge']), vmax=np.max(non_associated_hits['charge']) , cmap='hot_r')\n",
    "    for t in tracks:\n",
    "        color,label,cmap = set_color_label_cmap( t )\n",
    "        ax.scatter(associated_hits[t.track_id]['wire'],associated_hits[t.track_id]['time'],c=associated_hits[t.track_id]['charge'],s=20, vmin=np.min(associated_hits[t.track_id]['charge']), vmax=np.max(associated_hits[t.track_id]['charge']) , cmap=cmap)\n",
    "    \n",
    "#     print associated_hits\n",
    "#---------------------------------------------------------------------------------------------"
   ]
  },
  {
   "cell_type": "code",
   "execution_count": 255,
   "metadata": {
    "collapsed": false,
    "scrolled": false
   },
   "outputs": [
    {
     "data": {
      "image/png": "[encoded data removed]",
      "text/plain": [
       "<matplotlib.figure.Figure at 0x1250ccb90>"
      ]
     },
     "metadata": {},
     "output_type": "display_data"
    }
   ],
   "source": [
    "draw_event_display( hits , tracks , planes=[0]\n",
    "                   , xlim = [[1200,1800],[1750,2100],[2500,3000]]\n",
    "                   , ylim = [1300,4000]\n",
    "                  )"
   ]
  },
  {
   "cell_type": "code",
   "execution_count": null,
   "metadata": {
    "collapsed": true
   },
   "outputs": [],
   "source": []
  }
 ],
 "metadata": {
  "kernelspec": {
   "display_name": "Python 2",
   "language": "python",
   "name": "python2"
  },
  "language_info": {
   "codemirror_mode": {
    "name": "ipython",
    "version": 2
   },
   "file_extension": ".py",
   "mimetype": "text/x-python",
   "name": "python",
   "nbconvert_exporter": "python",
   "pygments_lexer": "ipython2",
   "version": "2.7.11"
  }
 },
 "nbformat": 4,
 "nbformat_minor": 0
}
