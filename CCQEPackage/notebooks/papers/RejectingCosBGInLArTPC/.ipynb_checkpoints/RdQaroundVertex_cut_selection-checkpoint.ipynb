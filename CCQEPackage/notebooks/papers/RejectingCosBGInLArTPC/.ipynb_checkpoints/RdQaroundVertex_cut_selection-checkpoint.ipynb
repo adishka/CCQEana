{
 "cells": [
  {
   "cell_type": "code",
   "execution_count": 1,
   "metadata": {
    "scrolled": true,
    "slideshow": {
     "slide_type": "skip"
    }
   },
   "outputs": [
    {
     "name": "stdout",
     "output_type": "stream",
     "text": [
      "versions:\n",
      "{   'OffBeam': 'prod_reco_optfilter_extbnb_v12_mcc8_dev',\n",
      "    'OnBeam': 'prod_reco_optfilter_bnb_v12_unblind_mcc8',\n",
      "    'Overlay': 'prodgenie_bnb_nu_uboone_overlay_mcc8.11_reco2',\n",
      "    'data date': '2018_05_11',\n",
      "    'date': '2018_05_11',\n",
      "    'overlay date': '2018_05_11'}\n",
      "OffBeam_scaling: 0.706302660161 = N(on beam)/N(off beam) before SwT\n",
      "f(POT): 0.0512441465374 = N(POT on beam)/N(POT MC)\n"
     ]
    }
   ],
   "source": [
    "import sys; sys.path.insert(0, '../'); \n",
    "from ccqe_notebook_tools import * \n",
    "from mupClassification_notebooks import *\n",
    "from onbeam_offbeam_notebooks import *\n",
    "from mpl_toolkits.mplot3d import Axes3D\n",
    "%matplotlib inline"
   ]
  },
  {
   "cell_type": "markdown",
   "metadata": {},
   "source": [
    "# cut selection in a selected  box dimensions for $\\frac{\\Delta Q_{track}}{\\Delta Q_{total}}$ "
   ]
  },
  {
   "cell_type": "code",
   "execution_count": 2,
   "metadata": {
    "scrolled": true
   },
   "outputs": [],
   "source": [
    "figures_path = '/Users/erezcohen/Desktop/Projects/uBoone/write-ups/RejectingCosBGInLArTPC/Figures/overlay_v8.11/'"
   ]
  },
  {
   "cell_type": "code",
   "execution_count": 3,
   "metadata": {},
   "outputs": [],
   "source": [
    "N_box_sizes = 30\n",
    "MinNwiresBox,dNwiresBox = 5,5\n",
    "MinNticksBox,dNticksBox = 10,10\n",
    "NwiresBox,NticksBox=[],[]\n",
    "for i_box_size in range(N_box_sizes):\n",
    "    NwiresBox.append(MinNwiresBox + i_box_size * dNwiresBox)\n",
    "    NticksBox.append(MinNticksBox + i_box_size * dNticksBox) "
   ]
  },
  {
   "cell_type": "code",
   "execution_count": 4,
   "metadata": {},
   "outputs": [
    {
     "name": "stdout",
     "output_type": "stream",
     "text": [
      "optimal box dimensions: [50 wires x 100 ticks]\n"
     ]
    }
   ],
   "source": [
    "i_box_size = 9\n",
    "box_dims = '[%d wires x %d ticks]'%(NwiresBox[i_box_size],NticksBox[i_box_size])\n",
    "print 'optimal box dimensions:',box_dims\n",
    "Ru = 'RdQaroundVertex[plane 0]'+box_dims\n",
    "Rv = 'RdQaroundVertex[plane 1]'+box_dims\n",
    "Ry = 'RdQaroundVertex[plane 2]'+box_dims"
   ]
  },
  {
   "cell_type": "markdown",
   "metadata": {},
   "source": [
    "# pairs of 2-tracks at close proximity"
   ]
  },
  {
   "cell_type": "code",
   "execution_count": 6,
   "metadata": {},
   "outputs": [
    {
     "name": "stdout",
     "output_type": "stream",
     "text": [
      "285009 ccqe candidate pairs, 180070 in FV\n",
      "74387 are 1mu-1p, 41.3%\n",
      "55226 are other-pairs, 30.7%\n",
      "155396 are cosmic, 86.3%\n",
      "\u001b[92m--------------------------------------------------------------\u001b[0m\n",
      "40729 are CC1p, 22.6%\n",
      "I finished loading overlay samples. We have in total 285009 pairs\n"
     ]
    }
   ],
   "source": [
    "versions['overlay date'] = '2018_08_16'\n",
    "versions['Overlay'] = 'prodgenie_bnb_nu_uboone_overlay_mcc8.11_reco2'\n",
    "OverlaySamples = load_samples(date=versions['overlay date'],filename=versions['Overlay']+'_'+versions['overlay date']+'_vertices')"
   ]
  },
  {
   "cell_type": "code",
   "execution_count": 7,
   "metadata": {},
   "outputs": [
    {
     "data": {
      "text/html": [
       "<div>\n",
       "<style>\n",
       "    .dataframe thead tr:only-child th {\n",
       "        text-align: right;\n",
       "    }\n",
       "\n",
       "    .dataframe thead th {\n",
       "        text-align: left;\n",
       "    }\n",
       "\n",
       "    .dataframe tbody tr th {\n",
       "        vertical-align: top;\n",
       "    }\n",
       "</style>\n",
       "<table border=\"1\" class=\"dataframe\">\n",
       "  <thead>\n",
       "    <tr style=\"text-align: right;\">\n",
       "      <th></th>\n",
       "      <th>$\\mu p$ eff.</th>\n",
       "      <th>$\\mu p$ pur.</th>\n",
       "      <th>CC$1 p$ eff.</th>\n",
       "      <th>CC$1 p$ pur.</th>\n",
       "      <th>label</th>\n",
       "      <th>1mu-1p</th>\n",
       "      <th>other-pairs</th>\n",
       "      <th>cosmic</th>\n",
       "      <th>CC1p</th>\n",
       "    </tr>\n",
       "  </thead>\n",
       "  <tbody>\n",
       "    <tr>\n",
       "      <th>no cut</th>\n",
       "      <td>100.0%</td>\n",
       "      <td>26.1%</td>\n",
       "      <td>100.0%</td>\n",
       "      <td>14.3%</td>\n",
       "      <td>no cut</td>\n",
       "      <td>100.0% (74387)</td>\n",
       "      <td>100.0% (55226)</td>\n",
       "      <td>100.0% (155396)</td>\n",
       "      <td>100.0% (40729)</td>\n",
       "    </tr>\n",
       "    <tr>\n",
       "      <th>Chi2Proton</th>\n",
       "      <td>62.0%</td>\n",
       "      <td>73.0%</td>\n",
       "      <td>66.3%</td>\n",
       "      <td>42.7%</td>\n",
       "      <td>Chi2Proton</td>\n",
       "      <td>62.0% (46155)</td>\n",
       "      <td>17.3% (9547)</td>\n",
       "      <td>4.8% (7485)</td>\n",
       "      <td>66.3% (26989)</td>\n",
       "    </tr>\n",
       "    <tr>\n",
       "      <th>MatchedFlash</th>\n",
       "      <td>47.5%</td>\n",
       "      <td>81.1%</td>\n",
       "      <td>51.2%</td>\n",
       "      <td>47.8%</td>\n",
       "      <td>MatchedFlash</td>\n",
       "      <td>47.5% (35339)</td>\n",
       "      <td>11.2% (6184)</td>\n",
       "      <td>1.3% (2050)</td>\n",
       "      <td>51.2% (20836)</td>\n",
       "    </tr>\n",
       "    <tr>\n",
       "      <th>length</th>\n",
       "      <td>43.1%</td>\n",
       "      <td>85.4%</td>\n",
       "      <td>46.6%</td>\n",
       "      <td>50.6%</td>\n",
       "      <td>length</td>\n",
       "      <td>43.1% (32061)</td>\n",
       "      <td>6.8% (3754)</td>\n",
       "      <td>1.1% (1707)</td>\n",
       "      <td>46.6% (18980)</td>\n",
       "    </tr>\n",
       "    <tr>\n",
       "      <th>non-collinearity</th>\n",
       "      <td>39.7%</td>\n",
       "      <td>89.2%</td>\n",
       "      <td>44.2%</td>\n",
       "      <td>54.4%</td>\n",
       "      <td>non-collinearity</td>\n",
       "      <td>39.7% (29505)</td>\n",
       "      <td>5.0% (2760)</td>\n",
       "      <td>0.5% (795)</td>\n",
       "      <td>44.2% (17993)</td>\n",
       "    </tr>\n",
       "    <tr>\n",
       "      <th>vertex activity</th>\n",
       "      <td>29.3%</td>\n",
       "      <td>90.6%</td>\n",
       "      <td>38.6%</td>\n",
       "      <td>65.3%</td>\n",
       "      <td>vertex activity</td>\n",
       "      <td>29.3% (21829)</td>\n",
       "      <td>3.3% (1815)</td>\n",
       "      <td>0.3% (445)</td>\n",
       "      <td>38.6% (15732)</td>\n",
       "    </tr>\n",
       "    <tr>\n",
       "      <th>delta phi</th>\n",
       "      <td>20.2%</td>\n",
       "      <td>96.0%</td>\n",
       "      <td>29.9%</td>\n",
       "      <td>77.7%</td>\n",
       "      <td>delta phi</td>\n",
       "      <td>20.2% (15055)</td>\n",
       "      <td>0.8% (456)</td>\n",
       "      <td>0.1% (179)</td>\n",
       "      <td>29.9% (12184)</td>\n",
       "    </tr>\n",
       "    <tr>\n",
       "      <th>Pt no delta phi</th>\n",
       "      <td>22.1%</td>\n",
       "      <td>93.3%</td>\n",
       "      <td>31.4%</td>\n",
       "      <td>72.6%</td>\n",
       "      <td>Pt no delta phi</td>\n",
       "      <td>22.1% (16460)</td>\n",
       "      <td>1.7% (934)</td>\n",
       "      <td>0.2% (245)</td>\n",
       "      <td>31.4% (12799)</td>\n",
       "    </tr>\n",
       "    <tr>\n",
       "      <th>Pt &amp; delta phi</th>\n",
       "      <td>16.6%</td>\n",
       "      <td>97.1%</td>\n",
       "      <td>25.3%</td>\n",
       "      <td>80.9%</td>\n",
       "      <td>Pt &amp; delta phi</td>\n",
       "      <td>16.6% (12378)</td>\n",
       "      <td>0.5% (273)</td>\n",
       "      <td>0.1% (101)</td>\n",
       "      <td>25.3% (10321)</td>\n",
       "    </tr>\n",
       "  </tbody>\n",
       "</table>\n",
       "</div>"
      ],
      "text/plain": [
       "                 $\\mu p$ eff. $\\mu p$ pur. CC$1 p$ eff. CC$1 p$ pur.  \\\n",
       "no cut                 100.0%        26.1%       100.0%        14.3%   \n",
       "Chi2Proton              62.0%        73.0%        66.3%        42.7%   \n",
       "MatchedFlash            47.5%        81.1%        51.2%        47.8%   \n",
       "length                  43.1%        85.4%        46.6%        50.6%   \n",
       "non-collinearity        39.7%        89.2%        44.2%        54.4%   \n",
       "vertex activity         29.3%        90.6%        38.6%        65.3%   \n",
       "delta phi               20.2%        96.0%        29.9%        77.7%   \n",
       "Pt no delta phi         22.1%        93.3%        31.4%        72.6%   \n",
       "Pt & delta phi          16.6%        97.1%        25.3%        80.9%   \n",
       "\n",
       "                             label          1mu-1p     other-pairs  \\\n",
       "no cut                      no cut  100.0% (74387)  100.0% (55226)   \n",
       "Chi2Proton              Chi2Proton   62.0% (46155)    17.3% (9547)   \n",
       "MatchedFlash          MatchedFlash   47.5% (35339)    11.2% (6184)   \n",
       "length                      length   43.1% (32061)     6.8% (3754)   \n",
       "non-collinearity  non-collinearity   39.7% (29505)     5.0% (2760)   \n",
       "vertex activity    vertex activity   29.3% (21829)     3.3% (1815)   \n",
       "delta phi                delta phi   20.2% (15055)      0.8% (456)   \n",
       "Pt no delta phi    Pt no delta phi   22.1% (16460)      1.7% (934)   \n",
       "Pt & delta phi      Pt & delta phi   16.6% (12378)      0.5% (273)   \n",
       "\n",
       "                           cosmic            CC1p  \n",
       "no cut            100.0% (155396)  100.0% (40729)  \n",
       "Chi2Proton            4.8% (7485)   66.3% (26989)  \n",
       "MatchedFlash          1.3% (2050)   51.2% (20836)  \n",
       "length                1.1% (1707)   46.6% (18980)  \n",
       "non-collinearity       0.5% (795)   44.2% (17993)  \n",
       "vertex activity        0.3% (445)   38.6% (15732)  \n",
       "delta phi              0.1% (179)   29.9% (12184)  \n",
       "Pt no delta phi        0.2% (245)   31.4% (12799)  \n",
       "Pt & delta phi         0.1% (101)   25.3% (10321)  "
      ]
     },
     "execution_count": 7,
     "metadata": {},
     "output_type": "execute_result"
    }
   ],
   "source": [
    "cuts_order  = ['no cut'\n",
    "               ,'Chi2Proton'               \n",
    "               ,'MatchedFlash'               \n",
    "               ,'length'\n",
    "               ,'non-collinearity'               \n",
    "               ,'vertex activity'               \n",
    "               ,'delta phi'               \n",
    "               ,'Pt no delta phi'               \n",
    "               ,'Pt & delta phi'\n",
    "              ]\n",
    "reducedOverlay,pureffOverlay,pureffNumbers = apply_cuts_to_overlay(OverlaySamples=OverlaySamples\n",
    "                                                                   ,cuts_order=cuts_order)\n",
    "pureffOverlay"
   ]
  },
  {
   "cell_type": "markdown",
   "metadata": {},
   "source": [
    "# A cut on $R_{\\Delta Q}$ for the optimized box dimensions"
   ]
  },
  {
   "cell_type": "code",
   "execution_count": 9,
   "metadata": {},
   "outputs": [
    {
     "name": "stdout",
     "output_type": "stream",
     "text": [
      "created a 3D array for 1mu-1p\n",
      "created a 3D array for other-pairs\n",
      "created a 3D array for cosmic\n",
      "created a 3D array for CC1p\n"
     ]
    }
   ],
   "source": [
    "RdQ_xyz, RdQ_3D_array = dict(), dict()\n",
    "\n",
    "for i_pair_type in range(4):\n",
    "    pair_type = pair_types[i_pair_type]; color=MCcolors[i_pair_type]; label=MClabels[i_pair_type]; \n",
    "    sample = reducedOverlay['non-collinearity'][pair_type]\n",
    "    u,v,y = sample[Ru], sample[Rv], sample[Ry]\n",
    "    RdQ_xyz[pair_type] = (u,v,y)\n",
    "    RdQ_3D_array[pair_type] = np.array([[x_p,y_p,z_p] for x_p,y_p,z_p in zip(u,v,y)])\n",
    "    print \"created a 3D array for\",pair_type"
   ]
  },
  {
   "cell_type": "markdown",
   "metadata": {},
   "source": [
    "# find the optimal cut"
   ]
  },
  {
   "cell_type": "markdown",
   "metadata": {},
   "source": [
    "## first draw the distribution of \\RdQ\\ in all three planes for all samples"
   ]
  },
  {
   "cell_type": "code",
   "execution_count": null,
   "metadata": {
    "scrolled": true
   },
   "outputs": [],
   "source": [
    "for i_pair_type in range(4):\n",
    "    pair_type = pair_types[i_pair_type]; color=MCcolors[i_pair_type]; label=MClabels[i_pair_type]\n",
    "    print 'pair_type:',pair_type\n",
    "    sample = reducedOverlay['non-collinearity'][pair_type]\n",
    "    u,v,y = sample[Ru], sample[Rv], sample[Ry]\n",
    "    fig3D = plt.figure(figsize=(14,8)).gca(projection='3d')\n",
    "    fig3D.scatter( u , v , y , c=color, s=20 , alpha=0.5 )\n",
    "    fig3D.scatter(u, y, color=color, zdir='y', s=5, zs=1.5 , edgecolors='black') \n",
    "    fig3D.scatter(v, y, color=color, zdir='x', s=5, zs=-0.5 , edgecolors='black')\n",
    "    fig3D.scatter(u, v, color=color, zdir='z', s=5, zs=-0.5 , edgecolors='black')\n",
    "    fig3D.set_xlim(-0.3,1.3);fig3D.set_ylim(-0.3,1.3);fig3D.set_zlim(-0.3,1.3)\n",
    "    set_axes(fig3D,x_label='$U$ plane',y_label='$V$ plane',z_label='$Y$ plane'\n",
    "             ,xticks=[0,0.25,0.5,0.75,1],yticks=[0,0.25,0.5,0.75,1],zticks=[0,0.3,0.6,0.9])\n",
    "    fig3D.xaxis.labelpad = 30 ; fig3D.yaxis.labelpad = 30 ; fig3D.zaxis.labelpad = 30\n",
    "    plt.tight_layout()\n",
    "    plt.savefig(figures_path + 'ChosenBoxDimensions_pairtype_%d.pdf'%i_pair_type)"
   ]
  },
  {
   "cell_type": "markdown",
   "metadata": {},
   "source": [
    "## try a cut in a sphere centered around 1 - select its radius\n",
    "## + add all those events with R=1 in either of the planes"
   ]
  },
  {
   "cell_type": "code",
   "execution_count": null,
   "metadata": {},
   "outputs": [],
   "source": [
    "\n",
    "# ------------------------------------------------\n",
    "# Oct. 13, 2017\n",
    "def get_pureff_MCbnbDATAcosmic_cut(cut_name = 'PIDa', cut_label=None , reduced_MCbnbDATAcosmic = dict()):\n",
    "    ''' \n",
    "        return\n",
    "        eff (mu-p) , pur (mu-p), eff (CC 1p 0pi) , pur (CC 1p 0pi)\n",
    "    '''\n",
    "    global pureff_MCbnbDATAcosmic\n",
    "    eff = dict()\n",
    "    pur = dict()\n",
    "    Nreduced_MCbnbDATAcosmic , freduced_MCbnbDATAcosmic = get_Nreduced_MCbnbDATAcosmic(reduced_MCbnbDATAcosmic=reduced_MCbnbDATAcosmic)\n",
    "    Ntot = (Nreduced_MCbnbDATAcosmic['1mu-1p']+Nreduced_MCbnbDATAcosmic['cosmic']+Nreduced_MCbnbDATAcosmic['other pairs'])\n",
    "    \n",
    "    eff['1mu-1p'] = freduced_MCbnbDATAcosmic['1mu-1p']\n",
    "    pur['1mu-1p'] = 100.*Nreduced_MCbnbDATAcosmic['1mu-1p']/Ntot if Ntot>0 else 0\n",
    "    \n",
    "    eff['CC 1p 0pi'] = freduced_MCbnbDATAcosmic['CC 1p 0pi']\n",
    "    pur['CC 1p 0pi'] = 100.*Nreduced_MCbnbDATAcosmic['CC 1p 0pi']/Ntot if Ntot>0 else 0\n",
    "\n",
    "    eff['CC 1p'] = freduced_MCbnbDATAcosmic['CC 1p']\n",
    "    pur['CC 1p'] = 100.*Nreduced_MCbnbDATAcosmic['CC 1p']/Ntot if Ntot>0 else 0\n",
    "\n",
    "    pureff_MCbnbDATAcosmic_cut = pd.DataFrame({'label':cut_label\n",
    "                               ,'$\\mu p$ eff.':'%.1f'%eff['1mu-1p']+'%'\n",
    "                               ,'$\\mu p$ pur.':'%.1f'%pur['1mu-1p']+'%'\n",
    "                               ,'CC$0\\pi 1 p$ eff.':'%.1f'%freduced_MCbnbDATAcosmic['CC 1p 0pi']+'%'\n",
    "                               ,'CC$0\\pi 1 p$ pur.':'%.1f'%(100.*Nreduced_MCbnbDATAcosmic['CC 1p 0pi']/Ntot if Ntot>0 else 0)+'%'\n",
    "                               ,'CC$1 p$ eff.':'%.1f'%freduced_MCbnbDATAcosmic['CC 1p']+'%'\n",
    "                               ,'CC$1 p$ pur.':'%.1f'%(100.*Nreduced_MCbnbDATAcosmic['CC 1p']/Ntot if Ntot>0 else 0)+'%'\n",
    "                                              }\n",
    "                               , index=[cut_name]\n",
    "                              )\n",
    "    for pair_type in pair_types: pureff_MCbnbDATAcosmic_cut[pair_type] = '%.1f'%freduced_MCbnbDATAcosmic[pair_type]+'%' +' (%.0f)'%Nreduced_MCbnbDATAcosmic[pair_type]\n",
    "    pureff_MCbnbDATAcosmic = pureff_MCbnbDATAcosmic.append(pureff_MCbnbDATAcosmic_cut)\n",
    "    reduced_MCbnbDATAcosmicSamples[cut_name] = reduced_MCbnbDATAcosmic  \n",
    "    Ntot = Nreduced_MCbnbDATAcosmic['1mu-1p']+Nreduced_MCbnbDATAcosmic['cosmic']+Nreduced_MCbnbDATAcosmic['other pairs']\n",
    "    return freduced_MCbnbDATAcosmic['1mu-1p'],(100.*Nreduced_MCbnbDATAcosmic['1mu-1p']/Ntot if Ntot>0 else 0),freduced_MCbnbDATAcosmic['CC 1p'],(100.*Nreduced_MCbnbDATAcosmic['CC 1p']/Ntot if Ntot>0 else 0)\n",
    "# ------------------------------------------------\n"
   ]
  },
  {
   "cell_type": "code",
   "execution_count": null,
   "metadata": {},
   "outputs": [],
   "source": [
    "def pureff_in_RdQ_sphere(radius=None, i_box_size=9, debug=0):    \n",
    "    '''\n",
    "    return: \n",
    "            purity,efficiency of µp\n",
    "    also:   purity,efficiency of CC1p\n",
    "    '''\n",
    "    if debug>1: print 'computing impact of cut on optimal box dimensions: (%d wires x %d ticks)'%(NwiresBox[i_optimal_box_size],NticksBox[i_optimal_box_size])\n",
    "    box_dims = '[%d wires x %d ticks]'%(NwiresBox[i_box_size],NticksBox[i_box_size])\n",
    "    Ru = 'RdQaroundVertex[plane 0]'+box_dims\n",
    "    Rv = 'RdQaroundVertex[plane 1]'+box_dims\n",
    "    Ry = 'RdQaroundVertex[plane 2]'+box_dims\n",
    "    reduced = dict()\n",
    "    for pair_type in pair_types:\n",
    "        sam = reducedOverlay['non-collinearity'][pair_type]\n",
    "        reduced[pair_type] = sam[(sam[Ru]==1) | (sam[Rv]==1) | (sam[Ry]==1) \n",
    "                                 | \n",
    "                                 (np.sqrt( np.square(sam[Ru]-1) + np.square(sam[Rv]-1) + np.square(sam[Ry]-1) ) <= radius) \n",
    "                                ]\n",
    "    N,eff,pur = dict(),dict(),dict()\n",
    "    for pair_type in pair_types:\n",
    "        N[pair_type] = float(len(reduced[pair_type]))\n",
    "        eff[pair_type] = N[pair_type]/len(reducedOverlay['no cut'][pair_type])\n",
    "    Ntot = N['1mu-1p']+N['other pairs']+N['cosmic']\n",
    "    for pair_type in pair_types:\n",
    "        pur[pair_type] = N[pair_type]/(Ntot)\n",
    "    return 100*eff['1mu-1p'],pur['1mu-1p'],100*eff['CC 1p'],100*pur['CC 1p']"
   ]
  },
  {
   "cell_type": "code",
   "execution_count": null,
   "metadata": {},
   "outputs": [],
   "source": [
    "debug=0\n",
    "radius_array = np.linspace(.1,1,100)\n",
    "pureff_mup,pureff_CC1p0p = [],[]\n",
    "for i_radius,radius in enumerate(radius_array):\n",
    "    if (i_radius%(10)==0): print 'i_radius:',i_radius\n",
    "    eff_mup,pur_mup,eff_CC1p,pur_CC1p = pureff_in_RdQ_sphere(radius=radius,\n",
    "                                                             i_box_size=i_box_size, \n",
    "                                                             debug=debug)\n",
    "#     print 'eff_CC1p,pur_CC1p:',eff_CC1p,pur_CC1p\n",
    "    pureff_mup.append(eff_mup*pur_mup)\n",
    "    pureff_CC1p0p.append(eff_CC1p*pur_CC1p)\n",
    "print 'done'"
   ]
  },
  {
   "cell_type": "code",
   "execution_count": null,
   "metadata": {},
   "outputs": [],
   "source": [
    "fig,ax=plt.subplots(figsize=(12,8))\n",
    "i_pair_type = 3\n",
    "pureff = pureff_CC1p0p\n",
    "x = radius_array\n",
    "y = np.array(pureff)*1e-4\n",
    "# plt.plot(x, y , 'o',color=MCcolors[i_pair_type],label=MClabels[i_pair_type])\n",
    "\n",
    "popt = np.polyfit( x, y , 20)\n",
    "poly = np.poly1d(popt)\n",
    "x_poly = np.linspace(.1,1,1000)\n",
    "y_poly = poly(x_poly)\n",
    "plt.plot(x_poly, y_poly ,color=MCcolors[i_pair_type],label=MClabels[i_pair_type])\n",
    "\n",
    "set_axes(ax,'The radius of sphere around $(R_U,R_V,R_Y)=(1,1,1)$',r'efficiency $\\times$ purity'\n",
    "         ,do_add_legend=False\n",
    "#          ,ylim=(0.248,0.29),yticks=[0.25,0.26,0.27,0.28,0.29]\n",
    "        )\n",
    "# best point\n",
    "i_max = np.argmax(y_poly)\n",
    "# i_max = 20\n",
    "r_max = x_poly[i_max]\n",
    "print 'r_max:',r_max\n",
    "r_max_rounded = float(np.floor( np.int(100.*r_max) ))/100\n",
    "print r'$r_max \\simeq %f$'%r_max_rounded\n",
    "plt.plot([r_max,r_max],[np.min(ax.get_ylim()),poly(r_max)],'--',color='black')\n",
    "eff_mup,pur_mup,eff_CC1p,pur_CC1p = pureff_in_RdQ_sphere(radius=r_max_rounded, i_box_size=9, debug=0)\n",
    "\n",
    "plt.text(1.05*r_max_rounded,0.220,r'$r_{R_{\\Delta Q}}\\simeq %.2f$'%r_max_rounded,fontsize=35 ,color='black') \n",
    "plt.text(1.05*r_max_rounded,0.237,'$CC\\;1p$ (MC)\\n$eff.=%.1f'%eff_CC1p+'\\%$'+'\\n$pur.=%.1f'%pur_CC1p+'\\%$',fontsize=35 ,color=MCcolors[3])\n",
    "plt.savefig(figures_path+'cut_optimization_rRdQ.pdf')\n",
    "print 'saved',figures_path+'cut_optimization_rRdQ.pdf'"
   ]
  },
  {
   "cell_type": "code",
   "execution_count": null,
   "metadata": {},
   "outputs": [],
   "source": []
  },
  {
   "cell_type": "code",
   "execution_count": null,
   "metadata": {},
   "outputs": [],
   "source": []
  },
  {
   "cell_type": "code",
   "execution_count": null,
   "metadata": {},
   "outputs": [],
   "source": []
  },
  {
   "cell_type": "code",
   "execution_count": null,
   "metadata": {},
   "outputs": [],
   "source": []
  },
  {
   "cell_type": "code",
   "execution_count": null,
   "metadata": {},
   "outputs": [],
   "source": []
  },
  {
   "cell_type": "code",
   "execution_count": null,
   "metadata": {},
   "outputs": [],
   "source": []
  }
 ],
 "metadata": {
  "celltoolbar": "Slideshow",
  "kernelspec": {
   "display_name": "Python 2",
   "language": "python",
   "name": "python2"
  },
  "language_info": {
   "codemirror_mode": {
    "name": "ipython",
    "version": 2
   },
   "file_extension": ".py",
   "mimetype": "text/x-python",
   "name": "python",
   "nbconvert_exporter": "python",
   "pygments_lexer": "ipython2",
   "version": "2.7.11"
  }
 },
 "nbformat": 4,
 "nbformat_minor": 2
}
