{
 "cells": [
  {
   "cell_type": "markdown",
   "metadata": {},
   "source": [
    "# absolute $CC1p$ cross-section"
   ]
  },
  {
   "cell_type": "code",
   "execution_count": 1,
   "metadata": {
    "scrolled": false,
    "slideshow": {
     "slide_type": "skip"
    }
   },
   "outputs": [
    {
     "name": "stdout",
     "output_type": "stream",
     "text": [
      "versions:\n",
      "{   'OffBeam': 'prod_reco_optfilter_extbnb_v12_mcc8_dev',\n",
      "    'OnBeam': 'prod_reco_optfilter_bnb_v12_unblind_mcc8',\n",
      "    'Overlay': 'prodgenie_bnb_nu_uboone_overlay_mcc8.11_reco2',\n",
      "    'data date': '2018_05_11',\n",
      "    'date': '2018_05_11',\n",
      "    'overlay date': '2018_05_11'}\n",
      "OffBeam_scaling: 0.706302660161 = N(on beam)/N(off beam) before SwT\n",
      "f(POT): 0.0512441465374 = N(POT on beam)/N(POT MC)\n"
     ]
    }
   ],
   "source": [
    "from Xsec_setup import *\n",
    "%matplotlib inline"
   ]
  },
  {
   "cell_type": "code",
   "execution_count": 2,
   "metadata": {
    "scrolled": true
   },
   "outputs": [],
   "source": [
    "figures_path = '/Users/erezcohen/Desktop/Projects/uBoone/write-ups/Xsec/Figures/absolute_Xsec/'"
   ]
  },
  {
   "cell_type": "code",
   "execution_count": 3,
   "metadata": {},
   "outputs": [
    {
     "name": "stdout",
     "output_type": "stream",
     "text": [
      "absolute background subtracted beam-on: 305.4136 +/- 24.4418\n",
      "absolute CC 1p in mc: 557.3826 +/- 5.3444\n"
     ]
    }
   ],
   "source": [
    "[absolute_N_B,absolute_N_B_err] = np.loadtxt(Paths['background maps'] + \"beam_on_bkg_sbtrctd.csv\", delimiter=\",\")\n",
    "print 'absolute background subtracted beam-on: %.4f +/- %.4f'%(absolute_N_B,absolute_N_B_err)\n",
    "[mc_N_B,mc_N_B_err] = np.loadtxt(Paths['background maps'] + \"mc_cc1p.csv\", delimiter=\",\")\n",
    "print 'absolute CC 1p in mc: %.4f +/- %.4f'%(mc_N_B,mc_N_B_err)"
   ]
  },
  {
   "cell_type": "code",
   "execution_count": 4,
   "metadata": {},
   "outputs": [
    {
     "name": "stdout",
     "output_type": "stream",
     "text": [
      "absolute efficiency: 0.0882 +/- 0.0009\n"
     ]
    }
   ],
   "source": [
    "[absolute_eff,absolute_eff_err] = np.loadtxt(Paths['efficiency maps'] + \"absolute_eff.csv\", delimiter=\",\")\n",
    "print 'absolute efficiency: %.4f +/- %.4f'%(absolute_eff,absolute_eff_err)"
   ]
  },
  {
   "cell_type": "markdown",
   "metadata": {},
   "source": [
    "## absolute cross-section"
   ]
  },
  {
   "cell_type": "code",
   "execution_count": 14,
   "metadata": {},
   "outputs": [],
   "source": [
    "def compute_Xsec( N=1 , eff=1 , N_err=0 , eff_err=0):\n",
    "    '''\n",
    "    input: \n",
    "        N - background subtracted signal\n",
    "        eff - efficiency\n",
    "        [Nerr] - uncertainty\n",
    "    return: \n",
    "        Xsec\n",
    "        Xsec err\n",
    "    '''\n",
    "    if eff<0.001:  eff=0.001\n",
    "    Xsec = N/(eff*Ntargets*flux)\n",
    "    Xsec_err = np.sqrt(  np.square(N_err/(eff*Ntargets*flux)) \n",
    "                       + np.square(N*eff_err/(eff*eff*Ntargets*flux)) \n",
    "                       + np.square(N*Ntargets_err/(eff*Ntargets*Ntargets*flux)) \n",
    "                       + np.square(N*flux_err/(eff*Ntargets*flux*flux)) )\n",
    "    return Xsec, Xsec_err"
   ]
  },
  {
   "cell_type": "code",
   "execution_count": 25,
   "metadata": {},
   "outputs": [
    {
     "name": "stdout",
     "output_type": "stream",
     "text": [
      "Xsec = 1.924e-39 +/- (8 %)stat cm^2\n"
     ]
    }
   ],
   "source": [
    "Xsec, Xsec_err = compute_Xsec( N=absolute_N_B, N_err=absolute_N_B_err , eff=absolute_eff , eff_err=absolute_eff_err )\n",
    "print 'Xsec = %.4g'%Xsec,'+/- (%.1g'%(100.*Xsec_err/Xsec),'%)stat cm^2'"
   ]
  },
  {
   "cell_type": "code",
   "execution_count": 27,
   "metadata": {},
   "outputs": [
    {
     "name": "stdout",
     "output_type": "stream",
     "text": [
      "mc Xsec = 3.511e-39 +/- (1 %)stat cm^2\n"
     ]
    }
   ],
   "source": [
    "Xsec, Xsec_err = compute_Xsec( N=mc_N_B, N_err=mc_N_B_err , eff=absolute_eff , eff_err=absolute_eff_err )\n",
    "print 'mc Xsec = %.4g'%Xsec,'+/- (%.1g'%(100.*Xsec_err/Xsec),'%)stat cm^2'"
   ]
  },
  {
   "cell_type": "code",
   "execution_count": null,
   "metadata": {},
   "outputs": [],
   "source": []
  }
 ],
 "metadata": {
  "celltoolbar": "Slideshow",
  "kernelspec": {
   "display_name": "Python 2",
   "language": "python",
   "name": "python2"
  },
  "language_info": {
   "codemirror_mode": {
    "name": "ipython",
    "version": 2
   },
   "file_extension": ".py",
   "mimetype": "text/x-python",
   "name": "python",
   "nbconvert_exporter": "python",
   "pygments_lexer": "ipython2",
   "version": "2.7.11"
  }
 },
 "nbformat": 4,
 "nbformat_minor": 2
}
