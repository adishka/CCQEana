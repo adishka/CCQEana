{
 "cells": [
  {
   "cell_type": "markdown",
   "metadata": {},
   "source": [
    "# plot the migration matrices for all kinematical variables"
   ]
  },
  {
   "cell_type": "code",
   "execution_count": 1,
   "metadata": {
    "scrolled": false,
    "slideshow": {
     "slide_type": "skip"
    }
   },
   "outputs": [
    {
     "name": "stdout",
     "output_type": "stream",
     "text": [
      "versions:\n",
      "{   'Overlay': 'prodgenie_bnb_nu_uboone_overlay_mcc8.11_reco2',\n",
      "    'beam off': 'prod_reco_optfilter_extbnb_v12_mcc8_dev',\n",
      "    'beam on': 'prod_reco_optfilter_bnb_v12_unblind_mcc8',\n",
      "    'data date': '2018_08_16',\n",
      "    'overlay date': '2018_09_22'}\n",
      "OffBeam_scaling: 0.706302660161 = N(on beam)/N(off beam) before SwT\n",
      "f(POT): 0.051017899728 = N(POT on beam)/N(POT MC)\n"
     ]
    }
   ],
   "source": [
    "import sys; sys.path.insert(0, '../../../'); \n",
    "from ccqe_notebook_tools import * \n",
    "from mupClassification_notebooks import *\n",
    "from onbeam_offbeam_notebooks import *\n",
    "from Xsec_tools import *\n",
    "%matplotlib inline"
   ]
  },
  {
   "cell_type": "code",
   "execution_count": 37,
   "metadata": {},
   "outputs": [
    {
     "name": "stdout",
     "output_type": "stream",
     "text": [
      "Pmu: \n",
      "[0.1:0.3],[0.3:0.5],[0.5:0.7],[0.7:0.9],[0.9:1.1], \\\\ \n",
      "[1.1:1.3],[1.3:1.5] \\textrm{ GeV/c}\n",
      "Pp: \n",
      "[0.3:0.4],[0.4:0.5],[0.5:0.6],[0.6:0.7],[0.7:0.8], \\\\ \n",
      "[0.8:0.9],[0.9:1.0] \\textrm{ GeV/c}\n",
      "cos(theta(p)): \n",
      "[0.15:0.26],[0.26:0.37],[0.37:0.47],[0.47:0.58],[0.58:0.69], \\\\ \n",
      "[0.69:0.80],[0.80:0.95]\n",
      "cos(theta(mu)): \n",
      "[(-0.65):(-0.41)],[(-0.41):(-0.17)],[(-0.17):0.07],[0.07:0.32],[0.32:0.56], \\\\ \n",
      "[0.56:0.80],[0.80:0.95]\n",
      "phi(p): \n",
      "[(-180.0):(-128.6)],[(-128.6):(-77.1)],[(-77.1):(-25.7)],[(-25.7):25.7],[25.7:77.1], \\\\ \n",
      "[77.1:128.6],[128.6:180.0] \\textrm{ degrees}\n",
      "phi(mu): \n",
      "[(-180.0):(-128.6)],[(-128.6):(-77.1)],[(-77.1):(-25.7)],[(-25.7):25.7],[25.7:77.1], \\\\ \n",
      "[77.1:128.6],[128.6:180.0] \\textrm{ degrees}\n"
     ]
    }
   ],
   "source": [
    "for key,bins in zip(Bins.keys(),Bins.values()):\n",
    "    string = key + ': \\n'\n",
    "    for i in range(len(bins)-1):\n",
    "        if key=='Pmu' or key=='Pp':\n",
    "            str_bin_dw = '[%.1f'%bins[i]\n",
    "            str_bin_up = '%.1f]'%bins[i+1]\n",
    "        elif 'cos' in key:\n",
    "            str_bin_dw = '[%.2f'%bins[i] if bins[i]>0 else '[(%.2f)'%bins[i]\n",
    "            str_bin_up = '%.2f]'%bins[i+1] if bins[i+1]>0 else '(%.2f)]'%bins[i+1]\n",
    "        else:\n",
    "            str_bin_dw = '[%.1f'%bins[i] if bins[i]>0 else '[(%.1f)'%bins[i]\n",
    "            str_bin_up = '%.1f]'%bins[i+1] if bins[i+1]>0 else '(%.1f)]'%bins[i+1]\n",
    "        string += (str_bin_dw + ':'  + str_bin_up)\n",
    "        if i < len(bins)-2:\n",
    "            string += ','\n",
    "        if i == len(bins)/2:\n",
    "            string += ' \\\\\\ \\n'\n",
    "    if key=='Pmu' or key=='Pp':\n",
    "        string += ' \\\\textrm{ GeV/c}'\n",
    "    elif 'phi' in key:\n",
    "        string += ' \\\\textrm{ degrees}'\n",
    "    print string"
   ]
  },
  {
   "cell_type": "code",
   "execution_count": null,
   "metadata": {},
   "outputs": [],
   "source": []
  }
 ],
 "metadata": {
  "celltoolbar": "Slideshow",
  "kernelspec": {
   "display_name": "Python 2",
   "language": "python",
   "name": "python2"
  },
  "language_info": {
   "codemirror_mode": {
    "name": "ipython",
    "version": 2
   },
   "file_extension": ".py",
   "mimetype": "text/x-python",
   "name": "python",
   "nbconvert_exporter": "python",
   "pygments_lexer": "ipython2",
   "version": "2.7.11"
  }
 },
 "nbformat": 4,
 "nbformat_minor": 2
}
