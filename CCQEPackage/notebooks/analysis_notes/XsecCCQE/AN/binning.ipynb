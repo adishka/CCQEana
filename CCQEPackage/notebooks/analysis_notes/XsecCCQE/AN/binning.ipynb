{
 "cells": [
  {
   "cell_type": "markdown",
   "metadata": {},
   "source": [
    "# plot the migration matrices for all kinematical variables"
   ]
  },
  {
   "cell_type": "code",
   "execution_count": 1,
   "metadata": {
    "scrolled": false,
    "slideshow": {
     "slide_type": "skip"
    }
   },
   "outputs": [
    {
     "name": "stdout",
     "output_type": "stream",
     "text": [
      "versions:\n",
      "{   'OffBeam': 'prod_reco_optfilter_extbnb_v12_mcc8_dev',\n",
      "    'OnBeam': 'prod_reco_optfilter_bnb_v12_unblind_mcc8',\n",
      "    'Overlay': 'prodgenie_bnb_nu_uboone_overlay_mcc8.11_reco2',\n",
      "    'data date': '2018_05_11',\n",
      "    'date': '2018_05_11',\n",
      "    'overlay date': '2018_05_11'}\n",
      "OffBeam_scaling: 0.706302660161 = N(on beam)/N(off beam) before SwT\n",
      "f(POT): 0.0512441465374 = N(POT on beam)/N(POT MC)\n"
     ]
    }
   ],
   "source": [
    "import sys; sys.path.insert(0, '../../../'); \n",
    "from ccqe_notebook_tools import * \n",
    "from mupClassification_notebooks import *\n",
    "from onbeam_offbeam_notebooks import *\n",
    "from Xsec_tools import *\n",
    "%matplotlib inline"
   ]
  },
  {
   "cell_type": "code",
   "execution_count": 2,
   "metadata": {},
   "outputs": [
    {
     "name": "stdout",
     "output_type": "stream",
     "text": [
      "found selected_cosmic.csv, loading it...\n",
      "checked /Users/erezcohen/Desktop/uBoone/CCQEanalysis/Xsec/selected_events/prod_reco_optfilter_bnb_v12_unblind_mcc8_2018_08_16_selected_on_beam.csv and found the file...\n",
      "checked /Users/erezcohen/Desktop/uBoone/CCQEanalysis/Xsec/selected_events/prodgenie_bnb_nu_uboone_overlay_mcc8.11_reco2_2018_08_16_selected_genie_CC1p.csv and found the file...\n",
      "9819 selected CC1p events overlay\n"
     ]
    }
   ],
   "source": [
    "versions['overlay date'] = '2018_08_16'\n",
    "versions['Overlay'] = 'prodgenie_bnb_nu_uboone_overlay_mcc8.11_reco2'\n",
    "versions['data date'] = '2018_08_16'\n",
    "versions['beam on'] = 'prod_reco_optfilter_bnb_v12_unblind_mcc8'\n",
    "versions['beam off'] = 'prod_reco_optfilter_extbnb_v12_mcc8_dev'\n",
    "selected_overlay,selected_overlay_concat,selected_CC1p,genie_CC1p,selected_beam_on,selected_beam_off = load_mc_and_data()"
   ]
  },
  {
   "cell_type": "code",
   "execution_count": 6,
   "metadata": {},
   "outputs": [
    {
     "name": "stdout",
     "output_type": "stream",
     "text": [
      "{   'Pmu': array([ 0.1,  0.3,  0.5,  0.7,  0.9,  1.1,  1.3,  1.5]),\n",
      "    'Pp': array([ 0.3,  0.4,  0.5,  0.6,  0.7,  0.8,  0.9,  1. ]),\n",
      "    'cos(theta(mu))': array([-0.65  , -0.4083, -0.167 ,  0.075 ,  0.317 ,  0.5583,  0.8   ,  0.95  ]),\n",
      "    'cos(theta(p))': array([ 0.15  ,  0.2583,  0.366 ,  0.475 ,  0.583 ,  0.692 ,  0.8   ,  0.95  ]),\n",
      "    'phi(mu)': array([-180.        , -128.57142857,  -77.14285714,  -25.71428571,\n",
      "         25.71428571,   77.14285714,  128.57142857,  180.        ]),\n",
      "    'phi(p)': array([-180.        , -128.57142857,  -77.14285714,  -25.71428571,\n",
      "         25.71428571,   77.14285714,  128.57142857,  180.        ])}\n"
     ]
    }
   ],
   "source": [
    "pp.pprint(Bins)"
   ]
  },
  {
   "cell_type": "code",
   "execution_count": null,
   "metadata": {},
   "outputs": [],
   "source": []
  }
 ],
 "metadata": {
  "celltoolbar": "Slideshow",
  "kernelspec": {
   "display_name": "Python 2",
   "language": "python",
   "name": "python2"
  },
  "language_info": {
   "codemirror_mode": {
    "name": "ipython",
    "version": 2
   },
   "file_extension": ".py",
   "mimetype": "text/x-python",
   "name": "python",
   "nbconvert_exporter": "python",
   "pygments_lexer": "ipython2",
   "version": "2.7.11"
  }
 },
 "nbformat": 4,
 "nbformat_minor": 2
}
