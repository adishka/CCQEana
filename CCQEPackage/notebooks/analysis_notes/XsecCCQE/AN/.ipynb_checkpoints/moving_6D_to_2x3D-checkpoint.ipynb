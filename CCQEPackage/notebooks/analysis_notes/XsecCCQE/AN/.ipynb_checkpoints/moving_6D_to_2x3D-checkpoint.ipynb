{
 "cells": [
  {
   "cell_type": "markdown",
   "metadata": {},
   "source": [
    "# 4 cross-section extraction"
   ]
  },
  {
   "cell_type": "code",
   "execution_count": 3,
   "metadata": {
    "slideshow": {
     "slide_type": "skip"
    }
   },
   "outputs": [
    {
     "name": "stdout",
     "output_type": "stream",
     "text": [
      "versions:\n",
      "{   'OffBeam': 'prod_reco_optfilter_extbnb_v12_mcc8_dev',\n",
      "    'OnBeam': 'prod_reco_optfilter_bnb_v12_unblind_mcc8',\n",
      "    'Overlay': 'prodgenie_bnb_nu_uboone_overlay_mcc8.11_reco2',\n",
      "    'data date': '2018_05_11',\n",
      "    'date': '2018_05_11',\n",
      "    'overlay date': '2018_05_11'}\n",
      "OffBeam_scaling: 0.706302660161 = N(on beam)/N(off beam) before SwT\n",
      "f(POT): 0.0512441465374 = N(POT on beam)/N(POT MC)\n"
     ]
    }
   ],
   "source": [
    "import sys; sys.path.insert(0, '../../../'); \n",
    "from ccqe_notebook_tools import * \n",
    "from mupClassification_notebooks import *\n",
    "from onbeam_offbeam_notebooks import *\n",
    "from Xsec_tools import *\n",
    "%matplotlib inline"
   ]
  },
  {
   "cell_type": "code",
   "execution_count": 4,
   "metadata": {
    "scrolled": true
   },
   "outputs": [],
   "source": [
    "figures_path = '/Users/erezcohen/Desktop/Projects/uBoone/write-ups/XsecCCQE/Figures/overlay_8.11/Xsec_extraction/'"
   ]
  },
  {
   "cell_type": "code",
   "execution_count": 6,
   "metadata": {},
   "outputs": [
    {
     "name": "stdout",
     "output_type": "stream",
     "text": [
      "found selected_cosmic.csv, loading it...\n",
      "checked /Users/erezcohen/Desktop/uBoone/CCQEanalysis/Xsec/selected_events/prod_reco_optfilter_bnb_v12_unblind_mcc8_2018_08_16_selected_on_beam.csv and found the file...\n",
      "checked /Users/erezcohen/Desktop/uBoone/CCQEanalysis/Xsec/selected_events/prodgenie_bnb_nu_uboone_overlay_mcc8.11_reco2_2018_09_22_selected_genie_CC1p.csv and found the file...\n",
      "9538 selected CC1p events overlay\n"
     ]
    }
   ],
   "source": [
    "versions['overlay date'] = '2018_09_22'\n",
    "versions['Overlay'] = 'prodgenie_bnb_nu_uboone_overlay_mcc8.11_reco2'\n",
    "versions['data date'] = '2018_08_16'\n",
    "versions['beam on'] = 'prod_reco_optfilter_bnb_v12_unblind_mcc8'\n",
    "versions['beam off'] = 'prod_reco_optfilter_extbnb_v12_mcc8_dev'\n",
    "selected_overlay,selected_overlay_concat,selected_CC1p,genie_CC1p,selected_beam_on,selected_beam_off = load_mc_and_data()"
   ]
  },
  {
   "cell_type": "markdown",
   "metadata": {},
   "source": [
    "## events in 6D bins"
   ]
  },
  {
   "cell_type": "code",
   "execution_count": null,
   "metadata": {},
   "outputs": [],
   "source": [
    "def get_sam_in_bin(sam\n",
    "                   ,Pmu_min,Pmu_max,Pmu_cos_theta_min,Pmu_cos_theta_max,Pmu_phi_min,Pmu_phi_max\n",
    "                   ,Pp_min,Pp_max,Pp_cos_theta_min,Pp_cos_theta_max,Pp_phi_min,Pp_phi_max):\n",
    "    return sam[ (Pmu_min<sam['reco_Pmu_mcs'])\n",
    "                                             &(sam['reco_Pmu_mcs']<Pmu_max)\n",
    "                                             &(Pmu_cos_theta_min<sam['reco_Pmu_cos_theta'])\n",
    "                                             &(sam['reco_Pmu_cos_theta']<Pmu_cos_theta_max)\n",
    "                                             &(Pmu_phi_min<180./np.pi*sam['reco_Pmu_mcs_phi'])\n",
    "                                             &(180./np.pi*sam['reco_Pmu_mcs_phi']<Pmu_phi_max)\n",
    "                                             \n",
    "                                             &(Pp_min<sam['reco_Pp'])\n",
    "                                             &(sam['reco_Pp']<Pp_max)\n",
    "                                             &(Pp_cos_theta_min<sam['reco_Pp_cos_theta'])\n",
    "                                             &(sam['reco_Pp_cos_theta']<Pp_cos_theta_max)\n",
    "                                             &(Pp_phi_min<180./np.pi*sam['reco_Pp_phi'])\n",
    "                                             &(180./np.pi*sam['reco_Pp_phi']<Pp_phi_max)\n",
    "                                            ]\n",
    "\n",
    "# for key in Limits.keys(): Bins[key] = np.linspace(Limits[key][0],Limits[key][1],NBins+1)\n",
    "\n",
    "def create_table_of_events_in_bins(sam_data=None,sam_mc_all_cuts=None):\n",
    "    Ndata_in_bin_array,Nmc_all_cuts_in_bin_array = [],[]\n",
    "    for i_Pmu in range(len(Bins['Pmu'][:-1])):\n",
    "        Pmu_min,Pmu_max = Bins['Pmu'][i_Pmu],Bins['Pmu'][i_Pmu+1]\n",
    "        print 'i_Pmu:',i_Pmu\n",
    "        for i_Pmu_cos_theta in range(len(Bins['cos(theta(mu))'][:-1])):\n",
    "            Pmu_cos_theta_min,Pmu_cos_theta_max = Bins['cos(theta(mu))'][i_Pmu_cos_theta],Bins['cos(theta(mu))'][i_Pmu_cos_theta+1]\n",
    "            print 'i_Pmu_cos_theta:',i_Pmu_cos_theta\n",
    "            for i_Pmu_phi in range(len(Bins['phi(mu)'][:-1])):\n",
    "                Pmu_phi_min,Pmu_phi_max = Bins['phi(mu)'][i_Pmu_phi],Bins['phi(mu)'][i_Pmu_phi+1]\n",
    "                print 'i_Pmu_phi:',i_Pmu_phi                \n",
    "                for i_Pp in range(len(Bins['Pp'][:-1])):\n",
    "                    Pp_min,Pp_max = Bins['Pp'][i_Pp],Bins['Pp'][i_Pp+1]\n",
    "                    print 'i_Pp:',i_Pp\n",
    "                    for i_Pp_cos_theta in range(len(Bins['cos(theta(p))'][:-1])):\n",
    "                        Pp_cos_theta_min,Pp_cos_theta_max = Bins['cos(theta(p))'][i_Pp_cos_theta],Bins['cos(theta(p))'][i_Pp_cos_theta+1]\n",
    "                        print 'i_Pp_cos_theta:',i_Pp_cos_theta            \n",
    "                        for i_Pp_phi in range(len(Bins['phi(p)'][:-1])):\n",
    "                            Pp_phi_min,Pp_phi_max = Bins['phi(p)'][i_Pp_phi],Bins['phi(p)'][i_Pp_phi+1]                            \n",
    "                            print 'i_Pp_phi:',i_Pp_phi            \n",
    "                            \n",
    "                            data_in_bin = get_sam_in_bin(sam_data\n",
    "                                                             ,Pmu_min,Pmu_max,Pmu_cos_theta_min,Pmu_cos_theta_max,Pmu_phi_min,Pmu_phi_max\n",
    "                                                             ,Pp_min,Pp_max,Pp_cos_theta_min,Pp_cos_theta_max,Pp_phi_min,Pp_phi_max)\n",
    "                            mc_all_cuts = get_sam_in_bin(sam_mc_all_cuts\n",
    "                                                             ,Pmu_min,Pmu_max,Pmu_cos_theta_min,Pmu_cos_theta_max,Pmu_phi_min,Pmu_phi_max\n",
    "                                                             ,Pp_min,Pp_max,Pp_cos_theta_min,Pp_cos_theta_max,Pp_phi_min,Pp_phi_max)\n",
    "\n",
    "                            if len(data_in_bin)>0:\n",
    "                                Ndata_in_bin_array.append(len(data_in_bin))\n",
    "                                Nmc_all_cuts_in_bin_array.append(len(mc_all_cuts))\n",
    "    print 'done.'\n",
    "    return np.array(Ndata_in_bin_array),np.array(Nmc_all_cuts_in_bin_array)"
   ]
  },
  {
   "cell_type": "code",
   "execution_count": null,
   "metadata": {},
   "outputs": [],
   "source": [
    "res = create_table_of_events_in_bins(sam_data=selected_beam_on\n",
    "                                     ,sam_mc_all_cuts=selected_CC1p)\n",
    "Ndata_in_bin_array,Nmc_detector_cuts_in_bin_array,Nmc_all_cuts_in_bin_array = res\n"
   ]
  },
  {
   "cell_type": "code",
   "execution_count": null,
   "metadata": {},
   "outputs": [],
   "source": [
    "fig=plt.figure(figsize=(20,8))\n",
    "ax=fig.add_subplot(1,2,1)\n",
    "plot_discrete_histogram(data=Ndata_in_bin_array,histtype='step',linewidth=3,color=Colors['beam on'])\n",
    "set_axes(ax,r'$N_{pairs}$','number of bins',do_add_legend=True,title=r'$N_{pairs}$ in non-empty bins in data ($5^6$ bins)')\n",
    "\n",
    "ax=fig.add_subplot(1,2,2)\n",
    "plot_discrete_histogram(data=Nmc_all_cuts_in_bin_array,histtype='step',linewidth=3,color='royalblue',label='detector+kinematical cuts')\n",
    "set_axes(ax,r'$N_{pairs}$','number of bins',do_add_legend=False,title=r'$N_{pairs}$ in non-empty bins in overlay ($5^6$ bins)',xlim=(-1,40))\n",
    "\n",
    "plt.tight_layout()\n",
    "save_figure(figures_path + 'Npairs_in_6d_bins.pdf')"
   ]
  }
 ],
 "metadata": {
  "celltoolbar": "Slideshow",
  "kernelspec": {
   "display_name": "Python 2",
   "language": "python",
   "name": "python2"
  },
  "language_info": {
   "codemirror_mode": {
    "name": "ipython",
    "version": 2
   },
   "file_extension": ".py",
   "mimetype": "text/x-python",
   "name": "python",
   "nbconvert_exporter": "python",
   "pygments_lexer": "ipython2",
   "version": "2.7.11"
  }
 },
 "nbformat": 4,
 "nbformat_minor": 2
}
