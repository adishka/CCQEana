{
 "cells": [
  {
   "cell_type": "markdown",
   "metadata": {},
   "source": [
    "# cross-section results\n",
    "after applying the correction for $\\phi_\\mu \\sim 0$ and $\\phi_p \\sim 0$"
   ]
  },
  {
   "cell_type": "code",
   "execution_count": 1,
   "metadata": {
    "scrolled": false,
    "slideshow": {
     "slide_type": "skip"
    }
   },
   "outputs": [
    {
     "name": "stdout",
     "output_type": "stream",
     "text": [
      "versions:\n",
      "{   'Overlay': 'prodgenie_bnb_nu_uboone_overlay_mcc8.11_reco2',\n",
      "    'beam off': 'prod_reco_optfilter_extbnb_v12_mcc8_dev',\n",
      "    'beam on': 'prod_reco_optfilter_bnb_v12_unblind_mcc8',\n",
      "    'data date': '2018_08_16',\n",
      "    'overlay date': '2018_09_22'}\n",
      "OffBeam_scaling: 0.706302660161 = N(on beam)/N(off beam) before SwT\n",
      "f(POT): 0.051017899728 = N(POT on beam)/N(POT MC)\n"
     ]
    }
   ],
   "source": [
    "import sys; sys.path.insert(0, '../../../'); \n",
    "from ccqe_notebook_tools import * \n",
    "from mupClassification_notebooks import *\n",
    "from onbeam_offbeam_notebooks import *\n",
    "from Xsec_tools import *\n",
    "%matplotlib inline"
   ]
  },
  {
   "cell_type": "code",
   "execution_count": 2,
   "metadata": {
    "scrolled": true
   },
   "outputs": [],
   "source": [
    "figures_path = '/Users/erezcohen/Desktop/Projects/uBoone/write-ups/XsecCCQE/Figures/overlay_8.11/Xsec_results/'"
   ]
  },
  {
   "cell_type": "code",
   "execution_count": 3,
   "metadata": {},
   "outputs": [
    {
     "name": "stdout",
     "output_type": "stream",
     "text": [
      "found selected_cosmic.csv, loading it...\n",
      "checked /Users/erezcohen/Desktop/uBoone/CCQEanalysis/Xsec/selected_events/prod_reco_optfilter_bnb_v12_unblind_mcc8_2018_08_16_selected_on_beam.csv and found the file...\n",
      "checked /Users/erezcohen/Desktop/uBoone/CCQEanalysis/Xsec/selected_events/prodgenie_bnb_nu_uboone_overlay_mcc8.11_reco2_2018_09_22_selected_genie_CC1p.csv and found the file...\n",
      "9538 selected CC1p events overlay\n"
     ]
    }
   ],
   "source": [
    "selected_overlay,selected_overlay_concat,selected_CC1p,genie_CC1p,selected_beam_on,selected_beam_off = load_mc_and_data()"
   ]
  },
  {
   "cell_type": "markdown",
   "metadata": {},
   "source": [
    "# apply the efficiency weights - if they were not computed yet"
   ]
  },
  {
   "cell_type": "code",
   "execution_count": 4,
   "metadata": {},
   "outputs": [
    {
     "name": "stdout",
     "output_type": "stream",
     "text": [
      "Pmu weights already exist\n"
     ]
    }
   ],
   "source": [
    "if ((\"Pmu weight\" not in selected_beam_on.columns) \n",
    "    or (\"Pmu weight\" not in selected_beam_off.columns)    \n",
    "    or (\"Pmu weight\" not in selected_CC1p.columns)\n",
    "    or (\"Pmu weight\" not in selected_overlay_concat.columns)):\n",
    "    \n",
    "    print 'no Pmu weights, computing them'\n",
    "    compute_eff_weights(   beam_on=selected_beam_on,\n",
    "                           beam_off=selected_beam_off,                       \n",
    "                           generated_CC1p=genie_CC1p,                       \n",
    "                           selected_CC1p=selected_CC1p ,                       \n",
    "                           overlay=selected_overlay_concat) \n",
    "    \n",
    "    overlay_prefix = Paths['selected events'] + versions['Overlay'] + '_' + versions['overlay date'] + '_'\n",
    "    data_prefix = Paths['selected events'] + versions['beam on'] + '_' + versions['data date'] + '_'\n",
    "    for sam,name,prefix in zip([selected_overlay_concat,selected_CC1p,selected_beam_on,selected_beam_off]                       \n",
    "                               ,['overlay','CC1p','beam_on','beam_off']\n",
    "                               ,[overlay_prefix,overlay_prefix,data_prefix,data_prefix]):\n",
    "        outcsvname = prefix+'selected_'+name+'.csv'\n",
    "        sam.to_csv(outcsvname)\n",
    "        print 'saved ',len(sam),'selected '+name+' events to',outcsvname    \n",
    "    print 'done assiging Pmu weights and saving the files.'\n",
    "else:\n",
    "     print 'Pmu weights already exist'"
   ]
  },
  {
   "cell_type": "code",
   "execution_count": 5,
   "metadata": {},
   "outputs": [
    {
     "name": "stdout",
     "output_type": "stream",
     "text": [
      "Pp weights already exist\n"
     ]
    }
   ],
   "source": [
    "if ((\"Pp weight\" not in selected_beam_on.columns) \n",
    "    or (\"Pp weight\" not in selected_beam_off.columns)    \n",
    "    or (\"Pp weight\" not in selected_CC1p.columns)\n",
    "    or (\"Pp weight\" not in selected_overlay_concat.columns)):\n",
    "    \n",
    "    print 'no Pp weights, computing them'\n",
    "    compute_eff_weights(   beam_on=selected_beam_on,\n",
    "                           beam_off=selected_beam_off,                       \n",
    "                           generated_CC1p=genie_CC1p,                       \n",
    "                           selected_CC1p=selected_CC1p ,                       \n",
    "                           overlay=selected_overlay_concat\n",
    "                        ,ob_1='Pp',ob_2='cos(theta(p))',ob_3='phi(p)'                       \n",
    "                        ,reco_1='reco_Pp',reco_2='reco_Pp_cos_theta',reco_3='reco_Pp_phi'                       \n",
    "                        ,true_1='truth_Pp',true_2='truth_Pp_cos_theta',true_3='truth_Pp_phi') \n",
    "    \n",
    "    overlay_prefix = Paths['selected events'] + versions['Overlay'] + '_' + versions['overlay date'] + '_'\n",
    "    data_prefix = Paths['selected events'] + versions['beam on'] + '_' + versions['data date'] + '_'\n",
    "    for sam,name,prefix in zip([selected_overlay_concat,selected_CC1p,selected_beam_on,selected_beam_off]                       \n",
    "                               ,['overlay','CC1p','beam_on','beam_off']\n",
    "                               ,[overlay_prefix,overlay_prefix,data_prefix,data_prefix]):\n",
    "        outcsvname = prefix+'selected_'+name+'.csv'\n",
    "        sam.to_csv(outcsvname)\n",
    "        print 'saved ',len(sam),'selected '+name+' events to',outcsvname    \n",
    "    print 'done assiging Pp weights and saving the files.'\n",
    "else:\n",
    "     print 'Pp weights already exist'"
   ]
  },
  {
   "cell_type": "markdown",
   "metadata": {},
   "source": [
    "## Draw the cross-sections"
   ]
  },
  {
   "cell_type": "code",
   "execution_count": 6,
   "metadata": {},
   "outputs": [],
   "source": [
    "genie_labels = ['GENIE(nominal)','GENIE(hA2015)','GENIE(SRC+hA)','GENIE(Tune3+hA)']"
   ]
  },
  {
   "cell_type": "code",
   "execution_count": 7,
   "metadata": {},
   "outputs": [
    {
     "name": "stdout",
     "output_type": "stream",
     "text": [
      "loaded 25833 afro GENIE CC1p nominal events\n",
      "loaded 25918 afro GENIE CC1p hA2015 events\n",
      "loaded 23167 afro GENIE CC1p hA_SRC events\n",
      "loaded 27348 afro GENIE CC1p hA_Tune3 events\n",
      "done loading afro GENIE files\n"
     ]
    }
   ],
   "source": [
    "afro_genie_CC1p_dict = dict()\n",
    "path = '/Users/erezcohen/Desktop/uBoone/CCQEanalysis/afro_genie_samples/'\n",
    "genie_list = ['nominal','hA2015','hA_SRC','hA_Tune3']#,'hN2015'\n",
    "genie_labels = ['GENIE(nominal)','GENIE(hA2015)','GENIE(SRC+hA)','GENIE(Tune3+hA)']\n",
    "for gname in genie_list: \n",
    "    csvfilename = Paths['selected events'] + 'afro_genie_CC1p_' + gname + '.csv'\n",
    "    if os.path.isfile( csvfilename ):#{\n",
    "        afro_genie_CC1p_dict[gname] = pd.read_csv(csvfilename)\n",
    "        print 'loaded',len(afro_genie_CC1p_dict[gname]),'afro GENIE CC1p '+gname+' events'\n",
    "    #}\n",
    "    else: #{\n",
    "        afro_genie = pd.read_csv( path + 'CC_4_9E20_POT_mA_0_99'+'_'+gname+'.csv')\n",
    "        print 'loaded',gname\n",
    "        afro_genie_contained = afro_genie[(afro_genie.IsCC_1p_200MeVc==True)\n",
    "                            & ((afro_genie.v_x>3) & (afro_genie.v_x<256))                        \n",
    "                            & ((afro_genie.v_y>-115) & (afro_genie.v_y<115))                        \n",
    "                            & ((afro_genie.v_z>5) & (afro_genie.v_z<1037))                        \n",
    "                           ]\n",
    "        afro_genie_in_limits = sample_in_limits(sam=afro_genie_contained\n",
    "                                       ,varPmu='truth_Pmu',varPmu_cos_theta='truth_Pmu_cos_theta'\n",
    "                                       ,varPp='truth_Pp',varPp_cos_theta='truth_Pp_cos_theta')\n",
    "        afro_genie_CC1p = afro_genie_in_limits[afro_genie_in_limits['IsCC_1p_200MeVc']==True]\n",
    "        print len(afro_genie_CC1p),'afro GENIE CC1p'\n",
    "        afro_genie_CC1p_in_cuts = afro_genie_CC1p[(np.abs(afro_genie_CC1p['theta_12']-90)<delta_theta_12)\n",
    "                                                  &(afro_genie_CC1p['Pt']<Pt_max)\n",
    "                                                  &(np.abs(afro_genie_CC1p['delta_phi']-180.)<delta_Delta_phi)]\n",
    "        print len(afro_genie_CC1p_in_cuts),'afro GENIE CC1p in kinematical cuts'\n",
    "        csvfilename = Paths['selected events'] + 'afro_genie_CC1p_' + gname + '.csv'\n",
    "        afro_genie_CC1p_in_cuts.to_csv(csvfilename)\n",
    "        print 'saved ',len(afro_genie_CC1p_in_cuts),'afro GENIE CC1p '+gname+' events to',csvfilename    \n",
    "        afro_genie_CC1p_dict[gname] = afro_genie_CC1p_in_cuts    \n",
    "    #}\n",
    "print 'done loading afro GENIE files'"
   ]
  },
  {
   "cell_type": "code",
   "execution_count": 17,
   "metadata": {},
   "outputs": [],
   "source": [
    "def draw_Xsecs(do_add_afro_genie = True, do_corr_phi_0=False, debug=0, particle='mu',\n",
    "               do_P=True, do_cos_theta=True, do_phi=True,\n",
    "               do_add_beam_on=False):\n",
    "\n",
    "    Xsec_with_last_cos_theta_mu_bin = get_Xsecs(do_corr_phi_0=do_corr_phi_0, debug=debug, particle=particle,\n",
    "                                                do_P=do_P, do_cos_theta=do_cos_theta, do_phi=do_phi,                                                                      \n",
    "                                                selected_beam_on=selected_beam_on,selected_beam_off=selected_beam_off,                                                \n",
    "                                                selected_overlay_concat=selected_overlay_concat,selected_CC1p=selected_CC1p)\n",
    "    Xsec_without_last_cos_theta_mu_bin = get_Xsecs(do_corr_phi_0=do_corr_phi_0, debug=debug, particle=particle,\n",
    "                                                   do_P=do_P, do_cos_theta=do_cos_theta, do_phi=do_phi,\n",
    "                                                  remove_last_cos_theta_mu_bin=True,                                                 \n",
    "                                                  selected_beam_on=selected_beam_on,selected_beam_off=selected_beam_off,\n",
    "                                                  selected_overlay_concat=selected_overlay_concat,selected_CC1p=selected_CC1p)\n",
    "    genie_Xsecs = dict()\n",
    "    Sigmas_Summary = dict()\n",
    "    figurename = 'Xsec_1D_P'+particle \n",
    "    for iXsec,(Xsec_dict,do_cos_theta,Xsec_title,Xsec_name) in enumerate(zip([Xsec_with_last_cos_theta_mu_bin,Xsec_without_last_cos_theta_mu_bin]                                                   \n",
    "                                                                  ,[True,False]\n",
    "                                                                  ,[r'with last $\\cos\\theta_\\mu$ bin',r'excluding last $\\cos\\theta_\\mu$ bin']\n",
    "                                                                  ,['with_last_Pmu_cos_theta_bin','without_last_Pmu_cos_theta_bin'])):\n",
    "        fig=plt.figure(figsize=(24,8))            \n",
    "        for i,(observable,true,ivar,do_var) in enumerate(zip(['P'+particle,'cos(theta('+particle+'))','phi('+particle+')']                                                        \n",
    "                                                                 ,['truth_P'+particle,'truth_P'+particle+'_cos_theta','truth_P'+particle+'_phi']\n",
    "                                                                 ,[(1,4),(2,5),(3,6)]\n",
    "                                                                 ,[do_P,do_cos_theta,do_phi])):\n",
    "            if do_var==False: continue\n",
    "            if debug: print observable\n",
    "            var,bins,mid,bin_width,vlabel,xlabel,units = get_labels(observable=observable)\n",
    "            mul = 180./np.pi if 'phi' in observable else 1\n",
    "            h = dict()\n",
    "            h['Xsec'],h['Xsec err'] = Xsec_dict[observable],Xsec_dict[observable+' err']\n",
    "            h['mc Xsec'],h['mc Xsec err'] = Xsec_dict['mc '+observable], Xsec_dict['mc '+observable+' err']\n",
    "\n",
    "            ax = fig.add_subplot(3,3,ivar)\n",
    "            plt.errorbar(x=mid,xerr=0.5*bin_width,y=h['Xsec'],yerr=h['Xsec err'],color=Colors['beam on'],fmt='o',label='data')\n",
    "            ax.bar( x=mid , height=2*h['mc Xsec err'], bottom=h['mc Xsec']-h['mc Xsec err'], width=bin_width, color=Colors['CC1p'],label='overlay') \n",
    "            if do_add_afro_genie:#{\n",
    "                for gname,ls,glabel in zip(genie_list,['-','--','-.',':'],genie_labels):#{\n",
    "                    afro_genie_CC1p = afro_genie_CC1p_dict[gname]  \n",
    "                    if iXsec==1: afro_genie_CC1p = afro_genie_CC1p[afro_genie_CC1p['truth_Pmu_cos_theta']<Bins['cos(theta(mu))'][-2]]\n",
    "                    if i==0:#{\n",
    "                        afro_Xsec,afro_Xsec_err = compute_Xsec(Non=len(afro_genie_CC1p), Non_err=np.sqrt(len(afro_genie_CC1p)))\n",
    "                        genie_Xsecs[gname] = afro_Xsec*4.908e19/4.9e20\n",
    "                        genie_Xsecs[gname+' err'] = afro_Xsec_err*4.908e19/4.9e20\n",
    "                    #}\n",
    "                    h_genie,_ = np.histogram(mul*afro_genie_CC1p[true],bins=bins)\n",
    "                    h_genie_err = np.sqrt(h_genie)\n",
    "                    genie_Xsec,genie_Xsec_err = np.zeros((len(bins)-1)), np.zeros((len(bins)-1))\n",
    "                    for i_bin in range(len(bins)-1):\n",
    "                        genie_Xsec[i_bin],genie_Xsec_err[i_bin] = compute_Xsec(Non=h_genie[i_bin]*4.908e19/4.9e20, Non_err=h_genie_err[i_bin]*4.908e19/4.9e20,\n",
    "                                                                               eff=1, bin_width=bin_width[i_bin] )\n",
    "                    mystep(x=mid ,x_width=bin_width, y=genie_Xsec, y_width=genie_Xsec_err,\n",
    "                           color='black',linestyle=ls,linewidth=3,label=glabel)\n",
    "                #}\n",
    "            #}\n",
    "            set_axes(ax,'',y_label=(r'$\\frac{d\\sigma}{d'+vlabel+'}$' \n",
    "                                        +(r'$\\left[10^{-39} \\frac{cm^{2}}{%s}\\right]$'%units if units is not None \n",
    "                                          else r'$\\left[10^{-39}cm^{2}\\right]$'))\n",
    "                         ,do_add_grid=True,remove_ticks_x=True,do_add_legend=True if 'Pmu_cos_theta' in var else False\n",
    "                         ,ylim=(0,1.1*np.max(ax.get_ylim()))\n",
    "                        )\n",
    "            plt.title(Xsec_title, y=1.02,fontsize=25)\n",
    "                    \n",
    "            # depict a line simboling the removal of the last cos(theta) bin\n",
    "            if 'Pmu_cos_theta' in var: plt.plot([bins[-2],bins[-2]],ax.get_ylim(),'--',color='black')\n",
    "\n",
    "            # residuals plot\n",
    "            den, den_err = h['Xsec']-h['mc Xsec'],np.sqrt(np.square(h['Xsec err'])+np.square(h['mc Xsec err']))\n",
    "            num, num_err = h['Xsec'],h['mc Xsec err']\n",
    "            ratio = den/num\n",
    "            ax = fig.add_subplot(3,3,7+i)\n",
    "            ratio_err = ratio*np.sqrt(np.square(den_err/den) + np.square(num_err/num))\n",
    "            plt.errorbar(x=mid,xerr=0.5*bin_width,y=ratio,yerr=ratio_err,fmt='o',markersize=0,color='black')\n",
    "            chi2,ndf = chi2_two_data_curves(h1=h['Xsec'],h1err=h['Xsec err'],h2=h['mc Xsec'],h2err=h['mc Xsec err'],bins=bins,debug=0)\n",
    "            set_axes(ax,xlabel,y_label=r'(data-mc)/data',do_add_grid=True)\n",
    "            plt.plot([np.min(bins),np.max(bins)],[0,0],'--',color='royalblue')\n",
    "            plt.title(r'$\\chi^2/ndf=%.2f/%d$'%(chi2,ndf), fontsize=20,y=0.80)\n",
    "\n",
    "            # depict a line simboling the removal of the last cos(theta) bin\n",
    "            if 'Pmu_cos_theta' in var: plt.plot([bins[-2],bins[-2]],ax.get_ylim(),'--',color='black')\n",
    "                    \n",
    "            # add text in the middle ax: the integrated cross sections\n",
    "            Sigmas = [Xsec_dict['integrated Xsec'],Xsec_dict['mc Xsec'],genie_Xsecs['nominal'],genie_Xsecs['hA2015'],genie_Xsecs['hA_SRC'],genie_Xsecs['hA_Tune3']]\n",
    "            Sigmas_err = [Xsec_dict['integrated Xsec err'],Xsec_dict['mc Xsec err'],genie_Xsecs['nominal err'],genie_Xsecs['hA2015 err'],genie_Xsecs['hA_SRC err'],genie_Xsecs['hA_Tune3 err']]\n",
    "            Sigmas_Summary[Xsec_name] = (Sigmas,Sigmas_err)\n",
    "                \n",
    "            Slabels = ['','overlay','GENIE(nominal)','GENIE(hA2015)','GENIE(SRC+hA)','GENIE(Tune3+hA)']\n",
    "            Scolors = [Colors['beam on'],Colors['CC1p'],'black','black','black','black']\n",
    "                 \n",
    "            if iXsec==1:\n",
    "                for jXsec,jax,jtitle,jXsec_name in zip([0,1],[2,8],\n",
    "                                                           [r'excluding last $\\cos\\theta_\\mu$ bin',r'with last $\\cos\\theta_\\mu$ bin'],\n",
    "                                                           ['without_last_Pmu_cos_theta_bin','with_last_Pmu_cos_theta_bin']):\n",
    "                    Sigmas,Sigmas_err = Sigmas_Summary[jXsec_name]\n",
    "                    ax=fig.add_subplot(3,3,jax)\n",
    "                    for iSigma,(Sigma,Sigma_err,label,color) in enumerate(zip(Sigmas,Sigmas_err,Slabels,Scolors)):\n",
    "                        plt.text(0.01,0.85-0.15*iSigma\n",
    "                                     ,r'$\\sigma_{'+label+r'} =(%.2f \\pm %.2f) \\times 10^{-39}$ cm$^2$'%(Sigma,Sigma_err)\n",
    "                                     ,color=color,fontsize=20)\n",
    "                    set_axes(ax,'',ticks_color='white',title=jtitle)\n",
    "\n",
    "        plt.tight_layout(h_pad=0.0)\n",
    "        plt.subplots_adjust(hspace=0.05)\n",
    "        save_figure(figures_path + figurename + '_' + Xsec_name + '.pdf')\n",
    "    return Xsec_with_last_cos_theta_mu_bin,Xsec_without_last_cos_theta_mu_bin"
   ]
  },
  {
   "cell_type": "code",
   "execution_count": null,
   "metadata": {},
   "outputs": [],
   "source": [
    "draw_Xsecs(do_add_afro_genie = True,do_corr_phi_0=True,debug=0,particle='mu',do_P=True,do_phi=True);"
   ]
  },
  {
   "cell_type": "code",
   "execution_count": null,
   "metadata": {},
   "outputs": [],
   "source": [
    "draw_Xsecs(do_add_afro_genie = True,do_corr_phi_0=True,debug=0,particle='p',do_P=True,do_phi=True);"
   ]
  },
  {
   "cell_type": "code",
   "execution_count": null,
   "metadata": {},
   "outputs": [],
   "source": []
  }
 ],
 "metadata": {
  "celltoolbar": "Slideshow",
  "kernelspec": {
   "display_name": "Python 2",
   "language": "python",
   "name": "python2"
  },
  "language_info": {
   "codemirror_mode": {
    "name": "ipython",
    "version": 2
   },
   "file_extension": ".py",
   "mimetype": "text/x-python",
   "name": "python",
   "nbconvert_exporter": "python",
   "pygments_lexer": "ipython2",
   "version": "2.7.11"
  }
 },
 "nbformat": 4,
 "nbformat_minor": 2
}
