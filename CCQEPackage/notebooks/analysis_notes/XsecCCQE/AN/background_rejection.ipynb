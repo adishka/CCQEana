{
 "cells": [
  {
   "cell_type": "markdown",
   "metadata": {},
   "source": [
    "# background subtrction and event selection"
   ]
  },
  {
   "cell_type": "code",
   "execution_count": 1,
   "metadata": {
    "slideshow": {
     "slide_type": "skip"
    }
   },
   "outputs": [
    {
     "name": "stdout",
     "output_type": "stream",
     "text": [
      "versions:\n",
      "{   'OffBeam': 'prod_reco_optfilter_extbnb_v12_mcc8_dev',\n",
      "    'OnBeam': 'prod_reco_optfilter_bnb_v12_unblind_mcc8',\n",
      "    'Overlay': 'prodgenie_bnb_nu_uboone_overlay_mcc8.11_reco2',\n",
      "    'data date': '2018_05_11',\n",
      "    'date': '2018_05_11',\n",
      "    'overlay date': '2018_05_11'}\n",
      "OffBeam_scaling: 0.706302660161 = N(on beam)/N(off beam) before SwT\n",
      "f(POT): 0.0512441465374 = N(POT on beam)/N(POT MC)\n"
     ]
    }
   ],
   "source": [
    "import sys; sys.path.insert(0, '../../../'); \n",
    "from ccqe_notebook_tools import * \n",
    "from mupClassification_notebooks import *\n",
    "from onbeam_offbeam_notebooks import *\n",
    "from Xsec_tools import *\n",
    "%matplotlib inline"
   ]
  },
  {
   "cell_type": "code",
   "execution_count": 2,
   "metadata": {
    "scrolled": true
   },
   "outputs": [],
   "source": [
    "figures_path = '/Users/erezcohen/Desktop/Projects/uBoone/write-ups/XsecCCQE/Figures/overlay_8.11/kinematical_reconstruction/'"
   ]
  },
  {
   "cell_type": "code",
   "execution_count": 3,
   "metadata": {},
   "outputs": [
    {
     "name": "stdout",
     "output_type": "stream",
     "text": [
      "found selected_cosmic.csv, loading it...\n",
      "checked /Users/erezcohen/Desktop/uBoone/CCQEanalysis/Xsec/selected_events/prod_reco_optfilter_bnb_v12_unblind_mcc8_2018_08_16_selected_on_beam.csv and found the file...\n",
      "checked /Users/erezcohen/Desktop/uBoone/CCQEanalysis/Xsec/selected_events/prodgenie_bnb_nu_uboone_overlay_mcc8.11_reco2_2018_09_22_selected_genie_CC1p.csv and found the file...\n",
      "9538 selected CC1p events overlay\n"
     ]
    }
   ],
   "source": [
    "versions['overlay date'] = '2018_09_22'\n",
    "versions['Overlay'] = 'prodgenie_bnb_nu_uboone_overlay_mcc8.11_reco2'\n",
    "versions['data date'] = '2018_08_16'\n",
    "versions['beam on'] = 'prod_reco_optfilter_bnb_v12_unblind_mcc8'\n",
    "versions['beam off'] = 'prod_reco_optfilter_extbnb_v12_mcc8_dev'\n",
    "selected_overlay,selected_overlay_concat,selected_CC1p,genie_CC1p,selected_beam_on,selected_beam_off = load_mc_and_data()"
   ]
  },
  {
   "cell_type": "markdown",
   "metadata": {},
   "source": [
    "### a list of the selected events"
   ]
  },
  {
   "cell_type": "code",
   "execution_count": 4,
   "metadata": {},
   "outputs": [
    {
     "name": "stdout",
     "output_type": "stream",
     "text": [
      "462.0 +/- 21.5 beam-on after POT normalization\n",
      "10.6 +/- 2.7 beam-off after POT normalization\n",
      "621.4 +/- 5.6 overlay after POT normalization\n",
      "488.8 +/- 5.0 \\CCIpOpi after POT normalization\n"
     ]
    }
   ],
   "source": [
    "samples = [selected_beam_on,selected_beam_off,selected_overlay_concat,selected_CC1p]\n",
    "names = ['beam-on','beam-off','overlay',r'\\CCIpOpi']\n",
    "scalings = [1,OffBeam_scaling,Nevents['f(POT)'],Nevents['f(POT)']]\n",
    "         \n",
    "N,N_err = dict(),dict()\n",
    "Nnormed,Nnormed_err = dict(),dict()\n",
    "for sample,pair_type,scaling in zip(samples,names,scalings):\n",
    "    N[pair_type] = float(len(sample))\n",
    "    N_err[pair_type] = np.sqrt(N[pair_type])\n",
    "    Nnormed[pair_type] = N[pair_type]*scaling\n",
    "    Nnormed_err[pair_type] = N_err[pair_type]*scaling\n",
    "    print '%.1f +/- %.1f'%(Nnormed[pair_type],Nnormed_err[pair_type]),pair_type,'after POT normalization'    "
   ]
  },
  {
   "cell_type": "code",
   "execution_count": 5,
   "metadata": {},
   "outputs": [
    {
     "data": {
      "text/html": [
       "<div>\n",
       "<style>\n",
       "    .dataframe thead tr:only-child th {\n",
       "        text-align: right;\n",
       "    }\n",
       "\n",
       "    .dataframe thead th {\n",
       "        text-align: left;\n",
       "    }\n",
       "\n",
       "    .dataframe tbody tr th {\n",
       "        vertical-align: top;\n",
       "    }\n",
       "</style>\n",
       "<table border=\"1\" class=\"dataframe\">\n",
       "  <thead>\n",
       "    <tr style=\"text-align: right;\">\n",
       "      <th></th>\n",
       "      <th>N</th>\n",
       "      <th>N_err</th>\n",
       "      <th>Nnormed</th>\n",
       "      <th>Nnormed_err</th>\n",
       "    </tr>\n",
       "  </thead>\n",
       "  <tbody>\n",
       "    <tr>\n",
       "      <th>beam-on</th>\n",
       "      <td>462.0</td>\n",
       "      <td>21.494185</td>\n",
       "      <td>462.000000</td>\n",
       "      <td>21.494185</td>\n",
       "    </tr>\n",
       "    <tr>\n",
       "      <th>beam-off</th>\n",
       "      <td>15.0</td>\n",
       "      <td>3.872983</td>\n",
       "      <td>10.594540</td>\n",
       "      <td>2.735498</td>\n",
       "    </tr>\n",
       "    <tr>\n",
       "      <th>overlay</th>\n",
       "      <td>12127.0</td>\n",
       "      <td>110.122659</td>\n",
       "      <td>621.437765</td>\n",
       "      <td>5.643142</td>\n",
       "    </tr>\n",
       "    <tr>\n",
       "      <th>\\CCIpOpi</th>\n",
       "      <td>9538.0</td>\n",
       "      <td>97.662685</td>\n",
       "      <td>488.766670</td>\n",
       "      <td>5.004641</td>\n",
       "    </tr>\n",
       "  </tbody>\n",
       "</table>\n",
       "</div>"
      ],
      "text/plain": [
       "                N       N_err     Nnormed  Nnormed_err\n",
       "beam-on     462.0   21.494185  462.000000    21.494185\n",
       "beam-off     15.0    3.872983   10.594540     2.735498\n",
       "overlay   12127.0  110.122659  621.437765     5.643142\n",
       "\\CCIpOpi   9538.0   97.662685  488.766670     5.004641"
      ]
     },
     "execution_count": 5,
     "metadata": {},
     "output_type": "execute_result"
    }
   ],
   "source": [
    "number_of_events = pd.DataFrame({'N':N,'N_err':N_err,'Nnormed':Nnormed,'Nnormed_err':Nnormed_err},index=names)\n",
    "number_of_events"
   ]
  },
  {
   "cell_type": "code",
   "execution_count": 6,
   "metadata": {},
   "outputs": [
    {
     "name": "stdout",
     "output_type": "stream",
     "text": [
      "\t\t paste to {tab:number_of_events} in background_rejection.tex \t\t\n",
      "\t\t% -- - --- --- - --- --- - --- --- - --- --- - --- --- - --- --- - --- --- - --- --- \n",
      "\t\tbeam-on\t&\t$462\\pm21.5$\t&\t$462\\pm21.5$\t \\tabularnewline\n",
      "\t\t\\hline\n",
      "\n",
      "\t\tbeam-off\t&\t$15\\pm3.9$\t&\t$10\\pm2.7$\t \\tabularnewline\n",
      "\t\t\\hline\n",
      "\n",
      "\t\toverlay\t&\t$12127\\pm110.1$\t&\t$621\\pm5.6$\t \\tabularnewline\n",
      "\t\t\\hline\n",
      "\n",
      "\t\t\\CCIpOpi\t&\t$9538\\pm97.7$\t&\t$488\\pm5.0$\t \\tabularnewline\n",
      "\t\t\\hline\n",
      "\n",
      "\n"
     ]
    }
   ],
   "source": [
    "print \"\\t\\t paste to {tab:number_of_events} in background_rejection.tex \\t\\t\"\n",
    "print \"\t\t% -- - --- --- - --- --- - --- --- - --- --- - --- --- - --- --- - --- --- - --- --- \"\n",
    "for i,row in number_of_events[:].iterrows(): \n",
    "    print (\"\t\t\"+i \n",
    "           + \"\\t&\\t\" + \"$%d\"%row['N'] + \"\\pm\" + \"%.1f$\"%row['N_err'] \n",
    "           + \"\\t&\\t\" + \"$%d\"%row['Nnormed'] + \"\\pm\" + \"%.1f$\"%row['Nnormed_err'] \n",
    "           + \"\\t \\\\tabularnewline\")\n",
    "    print \"\t\t\\hline\"\n",
    "    print \n",
    "print"
   ]
  },
  {
   "cell_type": "code",
   "execution_count": 7,
   "metadata": {},
   "outputs": [
    {
     "name": "stdout",
     "output_type": "stream",
     "text": [
      "604.0 +/- 5.6 1mu-1p after POT normalization\n",
      "13.1 +/- 0.8 other-pairs after POT normalization\n",
      "4.4 +/- 0.5 cosmic after POT normalization\n",
      "488.8 +/- 5.0 CC1p after POT normalization\n",
      "\u001b[92m--------------------------------------------------------------\u001b[0m\n",
      "the \\CCIpOpi\\ purity is $78.7 \\pm 1.1\\%$.\n"
     ]
    }
   ],
   "source": [
    "for pair_type in pair_types:\n",
    "    N[pair_type] = float(len(selected_overlay[pair_type]))\n",
    "    N_err[pair_type] = np.sqrt(N[pair_type])\n",
    "    Nnormed[pair_type] = N[pair_type]*Nevents['f(POT)']\n",
    "    Nnormed_err[pair_type] = N_err[pair_type]*Nevents['f(POT)']\n",
    "    print '%.1f +/- %.1f'%(Nnormed[pair_type],Nnormed_err[pair_type]),pair_type,'after POT normalization'    \n",
    "print_line()\n",
    "\n",
    "pur = 100*N['CC1p']/N['overlay']\n",
    "pur_err = pur*np.sqrt(np.square(N_err['CC1p']/N['CC1p']) + np.square(N_err['overlay']/N['overlay']))\n",
    "print \"the \\CCIpOpi\\ purity is $%.1f \\pm %.1f\"%(pur,pur_err)+'\\%$.'"
   ]
  },
  {
   "cell_type": "code",
   "execution_count": null,
   "metadata": {},
   "outputs": [],
   "source": []
  }
 ],
 "metadata": {
  "celltoolbar": "Slideshow",
  "kernelspec": {
   "display_name": "Python 2",
   "language": "python",
   "name": "python2"
  },
  "language_info": {
   "codemirror_mode": {
    "name": "ipython",
    "version": 2
   },
   "file_extension": ".py",
   "mimetype": "text/x-python",
   "name": "python",
   "nbconvert_exporter": "python",
   "pygments_lexer": "ipython2",
   "version": "2.7.11"
  }
 },
 "nbformat": 4,
 "nbformat_minor": 2
}
