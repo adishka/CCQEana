{
 "cells": [
  {
   "cell_type": "markdown",
   "metadata": {},
   "source": [
    "# background subtrction and event selection"
   ]
  },
  {
   "cell_type": "code",
   "execution_count": 3,
   "metadata": {
    "slideshow": {
     "slide_type": "skip"
    }
   },
   "outputs": [
    {
     "name": "stdout",
     "output_type": "stream",
     "text": [
      "versions:\n",
      "{   'OffBeam': 'prod_reco_optfilter_extbnb_v12_mcc8_dev',\n",
      "    'OnBeam': 'prod_reco_optfilter_bnb_v12_unblind_mcc8',\n",
      "    'Overlay': 'prodgenie_bnb_nu_uboone_overlay_mcc8.11_reco2',\n",
      "    'data date': '2018_05_11',\n",
      "    'date': '2018_05_11',\n",
      "    'overlay date': '2018_05_11'}\n",
      "OffBeam_scaling: 0.706302660161 = N(on beam)/N(off beam) before SwT\n",
      "f(POT): 0.0512441465374 = N(POT on beam)/N(POT MC)\n"
     ]
    }
   ],
   "source": [
    "import sys; sys.path.insert(0, '../../../'); \n",
    "from ccqe_notebook_tools import * \n",
    "from mupClassification_notebooks import *\n",
    "from onbeam_offbeam_notebooks import *\n",
    "from Xsec_tools import *\n",
    "%matplotlib inline"
   ]
  },
  {
   "cell_type": "code",
   "execution_count": 4,
   "metadata": {
    "scrolled": true
   },
   "outputs": [],
   "source": [
    "figures_path = '/Users/erezcohen/Desktop/Projects/uBoone/write-ups/XsecCCQE/Figures/overlay_8.11/background_rejection/'"
   ]
  },
  {
   "cell_type": "code",
   "execution_count": 39,
   "metadata": {},
   "outputs": [
    {
     "name": "stdout",
     "output_type": "stream",
     "text": [
      "did not find selected_cosmic.csv, so creating it...\n",
      "285038 ccqe candidate pairs, 180092 in FV\n",
      "74392 are 1mu-1p, 41.3%\n",
      "55230 are other-pairs, 30.7%\n",
      "155416 are cosmic, 86.3%\n",
      "\u001b[92m--------------------------------------------------------------\u001b[0m\n",
      "37228 are CC1p, 20.7%\n",
      "I finished loading overlay samples. We have in total 285038 pairs\n",
      "applied cuts to overlay\n",
      "saved selected 1mu-1p to /Users/erezcohen/Desktop/uBoone/CCQEanalysis/Xsec/selected_events/prodgenie_bnb_nu_uboone_overlay_mcc8.11_reco2_2018_09_22_selected_1mu-1p.csv\n",
      "saved selected other-pairs to /Users/erezcohen/Desktop/uBoone/CCQEanalysis/Xsec/selected_events/prodgenie_bnb_nu_uboone_overlay_mcc8.11_reco2_2018_09_22_selected_other-pairs.csv\n",
      "saved selected cosmic to /Users/erezcohen/Desktop/uBoone/CCQEanalysis/Xsec/selected_events/prodgenie_bnb_nu_uboone_overlay_mcc8.11_reco2_2018_09_22_selected_cosmic.csv\n",
      "saved selected CC1p to /Users/erezcohen/Desktop/uBoone/CCQEanalysis/Xsec/selected_events/prodgenie_bnb_nu_uboone_overlay_mcc8.11_reco2_2018_09_22_selected_CC1p.csv\n",
      "Nevents['f(POT)']: 0.051017899728\n",
      "12127 events in the overlay\n",
      "checked /Users/erezcohen/Desktop/uBoone/CCQEanalysis/Xsec/selected_events/prodgenie_bnb_nu_uboone_overlay_mcc8.11_reco2_2018_09_22_selected_on_beam.csv and there was no file there...\n",
      "loaded beam-on\n",
      "loaded beam-off\n",
      "applied cuts to data\n",
      "saved 462 events in beam on to /Users/erezcohen/Desktop/uBoone/CCQEanalysis/Xsec/selected_events/prod_reco_optfilter_bnb_v12_unblind_mcc8_2018_08_16_selected_beam_on.csv\n",
      "saved 15 events in beam off to /Users/erezcohen/Desktop/uBoone/CCQEanalysis/Xsec/selected_events/prod_reco_optfilter_bnb_v12_unblind_mcc8_2018_08_16_selected_beam_off.csv\n",
      "930168 events in genie from overlay\n",
      "saved 61615 CC1p events in genie_CC1p to /Users/erezcohen/Desktop/uBoone/CCQEanalysis/Xsec/selected_events/prodgenie_bnb_nu_uboone_overlay_mcc8.11_reco2_2018_09_22_selected_genie_CC1p.csv\n",
      "9538 selected CC1p events overlay\n"
     ]
    }
   ],
   "source": [
    "versions['overlay date'] = '2018_09_22'\n",
    "versions['Overlay'] = 'prodgenie_bnb_nu_uboone_overlay_mcc8.11_reco2'\n",
    "versions['data date'] = '2018_08_16'\n",
    "versions['beam on'] = 'prod_reco_optfilter_bnb_v12_unblind_mcc8'\n",
    "versions['beam off'] = 'prod_reco_optfilter_extbnb_v12_mcc8_dev'\n",
    "selected_overlay,selected_overlay_concat,selected_CC1p,genie_CC1p,selected_beam_on,selected_beam_off = load_mc_and_data()"
   ]
  },
  {
   "cell_type": "markdown",
   "metadata": {},
   "source": [
    "# 2.III Phase-space\n",
    "in phase_space.ipynb"
   ]
  },
  {
   "cell_type": "markdown",
   "metadata": {},
   "source": [
    "# 2.IV"
   ]
  },
  {
   "cell_type": "code",
   "execution_count": 148,
   "metadata": {},
   "outputs": [],
   "source": [
    "N,N_err = dict(),dict()\n",
    "Nnormed,Nnormed_err = dict(),dict()\n",
    "fBeamOn,fBeamOn_err = dict(),dict()"
   ]
  },
  {
   "cell_type": "code",
   "execution_count": 149,
   "metadata": {},
   "outputs": [
    {
     "name": "stdout",
     "output_type": "stream",
     "text": [
      "462.0 +/- 21.5 beam-on after POT normalization\n",
      "10.6 +/- 2.7 beam-off after POT normalization\n",
      "618.7 +/- 5.6 overlay after POT normalization\n",
      "486.6 +/- 5.0 \\CCIpOpi after POT normalization\n"
     ]
    }
   ],
   "source": [
    "samples = [selected_beam_on,selected_beam_off,selected_overlay_concat,selected_CC1p]\n",
    "names = ['beam-on','beam-off','overlay',r'\\CCIpOpi']\n",
    "scalings = [1,OffBeam_scaling,Nevents['f(POT)'],Nevents['f(POT)']]\n",
    "         \n",
    "for sample,pair_type,scaling in zip(samples,names,scalings):\n",
    "    N[pair_type] = float(len(sample))\n",
    "    N_err[pair_type] = np.sqrt(N[pair_type])\n",
    "    Nnormed[pair_type] = N[pair_type]*scaling\n",
    "    Nnormed_err[pair_type] = N_err[pair_type]*scaling\n",
    "    print '%.1f +/- %.1f'%(Nnormed[pair_type],Nnormed_err[pair_type]),pair_type,'after POT normalization'    "
   ]
  },
  {
   "cell_type": "code",
   "execution_count": 153,
   "metadata": {},
   "outputs": [
    {
     "data": {
      "text/html": [
       "<div>\n",
       "<style>\n",
       "    .dataframe thead tr:only-child th {\n",
       "        text-align: right;\n",
       "    }\n",
       "\n",
       "    .dataframe thead th {\n",
       "        text-align: left;\n",
       "    }\n",
       "\n",
       "    .dataframe tbody tr th {\n",
       "        vertical-align: top;\n",
       "    }\n",
       "</style>\n",
       "<table border=\"1\" class=\"dataframe\">\n",
       "  <thead>\n",
       "    <tr style=\"text-align: right;\">\n",
       "      <th></th>\n",
       "      <th>N</th>\n",
       "      <th>N_err</th>\n",
       "      <th>Nnormed</th>\n",
       "      <th>Nnormed_err</th>\n",
       "    </tr>\n",
       "  </thead>\n",
       "  <tbody>\n",
       "    <tr>\n",
       "      <th>beam-on</th>\n",
       "      <td>462.0</td>\n",
       "      <td>21.494185</td>\n",
       "      <td>462.000000</td>\n",
       "      <td>21.494185</td>\n",
       "    </tr>\n",
       "    <tr>\n",
       "      <th>beam-off</th>\n",
       "      <td>15.0</td>\n",
       "      <td>3.872983</td>\n",
       "      <td>10.594540</td>\n",
       "      <td>2.735498</td>\n",
       "    </tr>\n",
       "    <tr>\n",
       "      <th>overlay</th>\n",
       "      <td>12127.0</td>\n",
       "      <td>110.122659</td>\n",
       "      <td>618.694070</td>\n",
       "      <td>5.618227</td>\n",
       "    </tr>\n",
       "    <tr>\n",
       "      <th>\\CCIpOpi</th>\n",
       "      <td>9538.0</td>\n",
       "      <td>97.662685</td>\n",
       "      <td>486.608728</td>\n",
       "      <td>4.982545</td>\n",
       "    </tr>\n",
       "  </tbody>\n",
       "</table>\n",
       "</div>"
      ],
      "text/plain": [
       "                N       N_err     Nnormed  Nnormed_err\n",
       "beam-on     462.0   21.494185  462.000000    21.494185\n",
       "beam-off     15.0    3.872983   10.594540     2.735498\n",
       "overlay   12127.0  110.122659  618.694070     5.618227\n",
       "\\CCIpOpi   9538.0   97.662685  486.608728     4.982545"
      ]
     },
     "execution_count": 153,
     "metadata": {},
     "output_type": "execute_result"
    }
   ],
   "source": [
    "number_of_events = pd.DataFrame({'N':N,'N_err':N_err,'Nnormed':Nnormed,'Nnormed_err':Nnormed_err},index=names)\n",
    "number_of_events"
   ]
  },
  {
   "cell_type": "code",
   "execution_count": 154,
   "metadata": {},
   "outputs": [
    {
     "name": "stdout",
     "output_type": "stream",
     "text": [
      "\t\t paste to {tab:number_of_events} in background_rejection.tex \t\t\n",
      "\t\t% -- - --- --- - --- --- - --- --- - --- --- - --- --- - --- --- - --- --- - --- --- \n",
      "\n",
      "\n",
      "\t\tbeam-on\t&\t$462\\pm21.5$\t&\t$462.0\\pm21.5$\t \\tabularnewline\n",
      "\t\t\\hline\n",
      "\n",
      "\t\tbeam-off\t&\t$15\\pm3.9$\t&\t$10.6\\pm2.7$\t \\tabularnewline\n",
      "\t\t\\hline\n",
      "\n",
      "\t\toverlay\t&\t$12127\\pm110.1$\t&\t$618.7\\pm5.6$\t \\tabularnewline\n",
      "\t\t\\hline\n",
      "\n",
      "\t\t\\CCIpOpi\t&\t$9538\\pm97.7$\t&\t$486.6\\pm5.0$\t \\tabularnewline\n",
      "\t\t\\hline\n",
      "\n",
      "\n"
     ]
    }
   ],
   "source": [
    "print \"\\t\\t paste to {tab:number_of_events} in background_rejection.tex \\t\\t\"\n",
    "print \"\t\t% -- - --- --- - --- --- - --- --- - --- --- - --- --- - --- --- - --- --- - --- --- \"\n",
    "print; print\n",
    "for i,row in number_of_events[:].iterrows(): \n",
    "    print (\"\t\t\"+i \n",
    "           + \"\\t&\\t\" + \"$%d\"%row['N'] + \"\\pm\" + \"%.1f$\"%row['N_err'] \n",
    "           + \"\\t&\\t\" + \"$%.1f\"%row['Nnormed'] + \"\\pm\" + \"%.1f$\"%row['Nnormed_err'] \n",
    "           + \"\\t \\\\tabularnewline\")\n",
    "    print \"\t\t\\hline\"\n",
    "    print \n",
    "print"
   ]
  },
  {
   "cell_type": "code",
   "execution_count": 155,
   "metadata": {},
   "outputs": [
    {
     "name": "stdout",
     "output_type": "stream",
     "text": [
      "601.3 +/- 5.5 1mu-1p after POT normalization\n",
      "13.0 +/- 0.8 other-pairs after POT normalization\n",
      "4.4 +/- 0.5 cosmic after POT normalization\n",
      "486.6 +/- 5.0 CC1p after POT normalization\n",
      "\u001b[92m--------------------------------------------------------------\u001b[0m\n",
      "the CC1p0π purity, \n",
      "is $78.7 \\pm 1.1\\%$.\n"
     ]
    }
   ],
   "source": [
    "for pair_type in pair_types:\n",
    "    N[pair_type] = float(len(selected_overlay[pair_type]))\n",
    "    N_err[pair_type] = np.sqrt(N[pair_type])\n",
    "    Nnormed[pair_type] = N[pair_type]*Nevents['f(POT)']\n",
    "    Nnormed_err[pair_type] = N_err[pair_type]*Nevents['f(POT)']\n",
    "    print '%.1f +/- %.1f'%(Nnormed[pair_type],Nnormed_err[pair_type]),pair_type,'after POT normalization'    \n",
    "print_line()\n",
    "\n",
    "pur = 100*N['CC1p']/N['overlay']\n",
    "pur_err = pur*np.sqrt(np.square(N_err['CC1p']/N['CC1p']) + np.square(N_err['overlay']/N['overlay']))\n",
    "print \"the CC1p0π purity, \\nis $%.1f \\pm %.1f\"%(pur,pur_err)+'\\%$.'"
   ]
  },
  {
   "cell_type": "markdown",
   "metadata": {},
   "source": [
    "## Breakup of the background into different contributions"
   ]
  },
  {
   "cell_type": "code",
   "execution_count": 156,
   "metadata": {},
   "outputs": [],
   "source": [
    "N['cosmic in overlay'] = N['cosmic']\n",
    "N_err['cosmic in overlay'] = np.sqrt(N['cosmic'])"
   ]
  },
  {
   "cell_type": "markdown",
   "metadata": {},
   "source": [
    "### other-pairs"
   ]
  },
  {
   "cell_type": "code",
   "execution_count": 157,
   "metadata": {},
   "outputs": [],
   "source": [
    "all_other_pairs = selected_overlay['other-pairs']\n",
    "other_pairs_broken = all_other_pairs[all_other_pairs.isBrokenTrajectory==True]\n",
    "N['broken tracks'] = len(other_pairs_broken)\n",
    "N_err['broken tracks'] = np.sqrt(N['broken tracks'])\n",
    "other_pairs_nonbroken = all_other_pairs[all_other_pairs.isBrokenTrajectory==False]\n",
    "N['non-broken'] = len(other_pairs_nonbroken)\n",
    "N_err['non-broken'] = np.sqrt(N['non-broken'])"
   ]
  },
  {
   "cell_type": "code",
   "execution_count": 158,
   "metadata": {},
   "outputs": [
    {
     "name": "stdout",
     "output_type": "stream",
     "text": [
      "$\\mu^+ p$ 15\n",
      "$pp$ 31\n",
      "$\\pi p$ 155\n",
      "$ep$ 32\n",
      "$\\mu D$ 4\n",
      "others 2\n"
     ]
    }
   ],
   "source": [
    "other_pairs_labels       = [r'$\\mu^+ p$', r'$pp$' ,r'$\\pi p$',r'$ep$'  ,r'$\\mu D$']\n",
    "other_pairs_pdg_products = [13*2212 , 2212*2212 , 211*2212, 11*2212  ,13*1000010020]\n",
    "\n",
    "other_pairs = dict()\n",
    "all_other_pairs_big_contribution = 0\n",
    "len_other_pairs = []\n",
    "for key,product in zip(other_pairs_labels,other_pairs_pdg_products):    \n",
    "    other_pairs[key] = other_pairs_nonbroken[np.abs(other_pairs_nonbroken['pdg_short']*other_pairs_nonbroken['pdg_long']) == product]\n",
    "    all_other_pairs_big_contribution += len(other_pairs[key])\n",
    "    len_other_pairs.append(len(other_pairs[key]))\n",
    "len_non_categorized = len(other_pairs_nonbroken) - all_other_pairs_big_contribution\n",
    "other_pairs_labels.append('others')\n",
    "len_other_pairs.append(len_non_categorized)\n",
    "\n",
    "for label,number in zip(other_pairs_labels,len_other_pairs):\n",
    "    N[label] = number\n",
    "    N_err[label] = np.sqrt(number)"
   ]
  },
  {
   "cell_type": "markdown",
   "metadata": {},
   "source": [
    "### µp not CC1p0π"
   ]
  },
  {
   "cell_type": "code",
   "execution_count": 159,
   "metadata": {},
   "outputs": [],
   "source": [
    "N['\\mup\\ not \\CCIpOpi'] = N['1mu-1p'] - N['CC1p']\n",
    "N_err['\\mup\\ not \\CCIpOpi'] = np.sqrt(N['1mu-1p'] - N['CC1p'])"
   ]
  },
  {
   "cell_type": "code",
   "execution_count": 172,
   "metadata": {},
   "outputs": [],
   "source": [
    "all_mup = selected_overlay['1mu-1p'][selected_overlay['1mu-1p'].CC1p==False]\n",
    "mup_labels       = ['multi-vertex','detector inefficiency','RES','DIS','MEC']\n",
    "mup_modes        = [0 , 0 , 1 , 2 , 10]\n",
    "\n",
    "mup_big_contribution = 0\n",
    "len_mup = []\n",
    "for key,mode in zip(mup_labels,mup_modes):    \n",
    "    sam = all_mup[all_mup['closest_genie_mode']==mode]\n",
    "    if key=='multi-vertex':\n",
    "        sam = sam[np.abs(sam.truth_startx_muCandidate - sam.truth_startx_pCandidate)>0]\n",
    "    elif key=='detector inefficiency':\n",
    "        sam = sam[np.abs(sam.truth_startx_muCandidate - sam.truth_startx_pCandidate)==0]\n",
    "    mup_big_contribution += len(sam)\n",
    "    len_mup.append(len(sam))\n",
    "len_non_categorized = len(all_mup) - mup_big_contribution\n",
    "if (len_non_categorized):\n",
    "    mup_labels.append('others')\n",
    "    len_mup.append(len_non_categorized)\n",
    "\n",
    "for label,number in zip(mup_labels,len_mup):\n",
    "    N[label] = number\n",
    "    N_err[label] = np.sqrt(number)    "
   ]
  },
  {
   "cell_type": "code",
   "execution_count": 173,
   "metadata": {},
   "outputs": [],
   "source": [
    "for key in N.keys():\n",
    "    \n",
    "    if 'beam-on' in key:  scaling = 1.0\n",
    "    elif 'beam-off' in key: scaling = OffBeam_scaling\n",
    "    else: scaling = Nevents['f(POT)']\n",
    "    \n",
    "    Nnormed[key] = N[key]*scaling\n",
    "    Nnormed_err[key] = N_err[key]*scaling\n",
    "\n",
    "    fBeamOn[key] = 100*Nnormed[key]/Nnormed['beam-on'] # in %\n",
    "    fBeamOn_err[key] = fBeamOn[key]*np.sqrt( np.square(Nnormed_err[key]/Nnormed[key]) + np.square(Nnormed_err['beam-on']/Nnormed['beam-on']) )"
   ]
  },
  {
   "cell_type": "markdown",
   "metadata": {},
   "source": [
    "### tab:background_breakup"
   ]
  },
  {
   "cell_type": "code",
   "execution_count": 163,
   "metadata": {},
   "outputs": [
    {
     "name": "stdout",
     "output_type": "stream",
     "text": [
      "\t\t paste to {tab:background_breakup} in background_rejection.tex \t\t\n",
      "\t\t% -- - --- --- - --- --- - --- --- - --- --- - --- --- - --- --- - --- --- - --- --- \n",
      "\n",
      "\n",
      "\t\t\\multicolumn{4}{c}{cosmic--induced background} \\tabularnewline \\hline\n",
      "\t\tbeam-off\t&\t$15\\pm3.9$\t&\t$10.6\\pm2.7$\t&\t$2.3\\pm0.6\\%$\t \\tabularnewline\n",
      "\t\t\\hline\n",
      "\n",
      "\t\tcosmic in overlay\t&\t$86\\pm9.3$\t&\t$4.4\\pm0.5$\t&\t$0.9\\pm0.1\\%$\t \\tabularnewline\n",
      "\t\t\\hline\n",
      "\n",
      "\t\t\\multicolumn{4}{c}{beam--induced background} \\tabularnewline \\hline\n",
      "\t\t\\mup\\ not \\CCIpOpi\t&\t$2248\\pm47.4$\t&\t$114.7\\pm2.4$\t&\t$24.8\\pm1.3\\%$\t \\tabularnewline\n",
      "\t\t\\hline\n",
      "\n",
      "\t\tother-pairs\t&\t$255\\pm16.0$\t&\t$13.0\\pm0.8$\t&\t$2.8\\pm0.2\\%$\t \\tabularnewline\n",
      "\t\t\\hline\n",
      "\n",
      "\n"
     ]
    }
   ],
   "source": [
    "names = ['beam-off','cosmic in overlay',\n",
    "         '\\mup\\ not \\CCIpOpi',\n",
    "         'other-pairs']\n",
    "number_of_events = pd.DataFrame({'N':N,'N_err':N_err,'Nnormed':Nnormed,'Nnormed_err':Nnormed_err\n",
    "                                ,'fBeamOn':fBeamOn,'fBeamOn_err':fBeamOn_err}\n",
    "                                ,index=names)\n",
    "print \"\\t\\t paste to {tab:background_breakup} in background_rejection.tex \\t\\t\"\n",
    "print \"\t\t% -- - --- --- - --- --- - --- --- - --- --- - --- --- - --- --- - --- --- - --- --- \"\n",
    "print; print\n",
    "for i,row in number_of_events[:].iterrows(): \n",
    "    \n",
    "    if i==\"beam-off\": print \"\t\t\\multicolumn{4}{c}{cosmic--induced background} \\\\tabularnewline \\hline\"\n",
    "\n",
    "    if i==\"\\mup\\ not \\CCIpOpi\": print \"\t\t\\multicolumn{4}{c}{beam--induced background} \\\\tabularnewline \\hline\"\n",
    "\n",
    "    \n",
    "    print (\"\t\t\"+i \n",
    "           + \"\\t&\\t\" + \"$%d\"%row['N'] + \"\\pm\" + \"%.1f$\"%row['N_err'] \n",
    "           + \"\\t&\\t\" + \"$%.1f\"%row['Nnormed'] + \"\\pm\" + \"%.1f$\"%row['Nnormed_err'] \n",
    "           + \"\\t&\\t\" + \"$%.1f\"%row['fBeamOn'] + \"\\pm\" + \"%.1f\"%row['fBeamOn_err']  + \"\\%$\"\n",
    "           + \"\\t \\\\tabularnewline\")\n",
    "    print \"\t\t\\hline\"\n",
    "    print \n",
    "print"
   ]
  },
  {
   "cell_type": "markdown",
   "metadata": {},
   "source": [
    "### tab:mup_bkg_breakup"
   ]
  },
  {
   "cell_type": "code",
   "execution_count": 176,
   "metadata": {},
   "outputs": [
    {
     "name": "stdout",
     "output_type": "stream",
     "text": [
      "\t\t paste to {tab:other_pairs_breakup} in background_rejection.tex \t\t\n",
      "\t\t% -- - --- --- - --- --- - --- --- - --- --- - --- --- - --- --- - --- --- - --- --- \n",
      "\n",
      "\n",
      "\t\t\\mup\\ not \\CCIpOpi\t&\t$2248\\pm47.4$\t&\t$114.7\\pm2.4$\t&\t$24.82\\pm1.27\\%$\t \\tabularnewline\n",
      "\t\t\\hline\n",
      "\t\t\\hline\n",
      "\n",
      "\t\tmulti-vertex\t&\t$306\\pm17.5$\t&\t$15.6\\pm0.9$\t&\t$3.38\\pm0.25\\%$\t \\tabularnewline\n",
      "\t\t\\hline\n",
      "\n",
      "\t\tdetector inefficiency\t&\t$571\\pm23.9$\t&\t$29.1\\pm1.2$\t&\t$6.31\\pm0.39\\%$\t \\tabularnewline\n",
      "\t\t\\hline\n",
      "\n",
      "\t\tRES\t&\t$584\\pm24.2$\t&\t$29.8\\pm1.2$\t&\t$6.45\\pm0.40\\%$\t \\tabularnewline\n",
      "\t\t\\hline\n",
      "\n",
      "\t\tDIS\t&\t$142\\pm11.9$\t&\t$7.2\\pm0.6$\t&\t$1.57\\pm0.15\\%$\t \\tabularnewline\n",
      "\t\t\\hline\n",
      "\n",
      "\t\tMEC\t&\t$645\\pm25.4$\t&\t$32.9\\pm1.3$\t&\t$7.12\\pm0.43\\%$\t \\tabularnewline\n",
      "\t\t\\hline\n",
      "\n",
      "\n"
     ]
    }
   ],
   "source": [
    "names = concatenate([['\\mup\\ not \\CCIpOpi'],mup_labels])\n",
    "number_of_events = pd.DataFrame({'N':N,'N_err':N_err,'Nnormed':Nnormed,'Nnormed_err':Nnormed_err\n",
    "                                ,'fBeamOn':fBeamOn,'fBeamOn_err':fBeamOn_err}\n",
    "                                ,index=names)\n",
    "print \"\\t\\t paste to {tab:other_pairs_breakup} in background_rejection.tex \\t\\t\"\n",
    "print \"\t\t% -- - --- --- - --- --- - --- --- - --- --- - --- --- - --- --- - --- --- - --- --- \"\n",
    "print; print\n",
    "for i,row in number_of_events[:].iterrows():     \n",
    "    print (\"\t\t\"+i \n",
    "           + \"\\t&\\t\" + \"$%d\"%row['N'] + \"\\pm\" + \"%.1f$\"%row['N_err'] \n",
    "           + \"\\t&\\t\" + \"$%.1f\"%row['Nnormed'] + \"\\pm\" + \"%.1f$\"%row['Nnormed_err'] \n",
    "           + \"\\t&\\t\" + \"$%.2f\"%row['fBeamOn'] + \"\\pm\" + \"%.2f\"%row['fBeamOn_err']  + \"\\%$\"\n",
    "           + \"\\t \\\\tabularnewline\")\n",
    "    print \"\t\t\\hline\"\n",
    "    if i=='\\mup\\ not \\CCIpOpi': print \"\t\t\\hline\"\n",
    "    print \n",
    "print"
   ]
  },
  {
   "cell_type": "markdown",
   "metadata": {},
   "source": [
    "### tab:other_pairs_breakup"
   ]
  },
  {
   "cell_type": "code",
   "execution_count": 165,
   "metadata": {},
   "outputs": [
    {
     "name": "stdout",
     "output_type": "stream",
     "text": [
      "\t\t paste to {tab:other_pairs_breakup} in background_rejection.tex \t\t\n",
      "\t\t% -- - --- --- - --- --- - --- --- - --- --- - --- --- - --- --- - --- --- - --- --- \n",
      "\n",
      "\n",
      "\t\tother-pairs\t&\t$255\\pm16.0$\t&\t$13.0\\pm0.8$\t&\t$2.82\\pm0.22\\%$\t \\tabularnewline\n",
      "\t\t\\hline\n",
      "\t\t\\hline\n",
      "\n",
      "\t\tbroken tracks\t&\t$16\\pm4.0$\t&\t$0.8\\pm0.2$\t&\t$0.18\\pm0.04\\%$\t \\tabularnewline\n",
      "\t\t\\hline\n",
      "\n",
      "\t\t$\\mu^+ p$\t&\t$15\\pm3.9$\t&\t$0.8\\pm0.2$\t&\t$0.17\\pm0.04\\%$\t \\tabularnewline\n",
      "\t\t\\hline\n",
      "\n",
      "\t\t$pp$\t&\t$31\\pm5.6$\t&\t$1.6\\pm0.3$\t&\t$0.34\\pm0.06\\%$\t \\tabularnewline\n",
      "\t\t\\hline\n",
      "\n",
      "\t\t$\\pi p$\t&\t$155\\pm12.4$\t&\t$7.9\\pm0.6$\t&\t$1.71\\pm0.16\\%$\t \\tabularnewline\n",
      "\t\t\\hline\n",
      "\n",
      "\t\t$ep$\t&\t$32\\pm5.7$\t&\t$1.6\\pm0.3$\t&\t$0.35\\pm0.06\\%$\t \\tabularnewline\n",
      "\t\t\\hline\n",
      "\n",
      "\t\t$\\mu D$\t&\t$4\\pm2.0$\t&\t$0.2\\pm0.1$\t&\t$0.04\\pm0.02\\%$\t \\tabularnewline\n",
      "\t\t\\hline\n",
      "\n",
      "\t\tothers\t&\t$2\\pm1.4$\t&\t$0.1\\pm0.1$\t&\t$0.02\\pm0.02\\%$\t \\tabularnewline\n",
      "\t\t\\hline\n",
      "\n",
      "\n"
     ]
    }
   ],
   "source": [
    "names = concatenate([['other-pairs','broken tracks'],other_pairs_labels])\n",
    "number_of_events = pd.DataFrame({'N':N,'N_err':N_err,'Nnormed':Nnormed,'Nnormed_err':Nnormed_err\n",
    "                                ,'fBeamOn':fBeamOn,'fBeamOn_err':fBeamOn_err}\n",
    "                                ,index=names)\n",
    "print \"\\t\\t paste to {tab:other_pairs_breakup} in background_rejection.tex \\t\\t\"\n",
    "print \"\t\t% -- - --- --- - --- --- - --- --- - --- --- - --- --- - --- --- - --- --- - --- --- \"\n",
    "print; print\n",
    "for i,row in number_of_events[:].iterrows():     \n",
    "    print (\"\t\t\"+i \n",
    "           + \"\\t&\\t\" + \"$%d\"%row['N'] + \"\\pm\" + \"%.1f$\"%row['N_err'] \n",
    "           + \"\\t&\\t\" + \"$%.1f\"%row['Nnormed'] + \"\\pm\" + \"%.1f$\"%row['Nnormed_err'] \n",
    "           + \"\\t&\\t\" + \"$%.2f\"%row['fBeamOn'] + \"\\pm\" + \"%.2f\"%row['fBeamOn_err']  + \"\\%$\"\n",
    "           + \"\\t \\\\tabularnewline\")\n",
    "    print \"\t\t\\hline\"\n",
    "    if i==\"other-pairs\": print \"\t\t\\hline\"\n",
    "    print \n",
    "print"
   ]
  },
  {
   "cell_type": "code",
   "execution_count": null,
   "metadata": {},
   "outputs": [],
   "source": []
  }
 ],
 "metadata": {
  "celltoolbar": "Slideshow",
  "kernelspec": {
   "display_name": "Python 2",
   "language": "python",
   "name": "python2"
  },
  "language_info": {
   "codemirror_mode": {
    "name": "ipython",
    "version": 2
   },
   "file_extension": ".py",
   "mimetype": "text/x-python",
   "name": "python",
   "nbconvert_exporter": "python",
   "pygments_lexer": "ipython2",
   "version": "2.7.11"
  }
 },
 "nbformat": 4,
 "nbformat_minor": 2
}
