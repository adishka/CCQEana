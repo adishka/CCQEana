{
 "cells": [
  {
   "cell_type": "markdown",
   "metadata": {},
   "source": [
    "# single differential $CC1p$ cross-section from begining to end"
   ]
  },
  {
   "cell_type": "code",
   "execution_count": 1,
   "metadata": {},
   "outputs": [
    {
     "name": "stdout",
     "output_type": "stream",
     "text": [
      "versions:\n",
      "{   'OffBeam': 'prod_reco_optfilter_extbnb_v12_mcc8_dev',\n",
      "    'OnBeam': 'prod_reco_optfilter_bnb_v12_unblind_mcc8',\n",
      "    'Overlay': 'prodgenie_bnb_nu_uboone_overlay_mcc8.11_reco2',\n",
      "    'data date': '2018_05_11',\n",
      "    'date': '2018_05_11',\n",
      "    'overlay date': '2018_05_11'}\n",
      "OffBeam_scaling: 0.706302660161 = N(on beam)/N(off beam) before SwT\n",
      "f(POT): 0.0512441465374 = N(POT on beam)/N(POT MC)\n"
     ]
    }
   ],
   "source": [
    "import sys; sys.path.insert(0, '../../../'); \n",
    "from ccqe_notebook_tools import * \n",
    "from mupClassification_notebooks import *\n",
    "from onbeam_offbeam_notebooks import *\n",
    "from Xsec_tools import *\n",
    "%matplotlib inline\n",
    "sns.set(font_scale=2);sns.set_style(\"whitegrid\");"
   ]
  },
  {
   "cell_type": "markdown",
   "metadata": {},
   "source": [
    "## load mc and data"
   ]
  },
  {
   "cell_type": "code",
   "execution_count": 2,
   "metadata": {},
   "outputs": [
    {
     "name": "stdout",
     "output_type": "stream",
     "text": [
      "285009 ccqe candidate pairs, 180070 in FV\n",
      "74387 are 1mu-1p, 41.3%\n",
      "55226 are other pairs, 30.7%\n",
      "155396 are cosmic, 86.3%\n",
      "\u001b[92m--------------------------------------------------------------\u001b[0m\n",
      "36843 are CC1p0pi, 20.5%\n",
      "\u001b[92m--------------------------------------------------------------\u001b[0m\n",
      "40729 are CC1p, 22.6%\n",
      "I finished loading overlay samples. We have in total 285009 pairs\n",
      "155396 cosmic pairs and 74387 mu-p pairs in overlay\n",
      "done\n"
     ]
    }
   ],
   "source": [
    "versions['overlay date'] = '2018_08_16'\n",
    "versions['Overlay'] = 'prodgenie_bnb_nu_uboone_overlay_mcc8.11_reco2'\n",
    "OverlaySamples = load_samples(date=versions['overlay date'],filename=versions['Overlay']+'_'+versions['overlay date']+'_vertices')\n",
    "print \"%d\"%len(OverlaySamples['cosmic'])+' cosmic pairs and %d'%len(OverlaySamples['1mu-1p'])+' mu-p pairs in overlay'\n",
    "cuts_order  = ['no cut','Chi2Proton','Nflashes','MatchedFlash','length','non-collinearity','vertex activity'\n",
    "               ,'delta phi','Pt & delta phi']\n",
    "reducedOverlay,pureffOverlay,pureffNumbers = apply_cuts_to_overlay(OverlaySamples=OverlaySamples,cuts_order=cuts_order)\n",
    "print 'done'"
   ]
  },
  {
   "cell_type": "code",
   "execution_count": 3,
   "metadata": {},
   "outputs": [
    {
     "name": "stdout",
     "output_type": "stream",
     "text": [
      "found selected_cosmic.csv, loading it...\n",
      "checked /Users/erezcohen/Desktop/uBoone/CCQEanalysis/Xsec/selected_events/prod_reco_optfilter_bnb_v12_unblind_mcc8_2018_08_16_selected_on_beam.csv and found the file...\n",
      "checked /Users/erezcohen/Desktop/uBoone/CCQEanalysis/Xsec/selected_events/prodgenie_bnb_nu_uboone_overlay_mcc8.11_reco2_2018_08_16_selected_genie_CC1p.csv and found the file...\n",
      "8211 selected CC1p events overlay\n"
     ]
    }
   ],
   "source": [
    "versions['overlay date'] = '2018_08_16'\n",
    "versions['Overlay'] = 'prodgenie_bnb_nu_uboone_overlay_mcc8.11_reco2'\n",
    "versions['data date'] = '2018_08_16'\n",
    "versions['beam on'] = 'prod_reco_optfilter_bnb_v12_unblind_mcc8'\n",
    "versions['beam off'] = 'prod_reco_optfilter_extbnb_v12_mcc8_dev'\n",
    "selected_overlay,selected_overlay_concat,selected_CC1p,genie_CC1p,selected_beam_on,selected_beam_off = load_mc_and_data()"
   ]
  },
  {
   "cell_type": "markdown",
   "metadata": {},
   "source": [
    "## divide into 6 dimentions: \n",
    "$\\vec{p} _{\\mu}$\n",
    "and \n",
    "$\\vec{p} _{p}$"
   ]
  },
  {
   "cell_type": "code",
   "execution_count": 4,
   "metadata": {},
   "outputs": [],
   "source": [
    "\n",
    "Limits=dict({\n",
    "            'Pmu':(0.2,1.4)\n",
    "            ,'cos(theta(mu))':(-0.5,0.95)\n",
    "            ,'phi(mu)':(-180,180)\n",
    "            ,'Pp':(0.3,1.0)\n",
    "            ,'cos(theta(p))':(0.25,0.9)\n",
    "            ,'phi(p)':(-180,180)\n",
    "            })\n",
    "NBins=5\n",
    "Bins = dict()\n",
    "for key in Limits.keys(): Bins[key] = np.linspace(Limits[key][0],Limits[key][1],NBins)\n",
    "\n"
   ]
  },
  {
   "cell_type": "code",
   "execution_count": 5,
   "metadata": {},
   "outputs": [],
   "source": [
    "def get_sam_in_bin(sam\n",
    "                   ,Pmu_min,Pmu_max,Pmu_cos_theta_min,Pmu_cos_theta_max,Pmu_phi_min,Pmu_phi_max\n",
    "                   ,Pp_min,Pp_max,Pp_cos_theta_min,Pp_cos_theta_max,Pp_phi_min,Pp_phi_max):\n",
    "    return sam[ (Pmu_min<sam['reco_Pmu_mcs'])\n",
    "                                             &(sam['reco_Pmu_mcs']<Pmu_max)\n",
    "                                             &(Pmu_cos_theta_min<sam['reco_Pmu_cos_theta'])\n",
    "                                             &(sam['reco_Pmu_cos_theta']<Pmu_cos_theta_max)\n",
    "                                             &(Pmu_phi_min<180./np.pi*sam['reco_Pmu_mcs_phi'])\n",
    "                                             &(180./np.pi*sam['reco_Pmu_mcs_phi']<Pmu_phi_max)\n",
    "                                             \n",
    "                                             &(Pp_min<sam['reco_Pp'])\n",
    "                                             &(sam['reco_Pp']<Pp_max)\n",
    "                                             &(Pp_cos_theta_min<sam['reco_Pp_cos_theta'])\n",
    "                                             &(sam['reco_Pp_cos_theta']<Pp_cos_theta_max)\n",
    "                                             &(Pp_phi_min<180./np.pi*sam['reco_Pp_phi'])\n",
    "                                             &(180./np.pi*sam['reco_Pp_phi']<Pp_phi_max)\n",
    "                                            ]\n",
    "\n",
    "\n",
    "def create_table_of_events_in_bins(sam_data=None,sam_mc_detector_cuts=None,sam_mc_all_cuts=None):\n",
    "    Ndata_in_bin_array,Nmc_detector_cuts_in_bin_array,Nmc_all_cuts_in_bin_array = [],[],[]\n",
    "    for i_Pmu in range(len(Bins['Pmu'][:-1])):\n",
    "        Pmu_min,Pmu_max = Bins['Pmu'][i_Pmu],Bins['Pmu'][i_Pmu+1]\n",
    "        \n",
    "        for i_Pmu_cos_theta in range(len(Bins['cos(theta(mu))'][:-1])):\n",
    "            Pmu_cos_theta_min,Pmu_cos_theta_max = Bins['cos(theta(mu))'][i_Pmu_cos_theta],Bins['cos(theta(mu))'][i_Pmu_cos_theta+1]\n",
    "\n",
    "            for i_Pmu_phi in range(len(Bins['phi(mu)'][:-1])):\n",
    "                Pmu_phi_min,Pmu_phi_max = Bins['phi(mu)'][i_Pmu_phi],Bins['phi(mu)'][i_Pmu_phi+1]\n",
    "                \n",
    "                for i_Pp in range(len(Bins['Pp'][:-1])):\n",
    "                    Pp_min,Pp_max = Bins['Pp'][i_Pp],Bins['Pp'][i_Pp+1]\n",
    "\n",
    "                    for i_Pp_cos_theta in range(len(Bins['cos(theta(p))'][:-1])):\n",
    "                        Pp_cos_theta_min,Pp_cos_theta_max = Bins['cos(theta(p))'][i_Pp_cos_theta],Bins['cos(theta(p))'][i_Pp_cos_theta+1]\n",
    "\n",
    "                        for i_Pp_phi in range(len(Bins['phi(p)'][:-1])):\n",
    "                            Pp_phi_min,Pp_phi_max = Bins['phi(p)'][i_Pp_phi],Bins['phi(p)'][i_Pp_phi+1]\n",
    "                            \n",
    "                            \n",
    "                            data_in_bin = get_sam_in_bin(sam_data\n",
    "                                                             ,Pmu_min,Pmu_max,Pmu_cos_theta_min,Pmu_cos_theta_max,Pmu_phi_min,Pmu_phi_max\n",
    "                                                             ,Pp_min,Pp_max,Pp_cos_theta_min,Pp_cos_theta_max,Pp_phi_min,Pp_phi_max)\n",
    "                            mc_detector_cuts_in_bin = get_sam_in_bin(sam_mc_detector_cuts\n",
    "                                                             ,Pmu_min,Pmu_max,Pmu_cos_theta_min,Pmu_cos_theta_max,Pmu_phi_min,Pmu_phi_max\n",
    "                                                             ,Pp_min,Pp_max,Pp_cos_theta_min,Pp_cos_theta_max,Pp_phi_min,Pp_phi_max)\n",
    "\n",
    "                            mc_all_cuts = get_sam_in_bin(sam_mc_all_cuts\n",
    "                                                             ,Pmu_min,Pmu_max,Pmu_cos_theta_min,Pmu_cos_theta_max,Pmu_phi_min,Pmu_phi_max\n",
    "                                                             ,Pp_min,Pp_max,Pp_cos_theta_min,Pp_cos_theta_max,Pp_phi_min,Pp_phi_max)\n",
    "\n",
    "                            if len(data_in_bin)>0:\n",
    "                                Ndata_in_bin_array.append(len(data_in_bin))\n",
    "                                Nmc_detector_cuts_in_bin_array.append(len(mc_detector_cuts_in_bin))\n",
    "                                Nmc_all_cuts_in_bin_array.append(len(mc_all_cuts))\n",
    "    print 'done.'\n",
    "    return np.array(Ndata_in_bin_array),np.array(Nmc_detector_cuts_in_bin_array),np.array(Nmc_all_cuts_in_bin_array)"
   ]
  },
  {
   "cell_type": "code",
   "execution_count": 6,
   "metadata": {},
   "outputs": [
    {
     "name": "stdout",
     "output_type": "stream",
     "text": [
      "done.\n"
     ]
    }
   ],
   "source": [
    "Ndata_in_bin_array,Nmc_detector_cuts_in_bin_array,Nmc_all_cuts_in_bin_array = create_table_of_events_in_bins(sam_data=selected_beam_on\n",
    "                                                                                                             ,sam_mc_detector_cuts=reducedOverlay['vertex activity']['CC1p']\n",
    "                                                                                                             ,sam_mc_all_cuts=selected_CC1p)"
   ]
  },
  {
   "cell_type": "code",
   "execution_count": 8,
   "metadata": {},
   "outputs": [],
   "source": [
    "def plot_discrete_histogram(data=None,histtype='step',linewidth=3,color='black',label=''):\n",
    "    d = np.diff(np.unique(data)).min()\n",
    "    left_of_first_bin = data.min() - float(d)/2\n",
    "    right_of_last_bin = data.max() + float(d)/2\n",
    "    plt.hist(data, np.arange(left_of_first_bin, right_of_last_bin + d, d),histtype=histtype,linewidth=linewidth,color=color,label=label)    "
   ]
  },
  {
   "cell_type": "code",
   "execution_count": 12,
   "metadata": {},
   "outputs": [
    {
     "data": {
      "image/png": "[encoded data removed]",
      "text/plain": [
       "<matplotlib.figure.Figure at 0x18fb6ce50>"
      ]
     },
     "metadata": {},
     "output_type": "display_data"
    }
   ],
   "source": [
    "fig=plt.figure(figsize=(20,8))\n",
    "ax=fig.add_subplot(1,2,1)\n",
    "plot_discrete_histogram(data=Ndata_in_bin_array,histtype='step',linewidth=3,color=Colors['beam on'])\n",
    "# plt.hist(Ndata_in_bin_array,bins=linspace(0,np.max(N_selected_beam_on),10),histtype='step',linewidth=3,color=Colors['beam on']);\n",
    "set_axes(ax,r'$N_{pairs}$','number of bins',do_add_legend=True,title=r'$N_{pairs}$ in non-empty bins in data ($5^6$ bins)')\n",
    "\n",
    "ax=fig.add_subplot(1,2,2)\n",
    "plot_discrete_histogram(data=Nmc_detector_cuts_in_bin_array,histtype='step',linewidth=3,color='forestgreen',label='detector cuts')\n",
    "plot_discrete_histogram(data=Nmc_all_cuts_in_bin_array,histtype='step',linewidth=3,color='royalblue',label='detector+kinematical cuts')\n",
    "# plt.hist(Nmc_detector_cuts_in_bin_array,bins=linspace(0,100,100),label='detector cuts',histtype='step',linewidth=3);\n",
    "# plt.hist(Nmc_all_cuts_in_bin_array,bins=linspace(0,100,100),label='detector+kinematical cuts',histtype='step',linewidth=3);\n",
    "set_axes(ax,r'$N_{pairs}$','number of bins',do_add_legend=True,title=r'$N_{pairs}$ in non-empty bins in overlay ($5^6$ bins)',xlim=(-1,90))\n",
    "\n",
    "plt.savefig('/Users/erezcohen/Desktop/Npairs_in_6d_bins.pdf')"
   ]
  },
  {
   "cell_type": "code",
   "execution_count": 64,
   "metadata": {},
   "outputs": [
    {
     "name": "stdout",
     "output_type": "stream",
     "text": [
      "55\n",
      "219\n",
      "22.397260274\n",
      "219\n"
     ]
    }
   ],
   "source": [
    "N_under_5 = Nmc_all_cuts_in_bin_array[Nmc_all_cuts_in_bin_array<5]\n",
    "print len(N_under_5)\n",
    "print len(Nmc_all_cuts_in_bin_array)\n",
    "print np.mean(Nmc_all_cuts_in_bin_array)\n",
    "print len(Ndata_in_bin_array)"
   ]
  },
  {
   "cell_type": "code",
   "execution_count": 34,
   "metadata": {},
   "outputs": [
    {
     "name": "stdout",
     "output_type": "stream",
     "text": [
      "done.\n"
     ]
    }
   ],
   "source": [
    "N_selected_CC1p = create_table_of_events_in_bins(sam=selected_CC1p)"
   ]
  },
  {
   "cell_type": "code",
   "execution_count": 39,
   "metadata": {},
   "outputs": [
    {
     "name": "stdout",
     "output_type": "stream",
     "text": [
      "done.\n"
     ]
    }
   ],
   "source": [
    "N_selected_beam_on = create_table_of_events_in_bins(sam=selected_beam_on)"
   ]
  },
  {
   "cell_type": "code",
   "execution_count": 44,
   "metadata": {},
   "outputs": [
    {
     "name": "stdout",
     "output_type": "stream",
     "text": [
      "done.\n"
     ]
    }
   ],
   "source": [
    "N_selected_CC1p_detector_cuts = create_table_of_events_in_bins(sam=reducedOverlay['vertex activity']['CC1p'])"
   ]
  },
  {
   "cell_type": "code",
   "execution_count": null,
   "metadata": {},
   "outputs": [],
   "source": []
  }
 ],
 "metadata": {
  "celltoolbar": "Slideshow",
  "kernelspec": {
   "display_name": "Python 2",
   "language": "python",
   "name": "python2"
  },
  "language_info": {
   "codemirror_mode": {
    "name": "ipython",
    "version": 2
   },
   "file_extension": ".py",
   "mimetype": "text/x-python",
   "name": "python",
   "nbconvert_exporter": "python",
   "pygments_lexer": "ipython2",
   "version": "2.7.11"
  }
 },
 "nbformat": 4,
 "nbformat_minor": 2
}
