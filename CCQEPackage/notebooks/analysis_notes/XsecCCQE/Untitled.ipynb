{
 "cells": [
  {
   "cell_type": "code",
   "execution_count": 1,
   "metadata": {},
   "outputs": [],
   "source": [
    "Limits=dict({\n",
    "            'Pmu':(0.2,1.4)\n",
    "            ,'cos(theta(mu))':(-0.5,0.95)\n",
    "            ,'Pp':(0.3,1.0)\n",
    "            ,'cos(theta(p))':(0.25,0.9)\n",
    "            })\n"
   ]
  },
  {
   "cell_type": "code",
   "execution_count": 12,
   "metadata": {},
   "outputs": [
    {
     "data": {
      "text/plain": [
       "{'Pmu': '$p_{\\\\mu}$',\n",
       " 'Pp': '$p_{p}$',\n",
       " 'cos(theta(mu))': '$\\\\cos(\\\\theta_{\\\\mu})$',\n",
       " 'cos(theta(p))': '$\\\\cos(\\\\theta_{p})$',\n",
       " 'theta(mu)': '$\\\\theta_{\\\\mu}$',\n",
       " 'theta(p)': '$\\\\theta_{p}$'}"
      ]
     },
     "execution_count": 12,
     "metadata": {},
     "output_type": "execute_result"
    }
   ],
   "source": [
    "vlabels = dict({\n",
    "               'Pmu':r\"p_{\\mu}\"\n",
    "               ,'theta(mu)':r\"\\theta_{\\mu}\"\n",
    "               ,'cos(theta(mu))':r\"\\cos(\\theta_{\\mu})\"\n",
    "               ,'Pp':r\"p_{p}\"\n",
    "               ,'theta(p)':r\"\\theta_{p}\"\n",
    "               ,'cos(theta(p))':r\"\\cos(\\theta_{p})\"\n",
    "               })\n",
    "\n",
    "Vlabels = dict()\n",
    "for key in vlabels.keys():\n",
    "    Vlabels[key] = r\"$\"+vlabels[key]+\"$\"\n",
    "\n",
    "Vlabels"
   ]
  },
  {
   "cell_type": "code",
   "execution_count": null,
   "metadata": {},
   "outputs": [],
   "source": []
  }
 ],
 "metadata": {
  "kernelspec": {
   "display_name": "Python 2",
   "language": "python",
   "name": "python2"
  },
  "language_info": {
   "codemirror_mode": {
    "name": "ipython",
    "version": 2
   },
   "file_extension": ".py",
   "mimetype": "text/x-python",
   "name": "python",
   "nbconvert_exporter": "python",
   "pygments_lexer": "ipython2",
   "version": "2.7.11"
  }
 },
 "nbformat": 4,
 "nbformat_minor": 2
}
