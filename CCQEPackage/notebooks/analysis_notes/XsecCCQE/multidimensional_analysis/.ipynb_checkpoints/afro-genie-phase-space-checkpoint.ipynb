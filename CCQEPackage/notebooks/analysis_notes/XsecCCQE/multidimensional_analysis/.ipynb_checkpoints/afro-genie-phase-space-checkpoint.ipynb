{
 "cells": [
  {
   "cell_type": "markdown",
   "metadata": {},
   "source": [
    "# phase-space in afro genie files"
   ]
  },
  {
   "cell_type": "code",
   "execution_count": 1,
   "metadata": {
    "scrolled": false,
    "slideshow": {
     "slide_type": "skip"
    }
   },
   "outputs": [
    {
     "name": "stdout",
     "output_type": "stream",
     "text": [
      "versions:\n",
      "{   'OffBeam': 'prod_reco_optfilter_extbnb_v12_mcc8_dev',\n",
      "    'OnBeam': 'prod_reco_optfilter_bnb_v12_unblind_mcc8',\n",
      "    'Overlay': 'prodgenie_bnb_nu_uboone_overlay_mcc8.11_reco2',\n",
      "    'data date': '2018_05_11',\n",
      "    'date': '2018_05_11',\n",
      "    'overlay date': '2018_05_11'}\n",
      "OffBeam_scaling: 0.706302660161 = N(on beam)/N(off beam) before SwT\n",
      "f(POT): 0.0512441465374 = N(POT on beam)/N(POT MC)\n"
     ]
    }
   ],
   "source": [
    "import sys; sys.path.insert(0, '../../../'); \n",
    "from ccqe_notebook_tools import * \n",
    "from mupClassification_notebooks import *\n",
    "from onbeam_offbeam_notebooks import *\n",
    "from Xsec_tools import *\n",
    "%matplotlib inline\n",
    "sns.set(font_scale=2);sns.set_style(\"whitegrid\");"
   ]
  },
  {
   "cell_type": "code",
   "execution_count": null,
   "metadata": {},
   "outputs": [
    {
     "name": "stdout",
     "output_type": "stream",
     "text": [
      "loaded nominal\n",
      "39510 afro GENIE CC1p\n",
      "19225 afro GENIE CC1p in kinematical cuts\n"
     ]
    }
   ],
   "source": [
    "afro_genie_dict = dict()\n",
    "afro_genie_CC1p_dict = dict()\n",
    "afro_genie_CC1p_in_cuts_dict = dict()\n",
    "path = '/Users/erezcohen/Desktop/uBoone/CCQEanalysis/afro_genie_samples/'\n",
    "for gname in ['nominal','hA2015','hN2015','hA_SRC']:\n",
    "    afro_genie_dict[gname] = pd.read_csv(path + 'CC_4_9E20_POT_mA_0_99'+'_'+gname+'.csv')\n",
    "    print 'loaded',gname\n",
    "    afro_genie = afro_genie_dict[gname]\n",
    "    afro_genie_contained = afro_genie[(afro_genie.IsCC_1p_200MeVc==True)\n",
    "                        & ((afro_genie.v_x>3) & (afro_genie.v_x<256))                        \n",
    "                        & ((afro_genie.v_y>-115) & (afro_genie.v_y<115))                        \n",
    "                        & ((afro_genie.v_z>5) & (afro_genie.v_z<1037))                        \n",
    "                       ]\n",
    "    afro_genie_in_limits = sample_in_limits(sam=afro_genie_contained\n",
    "                                   ,varPmu='truth_Pmu',varPmu_cos_theta='truth_Pmu_cos_theta'\n",
    "                                   ,varPp='truth_Pp',varPp_cos_theta='truth_Pp_cos_theta')\n",
    "    afro_genie_CC1p = afro_genie_in_limits[afro_genie_in_limits['IsCC_1p_200MeVc']==True]\n",
    "    print len(afro_genie_CC1p),'afro GENIE CC1p'\n",
    "    afro_genie_CC1p_dict[gname] = afro_genie_CC1p    \n",
    "    # kinematical cuts\n",
    "    delta_Delta_phi=35 # deg.\n",
    "    Pt_max=0.35        # GeV/c\n",
    "    afro_genie_CC1p_in_cuts = afro_genie_CC1p[(afro_genie_CC1p['p_t']<0.35)\n",
    "                                         &(np.abs(afro_genie_CC1p['delta_phi']-180.)<delta_Delta_phi)]\n",
    "\n",
    "    print len(afro_genie_CC1p_in_cuts),'afro GENIE CC1p in kinematical cuts'\n",
    "    afro_genie_CC1p_in_cuts_dict[gname] = afro_genie_CC1p_in_cuts    "
   ]
  },
  {
   "cell_type": "code",
   "execution_count": null,
   "metadata": {},
   "outputs": [],
   "source": []
  }
 ],
 "metadata": {
  "celltoolbar": "Slideshow",
  "kernelspec": {
   "display_name": "Python 2",
   "language": "python",
   "name": "python2"
  },
  "language_info": {
   "codemirror_mode": {
    "name": "ipython",
    "version": 2
   },
   "file_extension": ".py",
   "mimetype": "text/x-python",
   "name": "python",
   "nbconvert_exporter": "python",
   "pygments_lexer": "ipython2",
   "version": "2.7.11"
  }
 },
 "nbformat": 4,
 "nbformat_minor": 2
}
