{
 "cells": [
  {
   "cell_type": "markdown",
   "metadata": {},
   "source": [
    "# check the correspondence of different overlay samples"
   ]
  },
  {
   "cell_type": "code",
   "execution_count": 1,
   "metadata": {},
   "outputs": [
    {
     "name": "stdout",
     "output_type": "stream",
     "text": [
      "versions:\n",
      "{   'OffBeam': 'prod_reco_optfilter_extbnb_v12_mcc8_dev',\n",
      "    'OnBeam': 'prod_reco_optfilter_bnb_v12_unblind_mcc8',\n",
      "    'Overlay': 'prodgenie_bnb_nu_uboone_overlay_mcc8.11_reco2',\n",
      "    'data date': '2018_05_11',\n",
      "    'date': '2018_05_11',\n",
      "    'overlay date': '2018_05_11'}\n",
      "OffBeam_scaling: 0.706302660161 = N(on beam)/N(off beam) before SwT\n",
      "f(POT): 0.0512441465374 = N(POT on beam)/N(POT MC)\n"
     ]
    }
   ],
   "source": [
    "import sys; sys.path.insert(0, '../../../'); \n",
    "from ccqe_notebook_tools import * \n",
    "from mupClassification_notebooks import *\n",
    "from onbeam_offbeam_notebooks import *\n",
    "from Xsec_tools import *\n",
    "%matplotlib inline"
   ]
  },
  {
   "cell_type": "markdown",
   "metadata": {},
   "source": [
    "## load mc and data"
   ]
  },
  {
   "cell_type": "code",
   "execution_count": 25,
   "metadata": {},
   "outputs": [
    {
     "name": "stdout",
     "output_type": "stream",
     "text": [
      "285009 ccqe candidate pairs, 180070 in FV\n",
      "74387 are 1mu-1p, 41.3%\n",
      "55226 are other-pairs, 30.7%\n",
      "155396 are cosmic, 86.3%\n",
      "\u001b[92m--------------------------------------------------------------\u001b[0m\n",
      "36843 are CC1p0pi, 20.5%\n",
      "\u001b[92m--------------------------------------------------------------\u001b[0m\n",
      "40729 are CC1p, 22.6%\n",
      "I finished loading overlay samples. We have in total 285009 pairs\n"
     ]
    }
   ],
   "source": [
    "versions['overlay date'] = '2018_08_16'\n",
    "versions['Overlay'] = 'prodgenie_bnb_nu_uboone_overlay_mcc8.11_reco2'\n",
    "OverlaySamples = load_samples(date=versions['overlay date'],filename=versions['Overlay']+'_'+versions['overlay date']+'_vertices')\n",
    "cuts_order  = ['no cut','Chi2Proton','Nflashes','MatchedFlash','length','non-collinearity','vertex activity','delta phi','Pt & delta phi']\n",
    "reducedOverlay,pureffOverlay,pureffNumbers = apply_cuts_to_overlay(OverlaySamples=OverlaySamples,cuts_order=cuts_order)"
   ]
  },
  {
   "cell_type": "code",
   "execution_count": 36,
   "metadata": {},
   "outputs": [
    {
     "name": "stdout",
     "output_type": "stream",
     "text": [
      "0.514253667822\n",
      "prodgenie_bnb_nu_uboone_overlay_mcc8.11_reco2 POT: 9.6191658e+20 ,f_POT_detsys: 0.0510231354989\n"
     ]
    }
   ],
   "source": [
    "versions['Overlay'] = 'prodgenie_bnb_nu_uboone_overlay_mcc8.11_reco2'\n",
    "summary = pd.read_csv('/Users/erezcohen/Desktop/uBoone/CCQEanalysis/csvFiles/summary/'\n",
    "                              +versions['overlay date']+'/'\n",
    "                              +versions['Overlay']+'_'+versions['overlay date']+'_summary.csv')\n",
    "overlay_POT= np.sum(summary.POT)\n",
    "f_POT_overlay = 4.908e+19/overlay_POT\n",
    "print versions['Overlay'],'POT:',overlay_POT,',f_POT_detsys:',f_POT_overlay"
   ]
  },
  {
   "cell_type": "code",
   "execution_count": 9,
   "metadata": {},
   "outputs": [
    {
     "name": "stdout",
     "output_type": "stream",
     "text": [
      "35618 ccqe candidate pairs, 24415 in FV\n",
      "6889 are 1mu-1p, 28.2%\n",
      "5352 are other-pairs, 21.9%\n",
      "23407 are cosmic, 95.9%\n",
      "\u001b[92m--------------------------------------------------------------\u001b[0m\n",
      "3294 are CC1p0pi, 13.5%\n",
      "\u001b[92m--------------------------------------------------------------\u001b[0m\n",
      "3657 are CC1p, 15.0%\n",
      "I finished loading overlay samples. We have in total 35618 pairs\n"
     ]
    }
   ],
   "source": [
    "versions['overlay date'] = '2018_08_16'\n",
    "versions['Overlay'] = 'prodgenie_bnb_nu_cosmic_uboone_detsyst_withDIC_mcc8.11_reco'\n",
    "OverlaySamples_detsyst_withDIC = load_samples(date=versions['overlay date'],filename=versions['Overlay']+'_'+versions['overlay date']+'_vertices')\n",
    "cuts_order  = ['no cut','Chi2Proton','Nflashes','MatchedFlash','length','non-collinearity','vertex activity','delta phi','Pt & delta phi']\n",
    "reducedOverlay_detsyst_withDIC,pureffOverlay_detsyst_withDIC,pureffNumbers_detsyst_withDIC = apply_cuts_to_overlay(OverlaySamples=OverlaySamples_detsyst_withDIC,cuts_order=cuts_order)"
   ]
  },
  {
   "cell_type": "code",
   "execution_count": 35,
   "metadata": {},
   "outputs": [
    {
     "name": "stdout",
     "output_type": "stream",
     "text": [
      "0.514253667822\n",
      "prodgenie_bnb_nu_cosmic_uboone_detsyst_withDIC_mcc8.11_reco POT: 9.54392804e+19 ,f_POT_detsys: 0.514253667822\n"
     ]
    }
   ],
   "source": [
    "versions['overlay date'] = '2018_08_16'\n",
    "versions['Overlay'] = 'prodgenie_bnb_nu_cosmic_uboone_detsyst_withDIC_mcc8.11_reco'\n",
    "summary = pd.read_csv('/Users/erezcohen/Desktop/uBoone/CCQEanalysis/csvFiles/summary/'\n",
    "                              +versions['overlay date']+'/'\n",
    "                              +versions['Overlay']+'_'+versions['overlay date']+'_summary.csv')\n",
    "overlay_POT= np.sum(summary.POT)\n",
    "f_POT_detsys = 4.908e+19/overlay_POT\n",
    "print versions['Overlay'],'POT:',overlay_POT,',f_POT_detsys:',f_POT_detsys"
   ]
  },
  {
   "cell_type": "code",
   "execution_count": 49,
   "metadata": {},
   "outputs": [
    {
     "data": {
      "text/plain": [
       "[<matplotlib.lines.Line2D at 0x17b5cc7d0>]"
      ]
     },
     "execution_count": 49,
     "metadata": {},
     "output_type": "execute_result"
    },
    {
     "data": {
      "image/png": "[encoded data removed]",
      "text/plain": [
       "<matplotlib.figure.Figure at 0x17ac101d0>"
      ]
     },
     "metadata": {},
     "output_type": "display_data"
    }
   ],
   "source": [
    "bins,mid,bin_width,vlabel,xlabel,units = get_labels(observable='phi(mu)')\n",
    "fig=plt.figure(figsize=(9.7,8))\n",
    "histo,herr = dict(),dict()\n",
    "ax=fig.add_subplot(3,1,(1,2))\n",
    "for CC1p,clabel,f_POT,color in zip([OverlaySamples['CC1p'],OverlaySamples_detsyst_withDIC['CC1p']]\n",
    "                             ,['nominal MC','with induced charge']\n",
    "                             ,[f_POT_overlay,f_POT_detsys],['blue','black']):\n",
    "    histo[clabel],_ = np.histogram(180./np.pi*CC1p['reco_Pmu_mcs_phi'],bins=bins)\n",
    "    herr[clabel] = np.sqrt(histo[clabel])\n",
    "    histo[clabel] , herr[clabel] = histo[clabel]*f_POT , herr[clabel]*f_POT\n",
    "    ax.errorbar(x=mid,xerr=0.5*bin_width,y=histo[clabel],yerr=herr[clabel]\n",
    "                ,fmt='o',markersize=0,capsize=10,linewidth=3,color=color,label=clabel)\n",
    "set_axes(ax,'','counts [4.9e19 POT]',remove_ticks_x=True)\n",
    "# plt.legend(bbox_to_anchor=(1,1.05),loc=2,fontsize=25)\n",
    "\n",
    "ratio = histo['with induced charge']/histo['nominal MC']\n",
    "ratio_err = ratio*np.sqrt(1./histo['with induced charge']+1./histo['nominal MC'])\n",
    "\n",
    "ax=fig.add_subplot(3,1,3)\n",
    "ax.errorbar(x=mid,xerr=0.5*bin_width,y=ratio,yerr=ratio_err,fmt='o',markersize=0,capsize=10,linewidth=3,color='purple')\n",
    "set_axes(ax,r'$\\phi_\\mu$','ratio')\n",
    "plt.plot([-180,180],[1,1],'--',color='black')"
   ]
  },
  {
   "cell_type": "code",
   "execution_count": null,
   "metadata": {},
   "outputs": [],
   "source": []
  }
 ],
 "metadata": {
  "celltoolbar": "Slideshow",
  "kernelspec": {
   "display_name": "Python 2",
   "language": "python",
   "name": "python2"
  },
  "language_info": {
   "codemirror_mode": {
    "name": "ipython",
    "version": 2
   },
   "file_extension": ".py",
   "mimetype": "text/x-python",
   "name": "python",
   "nbconvert_exporter": "python",
   "pygments_lexer": "ipython2",
   "version": "2.7.11"
  }
 },
 "nbformat": 4,
 "nbformat_minor": 2
}
