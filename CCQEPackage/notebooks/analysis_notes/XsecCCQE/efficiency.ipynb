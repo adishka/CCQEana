{
 "cells": [
  {
   "cell_type": "markdown",
   "metadata": {},
   "source": [
    "# effiency of $CC1p$ events"
   ]
  },
  {
   "cell_type": "code",
   "execution_count": 1,
   "metadata": {
    "scrolled": false,
    "slideshow": {
     "slide_type": "skip"
    }
   },
   "outputs": [
    {
     "name": "stdout",
     "output_type": "stream",
     "text": [
      "versions:\n",
      "{   'OffBeam': 'prod_reco_optfilter_extbnb_v12_mcc8_dev',\n",
      "    'OnBeam': 'prod_reco_optfilter_bnb_v12_unblind_mcc8',\n",
      "    'Overlay': 'prodgenie_bnb_nu_uboone_overlay_mcc8.11_reco2',\n",
      "    'data date': '2018_05_11',\n",
      "    'date': '2018_05_11',\n",
      "    'overlay date': '2018_05_11'}\n",
      "OffBeam_scaling: 0.706302660161 = N(on beam)/N(off beam) before SwT\n",
      "f(POT): 0.0512441465374 = N(POT on beam)/N(POT MC)\n"
     ]
    }
   ],
   "source": [
    "from Xsec_setup import *\n",
    "%matplotlib inline"
   ]
  },
  {
   "cell_type": "code",
   "execution_count": 2,
   "metadata": {
    "scrolled": true
   },
   "outputs": [],
   "source": [
    "figures_path = '/Users/erezcohen/Desktop/Projects/uBoone/write-ups/Xsec/Figures/efficiencies/'"
   ]
  },
  {
   "cell_type": "code",
   "execution_count": 3,
   "metadata": {},
   "outputs": [
    {
     "name": "stdout",
     "output_type": "stream",
     "text": [
      "checked /Users/erezcohen/Desktop/uBoone/CCQEanalysis/csvFiles/selected_events/prodgenie_bnb_nu_uboone_overlay_mcc8.11_reco2_2018_08_16_selected_cosmic.csv and found the file...\n",
      "13551 events in the overlay\n"
     ]
    }
   ],
   "source": [
    "versions['overlay date'] = '2018_08_16'\n",
    "versions['Overlay'] = 'prodgenie_bnb_nu_uboone_overlay_mcc8.11_reco2'\n",
    "selected_path = '/Users/erezcohen/Desktop/uBoone/CCQEanalysis/csvFiles/selected_events/'\n",
    "prefix = selected_path + versions['Overlay'] + '_' + versions['overlay date'] + '_'\n",
    "selected_overlay=dict()\n",
    "\n",
    "cuts_order  = ['no cut','Chi2Proton','Nflashes','MatchedFlash','length'\n",
    "               ,'non-collinearity','vertex activity'\n",
    "               ,'delta phi','Pt & delta phi']\n",
    "cutlabels = ['preselection','$dE/dx$ profile',r'$N_{flashes}>0$','optical filter','track lengths'\n",
    "             ,'non-collinearity','vertex activity'\n",
    "             ,'coplanarity','$p_t<0.35$ GeV/c']\n",
    "\n",
    "if os.path.isfile(prefix+'selected_cosmic.csv'): \n",
    "    print 'checked',prefix+'selected_cosmic.csv','and found the file...'\n",
    "    for pair_type in pair_types:\n",
    "        selected_overlay[pair_type]=pd.read_csv(prefix+'selected_'+pair_type+'.csv')\n",
    "\n",
    "else:\n",
    "    print 'checked',prefix+'selected_cosmic.csv','and there was no file there...'\n",
    "    OverlaySamples = load_samples(date=versions['overlay date'],filename=versions['Overlay']+'_'+versions['overlay date']+'_vertices')\n",
    "    reducedOverlay,pureffOverlay,pureffNumbers = apply_cuts_to_overlay(OverlaySamples=OverlaySamples, cuts_order=cuts_order)\n",
    "    print 'applied cuts to overlay'\n",
    "    for pair_type in pair_types:\n",
    "        selected_overlay[pair_type] = reducedOverlay['Pt & delta phi'][pair_type]\n",
    "        outcsvname = prefix+'selected_'+pair_type+'.csv'\n",
    "        selected_overlay[pair_type].to_csv(outcsvname)\n",
    "        print 'saved selected',pair_type,'to',outcsvname\n",
    "    \n",
    "    # overlay scaling\n",
    "    summary = pd.read_csv('/Users/erezcohen/Desktop/uBoone/CCQEanalysis/csvFiles/summary/'+versions['overlay date']+'/'+versions['Overlay']+'_'+versions['overlay date']+'_summary.csv')\n",
    "    Nevents['OnBeam POT'] = 4.908e+19\n",
    "    Nevents['overlay']      = np.sum(summary.Nevents)\n",
    "    Nevents['overlay POT']  = np.sum(summary.POT)\n",
    "    Nevents['f(POT)']       = Nevents['OnBeam POT']/Nevents['overlay POT']\n",
    "    print \"Nevents['f(POT)']:\",Nevents['f(POT)']\n",
    "\n",
    "selected_overlay_concat = pd.concat([selected_overlay['1mu-1p'],selected_overlay['cosmic'],selected_overlay['other pairs']])    \n",
    "print len(selected_overlay_concat),'events in the overlay'"
   ]
  },
  {
   "cell_type": "code",
   "execution_count": 4,
   "metadata": {},
   "outputs": [
    {
     "name": "stdout",
     "output_type": "stream",
     "text": [
      "930168 events in genie\n"
     ]
    }
   ],
   "source": [
    "genie = pd.read_csv('/Users/erezcohen/Desktop/uBoone/CCQEanalysis/csvFiles/genie/'\n",
    "                    +versions['overlay date']+'/'\n",
    "                    +versions['Overlay']+'_'+versions['overlay date']+'_genie.csv')\n",
    "print len(genie),'events in genie'"
   ]
  },
  {
   "cell_type": "code",
   "execution_count": 5,
   "metadata": {},
   "outputs": [
    {
     "name": "stdout",
     "output_type": "stream",
     "text": [
      "10877 selected CC1p events overlay\n",
      "123360 CC1p events in genie\n"
     ]
    }
   ],
   "source": [
    "genie_CC1p = genie[(genie.IsCC_1p_200MeVc==True) & (genie.IsInActiveVolume==True)]\n",
    "selected_CC1p = selected_overlay['CC 1p']\n",
    "print len(selected_CC1p),'selected CC1p events overlay'\n",
    "print len(genie_CC1p),'CC1p events in genie'"
   ]
  },
  {
   "cell_type": "markdown",
   "metadata": {},
   "source": [
    "## absolute efficiency"
   ]
  },
  {
   "cell_type": "code",
   "execution_count": 6,
   "metadata": {},
   "outputs": [],
   "source": [
    "def get_eff(Ngen=1,Nsel=1,debug=0):\n",
    "    '''\n",
    "    return: eff, eff_err    \n",
    "    '''\n",
    "    eff = float(Nsel)/Ngen\n",
    "    eff_err = eff*np.sqrt(1./Nsel + 1./Ngen)\n",
    "    if debug: print 'eff = %.4f +/ %.4f'%(eff,eff_err)\n",
    "    return eff,eff_err\n",
    "\n",
    "def get_eff_samples(generated=None,selected=None,debug=0):\n",
    "    '''\n",
    "    return: eff, eff_err    \n",
    "    '''\n",
    "    Ngen = float(len(generated))\n",
    "    Nsel = float(len(selected))\n",
    "    return get_eff(Ngen=Ngen,Nsel=Nsel,debug=debug)"
   ]
  },
  {
   "cell_type": "code",
   "execution_count": 7,
   "metadata": {},
   "outputs": [
    {
     "data": {
      "text/plain": [
       "(0.08817282749675746, 0.0008819198995310177)"
      ]
     },
     "execution_count": 7,
     "metadata": {},
     "output_type": "execute_result"
    }
   ],
   "source": [
    "get_eff_samples(generated=genie_CC1p,selected=selected_CC1p)"
   ]
  },
  {
   "cell_type": "markdown",
   "metadata": {},
   "source": [
    "### 1d efficiency distribution"
   ]
  },
  {
   "cell_type": "code",
   "execution_count": 8,
   "metadata": {},
   "outputs": [
    {
     "name": "stdout",
     "output_type": "stream",
     "text": [
      "0 0.1\n",
      "1 0.333333333333\n",
      "2 0.566666666667\n",
      "3 0.8\n",
      "4 1.03333333333\n",
      "5 1.26666666667\n",
      "done.\n"
     ]
    }
   ],
   "source": [
    "bins=Bins['Pmu']\n",
    "xvar='truth_Pmu'\n",
    "xlabel=Labels['Pmu']\n",
    "mid = 0.5*(bins[1:]+bins[:-1]); bin_width=0.5*(mid[1]-mid[0])\n",
    "h = dict()\n",
    "h['generated'],_ = np.histogram(genie_CC1p[xvar],bins=bins)\n",
    "h['selected'],_ = np.histogram(selected_CC1p[xvar],bins=bins)\n",
    "\n",
    "h['eff'],h['eff err'] = [],[]\n",
    "for i in range(len(bins)-1):\n",
    "    print i,bins[i]\n",
    "    eff,eff_err = get_eff(Ngen=h['generated'][i],Nsel=h['selected'][i])\n",
    "    h['eff'].append(eff)\n",
    "    h['eff err'].append(eff_err)\n",
    "print 'done.'"
   ]
  },
  {
   "cell_type": "code",
   "execution_count": 9,
   "metadata": {},
   "outputs": [
    {
     "data": {
      "text/plain": [
       "<matplotlib.axes._subplots.AxesSubplot at 0x10c706890>"
      ]
     },
     "execution_count": 9,
     "metadata": {},
     "output_type": "execute_result"
    },
    {
     "data": {
      "image/png": "[encoded data removed]",
      "text/plain": [
       "<matplotlib.figure.Figure at 0x10c7064d0>"
      ]
     },
     "metadata": {},
     "output_type": "display_data"
    }
   ],
   "source": [
    "fig=plt.figure(figsize=(20,6))\n",
    "ax=fig.add_subplot(1,2,1)\n",
    "for label,color in zip(['generated','selected'],['forestgreen','royalblue']):\n",
    "    plt.errorbar(x=mid,xerr=bin_width,y=h[label],yerr=np.sqrt(h[label])\n",
    "                 ,color=color,capsize=10,fmt='.',markersize=0,label=label)\n",
    "set_axes(ax,xlabel,do_add_grid=True,do_add_legend=True)\n",
    "\n",
    "ax=fig.add_subplot(1,2,2)\n",
    "plt.errorbar(x=mid,xerr=bin_width,y=h['eff'],yerr=h['eff err']\n",
    "                 ,color='black',capsize=10,fmt='.',markersize=0)\n",
    "set_axes(ax,xlabel,y_label='efficiency',do_add_grid=True,ylim=(0,1.05*np.max(h['eff']+h['eff err'])))"
   ]
  },
  {
   "cell_type": "markdown",
   "metadata": {},
   "source": [
    "## smear the generated observables"
   ]
  },
  {
   "cell_type": "code",
   "execution_count": 10,
   "metadata": {},
   "outputs": [],
   "source": [
    "migration_maps_path = '/Users/erezcohen/Desktop/uBoone/CCQEanalysis/Xsec/migration_maps/'"
   ]
  },
  {
   "cell_type": "code",
   "execution_count": 11,
   "metadata": {},
   "outputs": [
    {
     "ename": "IOError",
     "evalue": "[Errno 2] No such file or directory: '/Users/erezcohen/Desktop/uBoone/CCQEanalysis/Xsec/migration_maps/truth_Pmu_vs_reco_Pmu_mcs_6_bins.csv'",
     "output_type": "error",
     "traceback": [
      "\u001b[0;31m---------------------------------------------------------------------------\u001b[0m",
      "\u001b[0;31mIOError\u001b[0m                                   Traceback (most recent call last)",
      "\u001b[0;32m<ipython-input-11-947e2d21f7f1>\u001b[0m in \u001b[0;36m<module>\u001b[0;34m()\u001b[0m\n\u001b[1;32m      1\u001b[0m \u001b[0mfilename\u001b[0m \u001b[0;34m=\u001b[0m \u001b[0mmigration_maps_path\u001b[0m \u001b[0;34m+\u001b[0m \u001b[0;34m\"%s_vs_%s_%d_bins.csv\"\u001b[0m\u001b[0;34m%\u001b[0m\u001b[0;34m(\u001b[0m\u001b[0;34m'truth_Pmu'\u001b[0m\u001b[0;34m,\u001b[0m\u001b[0;34m'reco_Pmu_mcs'\u001b[0m\u001b[0;34m,\u001b[0m\u001b[0mlen\u001b[0m\u001b[0;34m(\u001b[0m\u001b[0mBins\u001b[0m\u001b[0;34m[\u001b[0m\u001b[0;34m'Pmu'\u001b[0m\u001b[0;34m]\u001b[0m\u001b[0;34m)\u001b[0m\u001b[0;34m-\u001b[0m\u001b[0;36m1\u001b[0m\u001b[0;34m)\u001b[0m\u001b[0;34m\u001b[0m\u001b[0m\n\u001b[0;32m----> 2\u001b[0;31m \u001b[0mmigration_map_Pmu\u001b[0m \u001b[0;34m=\u001b[0m \u001b[0mnp\u001b[0m\u001b[0;34m.\u001b[0m\u001b[0mloadtxt\u001b[0m\u001b[0;34m(\u001b[0m\u001b[0mfilename\u001b[0m\u001b[0;34m,\u001b[0m\u001b[0mdelimiter\u001b[0m\u001b[0;34m=\u001b[0m\u001b[0;34m','\u001b[0m\u001b[0;34m)\u001b[0m\u001b[0;34m\u001b[0m\u001b[0m\n\u001b[0m\u001b[1;32m      3\u001b[0m \u001b[0;32mprint\u001b[0m \u001b[0;34m'migration_map_Pmu \\n'\u001b[0m\u001b[0;34m,\u001b[0m\u001b[0mmigration_map_Pmu\u001b[0m\u001b[0;34m\u001b[0m\u001b[0m\n\u001b[1;32m      4\u001b[0m \u001b[0mfilename\u001b[0m \u001b[0;34m=\u001b[0m \u001b[0mmigration_maps_path\u001b[0m \u001b[0;34m+\u001b[0m \u001b[0;34m\"%s_vs_%s_%d_bins.csv\"\u001b[0m\u001b[0;34m%\u001b[0m\u001b[0;34m(\u001b[0m\u001b[0;34m'truth_Pmu_theta'\u001b[0m\u001b[0;34m,\u001b[0m\u001b[0;34m'reco_Pmu_mcs_theta'\u001b[0m\u001b[0;34m,\u001b[0m\u001b[0mlen\u001b[0m\u001b[0;34m(\u001b[0m\u001b[0mBins\u001b[0m\u001b[0;34m[\u001b[0m\u001b[0;34m'theta(mu)'\u001b[0m\u001b[0;34m]\u001b[0m\u001b[0;34m)\u001b[0m\u001b[0;34m-\u001b[0m\u001b[0;36m1\u001b[0m\u001b[0;34m)\u001b[0m\u001b[0;34m\u001b[0m\u001b[0m\n\u001b[1;32m      5\u001b[0m \u001b[0mmigration_map_Pmu_theta\u001b[0m \u001b[0;34m=\u001b[0m \u001b[0mnp\u001b[0m\u001b[0;34m.\u001b[0m\u001b[0mloadtxt\u001b[0m\u001b[0;34m(\u001b[0m\u001b[0mfilename\u001b[0m\u001b[0;34m,\u001b[0m\u001b[0mdelimiter\u001b[0m\u001b[0;34m=\u001b[0m\u001b[0;34m','\u001b[0m\u001b[0;34m)\u001b[0m\u001b[0;34m\u001b[0m\u001b[0m\n",
      "\u001b[0;32m/usr/local/lib/python2.7/site-packages/numpy/lib/npyio.pyc\u001b[0m in \u001b[0;36mloadtxt\u001b[0;34m(fname, dtype, comments, delimiter, converters, skiprows, usecols, unpack, ndmin)\u001b[0m\n\u001b[1;32m    894\u001b[0m                 \u001b[0mfh\u001b[0m \u001b[0;34m=\u001b[0m \u001b[0miter\u001b[0m\u001b[0;34m(\u001b[0m\u001b[0mbz2\u001b[0m\u001b[0;34m.\u001b[0m\u001b[0mBZ2File\u001b[0m\u001b[0;34m(\u001b[0m\u001b[0mfname\u001b[0m\u001b[0;34m)\u001b[0m\u001b[0;34m)\u001b[0m\u001b[0;34m\u001b[0m\u001b[0m\n\u001b[1;32m    895\u001b[0m             \u001b[0;32melif\u001b[0m \u001b[0msys\u001b[0m\u001b[0;34m.\u001b[0m\u001b[0mversion_info\u001b[0m\u001b[0;34m[\u001b[0m\u001b[0;36m0\u001b[0m\u001b[0;34m]\u001b[0m \u001b[0;34m==\u001b[0m \u001b[0;36m2\u001b[0m\u001b[0;34m:\u001b[0m\u001b[0;34m\u001b[0m\u001b[0m\n\u001b[0;32m--> 896\u001b[0;31m                 \u001b[0mfh\u001b[0m \u001b[0;34m=\u001b[0m \u001b[0miter\u001b[0m\u001b[0;34m(\u001b[0m\u001b[0mopen\u001b[0m\u001b[0;34m(\u001b[0m\u001b[0mfname\u001b[0m\u001b[0;34m,\u001b[0m \u001b[0;34m'U'\u001b[0m\u001b[0;34m)\u001b[0m\u001b[0;34m)\u001b[0m\u001b[0;34m\u001b[0m\u001b[0m\n\u001b[0m\u001b[1;32m    897\u001b[0m             \u001b[0;32melse\u001b[0m\u001b[0;34m:\u001b[0m\u001b[0;34m\u001b[0m\u001b[0m\n\u001b[1;32m    898\u001b[0m                 \u001b[0mfh\u001b[0m \u001b[0;34m=\u001b[0m \u001b[0miter\u001b[0m\u001b[0;34m(\u001b[0m\u001b[0mopen\u001b[0m\u001b[0;34m(\u001b[0m\u001b[0mfname\u001b[0m\u001b[0;34m)\u001b[0m\u001b[0;34m)\u001b[0m\u001b[0;34m\u001b[0m\u001b[0m\n",
      "\u001b[0;31mIOError\u001b[0m: [Errno 2] No such file or directory: '/Users/erezcohen/Desktop/uBoone/CCQEanalysis/Xsec/migration_maps/truth_Pmu_vs_reco_Pmu_mcs_6_bins.csv'"
     ]
    }
   ],
   "source": [
    "filename = migration_maps_path + \"%s_vs_%s_%d_bins.csv\"%('truth_Pmu','reco_Pmu_mcs',len(Bins['Pmu'])-1)\n",
    "migration_map_Pmu = np.loadtxt(filename,delimiter=',')\n",
    "print 'migration_map_Pmu \\n',migration_map_Pmu\n",
    "filename = migration_maps_path + \"%s_vs_%s_%d_bins.csv\"%('truth_Pmu_theta','reco_Pmu_mcs_theta',len(Bins['theta(mu)'])-1)\n",
    "migration_map_Pmu_theta = np.loadtxt(filename,delimiter=',')\n",
    "print 'migration_map_Pmu_theta \\n',migration_map_Pmu_theta\n",
    "filename = migration_maps_path + \"%s_vs_%s_%d_bins.csv\"%('truth_Pp','reco_Pp',len(Bins['Pp'])-1)\n",
    "migration_map_Pp = np.loadtxt(filename,delimiter=',')\n",
    "print 'migration_map_Pp \\n',migration_map_Pp\n",
    "filename = migration_maps_path + \"%s_vs_%s_%d_bins.csv\"%('truth_Pp_theta','reco_Pp_theta',len(Bins['theta(p)'])-1)\n",
    "migration_map_Pp_theta = np.loadtxt(filename,delimiter=',')\n",
    "print 'migration_map_Pp_theta \\n',migration_map_Pp_theta\n",
    "\n",
    "# fig,ax = plt.subplots(figsize=(9.708,6))\n",
    "# sns.set(font_scale=2);\n",
    "# sns.heatmap(migration_map,annot=True,fmt=\".2f\",cbar=False,cmap='jet')\n",
    "# set_axes(ax,'True bin $j$','Reconstructed bin $i$')\n",
    "# ax.invert_yaxis()\n",
    "# plt.tight_layout()"
   ]
  },
  {
   "cell_type": "code",
   "execution_count": null,
   "metadata": {},
   "outputs": [],
   "source": [
    "def find_bin( x , bins ):    \n",
    "    for i in range(len(bins)-1):\n",
    "        if bins[i]<x and x<bins[i+1]:\n",
    "            return i\n",
    "    return 0"
   ]
  },
  {
   "cell_type": "code",
   "execution_count": null,
   "metadata": {},
   "outputs": [],
   "source": [
    "debug=0\n",
    "smeared_Pmu_array,smeared_Pmu_theta_array,smeared_Pp_array,smeared_Pp_theta_array = [],[],[],[]\n",
    "for i,row in selected_CC1p.iterrows():\n",
    "    \n",
    "    # smearing p(muon)\n",
    "    true_bin_j = find_bin(row['truth_Pmu'], Bins['Pmu'])\n",
    "    smeared_Pmu_array.append(choice(a=0.5*(Bins['Pmu'][1:]+Bins['Pmu'][:-1]) , p=migration_map[:,true_bin_j]))\n",
    "\n",
    "    # smearing theta(muon)\n",
    "    true_bin_j = find_bin(180./np.pi*row['truth_Pmu_theta'], Bins['theta(mu)'])\n",
    "    smeared_Pmu_theta_array.append(np.pi/180.*choice(a=0.5*(Bins['theta(mu)'][1:]+Bins['theta(mu)'][:-1]) , p=migration_map[:,true_bin_j]))\n",
    "\n",
    "    # smearing p(proton)\n",
    "    true_bin_j = find_bin(row['truth_Pp'], Bins['Pp'])\n",
    "    smeared_Pp_array.append(choice(a=0.5*(Bins['Pp'][1:]+Bins['Pp'][:-1]) , p=migration_map[:,true_bin_j]))\n",
    "\n",
    "    # smearing theta(proton)\n",
    "    true_bin_j = find_bin(180./np.pi*row['truth_Pp_theta'], Bins['theta(p)'])\n",
    "    smeared_Pp_theta_array.append(np.pi/180.*choice(a=0.5*(Bins['theta(p)'][1:]+Bins['theta(p)'][:-1]) , p=migration_map[:,true_bin_j]))\n",
    "\n",
    "    \n",
    "    if debug:\n",
    "        print 'truth_Pmu:',row['truth_Pmu']\n",
    "        print 'smeared_Pmu:',choice(a=0.5*(Bins['Pmu'][1:]+Bins['Pmu'][:-1]) , p=migration_map[:,find_bin(row['truth_Pmu'], Bins['Pmu'])])        \n",
    "        print 'truth_Pp_theta:',row['truth_Pp_theta']\n",
    "        print 'true_bin_j:',true_bin_j\n",
    "        print 'smeared_Pp_theta:',choice(a=0.5*(Bins['theta(p)'][1:]+Bins['theta(p)'][:-1]) , p=migration_map[:,true_bin_j])\n",
    "        print 'smeared_Pp_theta:',np.pi/180.*choice(a=0.5*(Bins['theta(p)'][1:]+Bins['theta(p)'][:-1]) , p=migration_map[:,true_bin_j])\n",
    "        print_line()\n",
    "        \n",
    "print 'done looping.'\n",
    "selected_CC1p['smeared_Pmu']=smeared_Pmu_array\n",
    "selected_CC1p['smeared_Pmu_theta']=smeared_Pmu_theta_array\n",
    "selected_CC1p['smeared_Pp']=smeared_Pp_array\n",
    "selected_CC1p['smeared_Pp_theta']=smeared_Pp_theta_array\n",
    "print 'done smearing selected CC 1p'"
   ]
  },
  {
   "cell_type": "code",
   "execution_count": null,
   "metadata": {},
   "outputs": [],
   "source": [
    "debug=0\n",
    "smeared_Pmu_array,smeared_Pmu_theta_array,smeared_Pp_array,smeared_Pp_theta_array = [],[],[],[]\n",
    "for i,row in genie_CC1p.iterrows():\n",
    "    \n",
    "    # smearing p(muon)\n",
    "    true_bin_j = find_bin(row['truth_Pmu'], Bins['Pmu'])\n",
    "    smeared_Pmu_array.append(choice(a=0.5*(Bins['Pmu'][1:]+Bins['Pmu'][:-1]) , p=migration_map[:,true_bin_j]))\n",
    "\n",
    "    # smearing theta(muon)\n",
    "    true_bin_j = find_bin(180./np.pi*row['truth_Pmu_theta'], Bins['theta(mu)'])\n",
    "    smeared_Pmu_theta_array.append(np.pi/180.*choice(a=0.5*(Bins['theta(mu)'][1:]+Bins['theta(mu)'][:-1]) , p=migration_map[:,true_bin_j]))\n",
    "\n",
    "    # smearing p(proton)\n",
    "    true_bin_j = find_bin(row['truth_Pp'], Bins['Pp'])\n",
    "    smeared_Pp_array.append(choice(a=0.5*(Bins['Pp'][1:]+Bins['Pp'][:-1]) , p=migration_map[:,true_bin_j]))\n",
    "\n",
    "    # smearing theta(proton)\n",
    "    true_bin_j = find_bin(180./np.pi*row['truth_Pp_theta'], Bins['theta(p)'])\n",
    "    smeared_Pp_theta_array.append(np.pi/180.*choice(a=0.5*(Bins['theta(p)'][1:]+Bins['theta(p)'][:-1]) , p=migration_map[:,true_bin_j]))\n",
    "\n",
    "    \n",
    "    if debug:\n",
    "        print 'truth_Pmu:',row['truth_Pmu']\n",
    "        print 'smeared_Pmu:',choice(a=0.5*(Bins['Pmu'][1:]+Bins['Pmu'][:-1]) , p=migration_map[:,find_bin(row['truth_Pmu'], Bins['Pmu'])])        \n",
    "        print 'truth_Pp_theta:',row['truth_Pp_theta']\n",
    "        print 'true_bin_j:',true_bin_j\n",
    "        print 'smeared_Pp_theta:',choice(a=0.5*(Bins['theta(p)'][1:]+Bins['theta(p)'][:-1]) , p=migration_map[:,true_bin_j])\n",
    "        print 'smeared_Pp_theta:',np.pi/180.*choice(a=0.5*(Bins['theta(p)'][1:]+Bins['theta(p)'][:-1]) , p=migration_map[:,true_bin_j])\n",
    "        print_line()\n",
    "        \n",
    "print 'done looping.'\n",
    "genie_CC1p['smeared_Pmu']=smeared_Pmu_array\n",
    "genie_CC1p['smeared_Pmu_theta']=smeared_Pmu_theta_array\n",
    "genie_CC1p['smeared_Pp']=smeared_Pp_array\n",
    "genie_CC1p['smeared_Pp_theta']=smeared_Pp_theta_array\n",
    "print 'done smearing generated CC 1p'"
   ]
  },
  {
   "cell_type": "code",
   "execution_count": null,
   "metadata": {},
   "outputs": [],
   "source": [
    "plot_2d_hist(genie_CC1p['truth_Pmu'],genie_CC1p['smeared_Pmu'],bins=Bins['Pmu']);\n",
    "# plot_2d_hist(selected_CC1p['truth_Pp'],selected_CC1p['smeared_Pp'],bins=Bins['Pp']);\n",
    "# plot_2d_hist(180/np.pi*selected_CC1p['truth_Pp_theta'],180/np.pi*selected_CC1p['smeared_Pp_theta'],bins=Bins['theta(p)']);\n",
    "# plt.hist(selected_CC1p['smeared_Pp_theta']);"
   ]
  },
  {
   "cell_type": "code",
   "execution_count": 12,
   "metadata": {},
   "outputs": [
    {
     "name": "stdout",
     "output_type": "stream",
     "text": [
      "saved selected CC1p to /Users/erezcohen/Desktop/uBoone/CCQEanalysis/csvFiles/selected_events/prodgenie_bnb_nu_uboone_overlay_mcc8.11_reco2_2018_08_16_selected_CC1p.csv\n",
      "saved genie CC1p to /Users/erezcohen/Desktop/uBoone/CCQEanalysis/csvFiles/selected_events/prodgenie_bnb_nu_uboone_overlay_mcc8.11_reco2_2018_08_16_genie_CC1p.csv\n"
     ]
    }
   ],
   "source": [
    "outcsvname = prefix+'selected_CC1p.csv'\n",
    "selected_CC1p.to_csv(outcsvname)\n",
    "print 'saved selected CC1p to',outcsvname\n",
    "\n",
    "outcsvname = prefix+'genie_CC1p.csv'\n",
    "genie_CC1p.to_csv(outcsvname)\n",
    "print 'saved genie CC1p to',outcsvname"
   ]
  },
  {
   "cell_type": "code",
   "execution_count": null,
   "metadata": {},
   "outputs": [],
   "source": []
  },
  {
   "cell_type": "code",
   "execution_count": null,
   "metadata": {},
   "outputs": [],
   "source": []
  },
  {
   "cell_type": "code",
   "execution_count": null,
   "metadata": {},
   "outputs": [],
   "source": []
  }
 ],
 "metadata": {
  "celltoolbar": "Slideshow",
  "kernelspec": {
   "display_name": "Python 2",
   "language": "python",
   "name": "python2"
  },
  "language_info": {
   "codemirror_mode": {
    "name": "ipython",
    "version": 2
   },
   "file_extension": ".py",
   "mimetype": "text/x-python",
   "name": "python",
   "nbconvert_exporter": "python",
   "pygments_lexer": "ipython2",
   "version": "2.7.11"
  }
 },
 "nbformat": 4,
 "nbformat_minor": 2
}
