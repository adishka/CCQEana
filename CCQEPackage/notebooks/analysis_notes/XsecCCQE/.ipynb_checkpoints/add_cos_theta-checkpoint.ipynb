{
 "cells": [
  {
   "cell_type": "markdown",
   "metadata": {},
   "source": [
    "# add a variable which is cos$\\theta$"
   ]
  },
  {
   "cell_type": "code",
   "execution_count": 1,
   "metadata": {
    "scrolled": false,
    "slideshow": {
     "slide_type": "skip"
    }
   },
   "outputs": [
    {
     "name": "stdout",
     "output_type": "stream",
     "text": [
      "versions:\n",
      "{   'OffBeam': 'prod_reco_optfilter_extbnb_v12_mcc8_dev',\n",
      "    'OnBeam': 'prod_reco_optfilter_bnb_v12_unblind_mcc8',\n",
      "    'Overlay': 'prodgenie_bnb_nu_uboone_overlay_mcc8.11_reco2',\n",
      "    'data date': '2018_05_11',\n",
      "    'date': '2018_05_11',\n",
      "    'overlay date': '2018_05_11'}\n",
      "OffBeam_scaling: 0.706302660161 = N(on beam)/N(off beam) before SwT\n",
      "f(POT): 0.0512441465374 = N(POT on beam)/N(POT MC)\n"
     ]
    }
   ],
   "source": [
    "import sys; sys.path.insert(0, '../../..'); \n",
    "from ccqe_notebook_tools import * \n",
    "from mupClassification_notebooks import *\n",
    "from onbeam_offbeam_notebooks import *\n",
    "%matplotlib inline"
   ]
  },
  {
   "cell_type": "code",
   "execution_count": 2,
   "metadata": {},
   "outputs": [
    {
     "name": "stdout",
     "output_type": "stream",
     "text": [
      "read 77421 overlay events\n",
      "wrote 77421 overlay events back to to file\n",
      "read 200580 genie events\n",
      "wrote 200580 genie events back to to file\n"
     ]
    }
   ],
   "source": [
    "versions['overlay date'] = '2018_08_16'\n",
    "versions['Overlay'] = 'prodgenie_bnb_nu_cosmic_uboone_mcc8.7_reco2_dev'\n",
    "overlay_filename = vertices_files_path + versions['overlay date'] + '/' + versions['Overlay']+'_'+versions['overlay date']+'_vertices.csv'\n",
    "overlay = pd.read_csv(overlay_filename)\n",
    "print \"read %d overlay events\"%len(overlay)\n",
    "\n",
    "overlay['other-pairs'] = overlay['other pairs']\n",
    "overlay['CC1p'] = overlay['CC 1p']\n",
    "overlay['CC1p0pi'] = overlay['CC 1p 0pi']\n",
    "overlay['truth_Pmu_cos_theta'] = np.cos(overlay['truth_Pmu_theta'])\n",
    "overlay['truth_Pp_cos_theta'] = np.cos(overlay['truth_Pp_theta'])\n",
    "overlay['reco_Pmu_cos_theta'] = np.cos(overlay['reco_Pmu_mcs_theta'])\n",
    "overlay['reco_Pp_cos_theta'] = np.cos(overlay['reco_Pp_theta'])\n",
    "overlay['truth_Pp_phi'] = np.arctan2(overlay['truth_Pp_y'],overlay['truth_Pp_x'])\n",
    "overlay['truth_Pmu_phi'] = np.arctan2(overlay['truth_Pmu_y'],overlay['truth_Pmu_x'])\n",
    "\n",
    "\n",
    "\n",
    "overlay.to_csv(overlay_filename)\n",
    "print \"wrote %d overlay events back to to file\"%len(overlay)\n",
    "\n",
    "genie_filename=('/Users/erezcohen/Desktop/uBoone/CCQEanalysis/csvFiles/genie/'\n",
    "                    +versions['overlay date']+'/'\n",
    "                    +versions['Overlay']+'_'+versions['overlay date']+'_genie.csv')\n",
    "genie = pd.read_csv(genie_filename)\n",
    "print \"read %d genie events\"%len(genie)\n",
    "\n",
    "genie['truth_Pmu_phi'] = np.arctan2(genie['truth_Pmu_y'],genie['truth_Pmu_x'])\n",
    "genie['truth_Pp_phi'] = np.arctan2(genie['truth_Pp_y'],genie['truth_Pp_x'])\n",
    "\n",
    "genie['truth_Pmu_cos_theta'] = np.cos(genie['truth_Pmu_theta'])\n",
    "genie['truth_Pp_cos_theta'] = np.cos(genie['truth_Pp_theta'])\n",
    "\n",
    "genie.to_csv(genie_filename)\n",
    "print \"wrote %d genie events back to to file\"%len(genie)"
   ]
  },
  {
   "cell_type": "code",
   "execution_count": 3,
   "metadata": {},
   "outputs": [
    {
     "name": "stdout",
     "output_type": "stream",
     "text": [
      "read 285009 overlay events\n",
      "wrote 285009 overlay events back to to file\n"
     ]
    }
   ],
   "source": [
    "versions['overlay date'] = '2018_08_16'\n",
    "versions['Overlay'] = 'prodgenie_bnb_nu_uboone_overlay_mcc8.11_reco2'\n",
    "overlay_filename = vertices_files_path + versions['overlay date'] + '/' + versions['Overlay']+'_'+versions['overlay date']+'_vertices.csv'\n",
    "overlay = pd.read_csv(overlay_filename)\n",
    "print \"read %d overlay events\"%len(overlay)\n",
    "\n",
    "overlay['other-pairs'] = overlay['other pairs']\n",
    "overlay['CC1p'] = overlay['CC 1p']\n",
    "overlay['CC1p0pi'] = overlay['CC 1p 0pi']\n",
    "overlay['truth_Pmu_cos_theta'] = np.cos(overlay['truth_Pmu_theta'])\n",
    "overlay['truth_Pp_cos_theta'] = np.cos(overlay['truth_Pp_theta'])\n",
    "overlay['reco_Pmu_cos_theta'] = np.cos(overlay['reco_Pmu_mcs_theta'])\n",
    "overlay['reco_Pp_cos_theta'] = np.cos(overlay['reco_Pp_theta'])\n",
    "overlay['truth_Pp_phi'] = np.arctan2(overlay['truth_Pp_y'],overlay['truth_Pp_x'])\n",
    "overlay['truth_Pmu_phi'] = np.arctan2(overlay['truth_Pmu_y'],overlay['truth_Pmu_x'])\n",
    "\n",
    "\n",
    "overlay.to_csv(overlay_filename)\n",
    "print \"wrote %d overlay events back to to file\"%len(overlay)"
   ]
  },
  {
   "cell_type": "code",
   "execution_count": 4,
   "metadata": {},
   "outputs": [
    {
     "name": "stdout",
     "output_type": "stream",
     "text": [
      "read 930168 genie events\n",
      "wrote 930168 genie events back to to file\n"
     ]
    }
   ],
   "source": [
    "versions['overlay date'] = '2018_08_16'\n",
    "versions['Overlay'] = 'prodgenie_bnb_nu_uboone_overlay_mcc8.11_reco2'\n",
    "\n",
    "genie_filename=('/Users/erezcohen/Desktop/uBoone/CCQEanalysis/csvFiles/genie/'\n",
    "                    +versions['overlay date']+'/'\n",
    "                    +versions['Overlay']+'_'+versions['overlay date']+'_genie.csv')\n",
    "genie = pd.read_csv(genie_filename)\n",
    "print \"read %d genie events\"%len(genie)\n",
    "\n",
    "genie['truth_Pmu_phi'] = np.arctan2(genie['truth_Pmu_y'],genie['truth_Pmu_x'])\n",
    "genie['truth_Pmu_cos_theta'] = np.cos(genie['truth_Pmu_theta'])\n",
    "genie['truth_Pp_cos_theta'] = np.cos(genie['truth_Pp_theta'])\n",
    "genie['truth_Pp_phi'] = np.arctan2(genie['truth_Pp_y'],genie['truth_Pp_x'])\n",
    "genie['truth_Pmu_phi'] = np.arctan2(genie['truth_Pmu_y'],genie['truth_Pmu_x'])\n",
    "\n",
    "\n",
    "genie.to_csv(genie_filename)\n",
    "print \"wrote %d genie events back to to file\"%len(genie)"
   ]
  },
  {
   "cell_type": "code",
   "execution_count": 5,
   "metadata": {},
   "outputs": [
    {
     "name": "stdout",
     "output_type": "stream",
     "text": [
      "read 38199 beam-on events\n",
      "wrote 38199 beam-on events back to to file\n",
      "read 39580 beam-off events\n",
      "wrote 39580 beam-off events back to to file\n"
     ]
    }
   ],
   "source": [
    "versions['data date'] = '2018_08_16'\n",
    "versions['beam on'] = 'prod_reco_optfilter_bnb_v12_unblind_mcc8'\n",
    "beam_on_filename = vertices_files_path + versions['data date'] + '/' + versions['beam on']+'_'+versions['data date']+'_vertices.csv'\n",
    "beam_on = pd.concat([pd.read_csv(vertices_files_path+'/'+versions['data date']+'/'+versions['beam on']+'_04_'+versions['data date']+'_vertices.csv')\n",
    "                        ,pd.read_csv(vertices_files_path+'/'+versions['data date']+'/'+versions['beam on']+'_05_'+versions['data date']+'_vertices.csv')])\n",
    "print \"read %d beam-on events\"%len(beam_on)\n",
    "\n",
    "beam_on['truth_Pmu_cos_theta'] = np.cos(beam_on['truth_Pmu_theta'])\n",
    "beam_on['truth_Pp_cos_theta'] = np.cos(beam_on['truth_Pp_theta'])\n",
    "beam_on['reco_Pmu_cos_theta'] = np.cos(beam_on['reco_Pmu_mcs_theta'])\n",
    "beam_on['reco_Pp_cos_theta'] = np.cos(beam_on['reco_Pp_theta'])\n",
    "\n",
    "beam_on.to_csv(beam_on_filename)\n",
    "print \"wrote %d beam-on events back to to file\"%len(beam_on)\n",
    "\n",
    "\n",
    "\n",
    "versions['beam off'] = 'prod_reco_optfilter_extbnb_v12_mcc8_dev'\n",
    "beam_off_filename = vertices_files_path + versions['data date'] + '/' + versions['beam off']+'_'+versions['data date']+'_vertices.csv'\n",
    "beam_off = pd.concat([pd.read_csv(vertices_files_path+'/'+versions['data date']+'/'+versions['beam off']+'_04_'+versions['data date']+'_vertices.csv')\n",
    "                        ,pd.read_csv(vertices_files_path+'/'+versions['data date']+'/'+versions['beam off']+'_05_'+versions['data date']+'_vertices.csv')])\n",
    "print \"read %d beam-off events\"%len(beam_off)\n",
    "\n",
    "beam_off['truth_Pmu_cos_theta'] = np.cos(beam_off['truth_Pmu_theta'])\n",
    "beam_off['truth_Pp_cos_theta'] = np.cos(beam_off['truth_Pp_theta'])\n",
    "beam_off['reco_Pmu_cos_theta'] = np.cos(beam_off['reco_Pmu_mcs_theta'])\n",
    "beam_off['reco_Pp_cos_theta'] = np.cos(beam_off['reco_Pp_theta'])\n",
    "\n",
    "beam_off.to_csv(beam_off_filename)\n",
    "print \"wrote %d beam-off events back to to file\"%len(beam_off)\n",
    "\n"
   ]
  },
  {
   "cell_type": "code",
   "execution_count": null,
   "metadata": {},
   "outputs": [],
   "source": []
  },
  {
   "cell_type": "code",
   "execution_count": null,
   "metadata": {},
   "outputs": [],
   "source": []
  }
 ],
 "metadata": {
  "celltoolbar": "Slideshow",
  "kernelspec": {
   "display_name": "Python 2",
   "language": "python",
   "name": "python2"
  },
  "language_info": {
   "codemirror_mode": {
    "name": "ipython",
    "version": 2
   },
   "file_extension": ".py",
   "mimetype": "text/x-python",
   "name": "python",
   "nbconvert_exporter": "python",
   "pygments_lexer": "ipython2",
   "version": "2.7.11"
  }
 },
 "nbformat": 4,
 "nbformat_minor": 2
}
