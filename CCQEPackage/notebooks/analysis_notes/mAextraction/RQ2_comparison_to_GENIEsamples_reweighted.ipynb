{
 "cells": [
  {
   "cell_type": "markdown",
   "metadata": {},
   "source": [
    "# $R_{Q^2}$ comparison between the data and the GENIE samples"
   ]
  },
  {
   "cell_type": "code",
   "execution_count": 1,
   "metadata": {
    "slideshow": {
     "slide_type": "skip"
    }
   },
   "outputs": [
    {
     "name": "stdout",
     "output_type": "stream",
     "text": [
      "versions:\n",
      "{   'OffBeam': 'prod_reco_optfilter_extbnb_v12_mcc8_dev',\n",
      "    'OnBeam': 'prod_reco_optfilter_bnb_v12_unblind_mcc8',\n",
      "    'Overlay': 'prodgenie_bnb_nu_uboone_overlay_mcc8.11_reco2',\n",
      "    'data date': '2018_05_11',\n",
      "    'date': '2018_05_11',\n",
      "    'overlay date': '2018_05_11'}\n",
      "OffBeam_scaling: 0.706302660161 = N(on beam)/N(off beam) before SwT\n",
      "f(POT): 0.0512441465374 = N(POT on beam)/N(POT MC)\n"
     ]
    }
   ],
   "source": [
    "import sys; sys.path.insert(0, '../../'); \n",
    "from ccqe_notebook_tools import * \n",
    "from mupClassification_notebooks import *\n",
    "from onbeam_offbeam_notebooks import *\n",
    "%matplotlib inline"
   ]
  },
  {
   "cell_type": "code",
   "execution_count": 2,
   "metadata": {
    "scrolled": true
   },
   "outputs": [],
   "source": [
    "figures_path = '/Users/erezcohen/Desktop/Projects/uBoone/write-ups/mAextraction/Figures/acceptance/'"
   ]
  },
  {
   "cell_type": "code",
   "execution_count": 3,
   "metadata": {},
   "outputs": [],
   "source": [
    "versions['data date'] = '2018_05_11'"
   ]
  },
  {
   "cell_type": "code",
   "execution_count": 4,
   "metadata": {},
   "outputs": [
    {
     "name": "stdout",
     "output_type": "stream",
     "text": [
      "38163 pairs from On-Beam, 24323 in Fiducial Volume\n",
      "\u001b[92m--------------------------------------------------------------\u001b[0m\n",
      "applied cuts to data\n",
      "350 selected pairs in data\n",
      "182 selected pairs in data in tight FV\n"
     ]
    }
   ],
   "source": [
    "OnBeam = pd.concat([pd.read_csv(vertices_files_path+'/'+versions['data date']+'/'+versions['OnBeam']+'_04_'+versions['data date']+'_vertices.csv')\n",
    "                    ,pd.read_csv(vertices_files_path+'/'+versions['data date']+'/'+versions['OnBeam']+'_05_'+versions['data date']+'_vertices.csv')])\n",
    "OnBeamFV = sample_in_FV(OnBeam)\n",
    "print \"%d\"%len(OnBeam)+' pairs from On-Beam, %d'%len(OnBeamFV)+' in Fiducial Volume'; print_line()\n",
    "\n",
    "cuts_order  = ['no cut','Chi2Proton','MatchedFlash','length','non-collinearity','vertex activity','delta phi','Pt & delta phi']\n",
    "reducedOnBeam,BeamOnNumbers = apply_cuts_to_data(OnBeamFV=OnBeamFV,cuts_order=cuts_order)\n",
    "print 'applied cuts to data'\n",
    "selected_events = reducedOnBeam['Pt & delta phi']\n",
    "print len(selected_events),'selected pairs in data'\n",
    "\n",
    "# tight FV\n",
    "max_FV_y = 104 \n",
    "min_FV_z,max_FV_z = 5,1020\n",
    "min_FV_x,max_FV_x = 5,240\n",
    "selected_events_tightFV = sample_in_FV(sample=selected_events\n",
    "                                   ,max_FV_y = max_FV_y ,min_FV_z = min_FV_z, max_FV_z = max_FV_z,min_FV_x = min_FV_x, max_FV_x = max_FV_x)\n",
    "Nevents = len(selected_events_tightFV)\n",
    "print Nevents,'selected pairs in data in tight FV'"
   ]
  },
  {
   "cell_type": "markdown",
   "metadata": {},
   "source": [
    "# afro GENIE samples with different $m_A$"
   ]
  },
  {
   "cell_type": "code",
   "execution_count": 5,
   "metadata": {},
   "outputs": [],
   "source": [
    "sns.set(style='white');\n",
    "mA_array = [0.6,0.7,0.8,0.9,0.95,0.99,1.1,1.2,1.4] # S.Dytman: GENIE assumes mA=0.99 GeV/c2 (Dec-30,2017)\n",
    "mA_colors= ['red','blue','forestgreen','purple','orange','pink','teal','yellow','black']"
   ]
  },
  {
   "cell_type": "code",
   "execution_count": 6,
   "metadata": {},
   "outputs": [
    {
     "name": "stdout",
     "output_type": "stream",
     "text": [
      "28507 CC1p0π events in GENIE samples with mA=0.60\n",
      "30599 CC1p0π events in GENIE samples with mA=0.70\n",
      "32163 CC1p0π events in GENIE samples with mA=0.80\n",
      "33824 CC1p0π events in GENIE samples with mA=0.90\n",
      "34543 CC1p0π events in GENIE samples with mA=0.95\n",
      "34849 CC1p0π events in GENIE samples with mA=0.99\n",
      "36196 CC1p0π events in GENIE samples with mA=1.10\n",
      "37239 CC1p0π events in GENIE samples with mA=1.20\n",
      "38810 CC1p0π events in GENIE samples with mA=1.40\n"
     ]
    }
   ],
   "source": [
    "genie_CC1p0pi = dict()\n",
    "for mA in mA_array:\n",
    "    genie_sample = pd.read_csv('/Users/erezcohen/Desktop/uBoone/CCQEanalysis/mA/afro_genie_samples/CC_100k_mA_%.2f.csv'%mA)\n",
    "    genie_CC1p0pi[mA] = genie_sample[genie_sample['IsCC_1p_200MeVc_0pi']==True]\n",
    "    print len(genie_CC1p0pi[mA]),'CC1p0π events in GENIE samples with mA=%.2f'%mA"
   ]
  },
  {
   "cell_type": "markdown",
   "metadata": {},
   "source": [
    "# data and GENIE samples"
   ]
  },
  {
   "cell_type": "code",
   "execution_count": 79,
   "metadata": {},
   "outputs": [],
   "source": [
    "def get_RQ2_GENIE(genie=None,Q2range=(0,0.4,1)\n",
    "                  ,wvar = 'MicroBooNEWeight_Pmu_theta_Pp_theta'\n",
    "                  ,debug=0):    \n",
    "    hGenie,hGenie_err = np.zeros(2),np.zeros(2)\n",
    "    for i in range(len(Q2range)-1):\n",
    "        if debug: print 'Q2: min=%.2f,max=%.2f'%(Q2range[i],Q2range[i+1])\n",
    "        genie_in_bin = genie[(genie['Q2']>Q2range[i])&(genie['Q2']<Q2range[i+1])]\n",
    "        weights_in_bin = genie_in_bin[wvar]\n",
    "        hGenie[i] = np.sum(weights_in_bin)\n",
    "        hGenie_err[i] = np.sqrt(np.sum(np.square(weights_in_bin)))      \n",
    "    R = hGenie[0]/hGenie[1]\n",
    "    R_err = R*np.sqrt( np.square(hGenie_err[0]/hGenie[0]) + np.square(hGenie_err[1]/hGenie[1]) )\n",
    "    return R,R_err"
   ]
  },
  {
   "cell_type": "code",
   "execution_count": 81,
   "metadata": {},
   "outputs": [
    {
     "name": "stdout",
     "output_type": "stream",
     "text": [
      "[ 84.  66.]\n",
      "[ 9.16515139  8.1240384 ]\n",
      "Q2: min=0.10,max=0.30\n",
      "Q2: min=0.30,max=0.90\n",
      "Q2: min=0.10,max=0.30\n",
      "Q2: min=0.30,max=0.90\n",
      "Q2: min=0.10,max=0.30\n",
      "Q2: min=0.30,max=0.90\n",
      "Q2: min=0.10,max=0.30\n",
      "Q2: min=0.30,max=0.90\n",
      "Q2: min=0.10,max=0.30\n",
      "Q2: min=0.30,max=0.90\n",
      "Q2: min=0.10,max=0.30\n",
      "Q2: min=0.30,max=0.90\n",
      "Q2: min=0.10,max=0.30\n",
      "Q2: min=0.30,max=0.90\n",
      "Q2: min=0.10,max=0.30\n",
      "Q2: min=0.30,max=0.90\n",
      "Q2: min=0.10,max=0.30\n",
      "Q2: min=0.30,max=0.90\n",
      "done.\n"
     ]
    }
   ],
   "source": [
    "results = dict()\n",
    "R_BeamOn,R_err_BeamOn = dict(),dict()\n",
    "debug=1\n",
    "Q2mid_array = [0.3]\n",
    "for Q2mid in Q2mid_array:\n",
    "    res = pd.DataFrame(columns=['R','R_err','mA'])\n",
    "    Q2range=(0.1,Q2mid,0.9)\n",
    "    # beam-on\n",
    "    hBeamOn,hBeamOn_err = np.zeros(2),np.zeros(2)\n",
    "    for i in range(len(Q2range)-1):\n",
    "        events_in_bin = selected_events_tightFV[(selected_events_tightFV['reco_Q2']>Q2range[i])&(selected_events_tightFV['reco_Q2']<Q2range[i+1])]\n",
    "        hBeamOn[i] = len(events_in_bin)\n",
    "        hBeamOn_err[i] = np.sqrt(hBeamOn[i])\n",
    "    if debug:\n",
    "        print hBeamOn\n",
    "        print hBeamOn_err\n",
    "    R_BeamOn[Q2mid] = hBeamOn[0]/hBeamOn[1]\n",
    "    R_err_BeamOn[Q2mid] = R*np.sqrt( np.square(hBeamOn_err[0]/hBeamOn[0]) + np.square(hBeamOn_err[1]/hBeamOn[1]) )\n",
    "\n",
    "    for mA in mA_array:\n",
    "        R,R_err=get_RQ2_GENIE(genie=genie_CC1p0pi[mA],Q2range=Q2range,debug=debug)\n",
    "        res = res.append(pd.DataFrame({'R':R,'R_err':R_err,'mA':mA}                                                              \n",
    "                                          ,index=[mA]))\n",
    "    results[Q2mid]=res\n",
    "print 'done.'"
   ]
  },
  {
   "cell_type": "code",
   "execution_count": 83,
   "metadata": {},
   "outputs": [
    {
     "name": "stdout",
     "output_type": "stream",
     "text": [
      "R,R_err: 1.27272727273 0.156275091635\n"
     ]
    },
    {
     "data": {
      "text/plain": [
       "<matplotlib.legend.Legend at 0x13d346a90>"
      ]
     },
     "execution_count": 83,
     "metadata": {},
     "output_type": "execute_result"
    },
    {
     "data": {
      "image/png": "[encoded data removed]",
      "text/plain": [
       "<matplotlib.figure.Figure at 0x13ad67710>"
      ]
     },
     "metadata": {},
     "output_type": "display_data"
    }
   ],
   "source": [
    "fig,ax=plt.subplots(figsize=(12.944,8))\n",
    "\n",
    "for Q2mid,color in zip(Q2mid_array,mA_colors):\n",
    "    res = results[Q2mid]\n",
    "    plt.errorbar(x=res['mA'],y=res['R'],yerr=res['R_err'],color=color\n",
    "                 ,label=(r'$\\frac{%.1f<Q^2<%.3f}{%.3f<Q^2<%.1f}$'%(0.1,Q2mid,Q2mid,0.9)))\n",
    "    \n",
    "    plt.plot(ax.get_xlim(),[R_BeamOn[Q2mid],R_BeamOn[Q2mid]],'--',color=color)\n",
    "    if debug: print 'R,R_err:',R_BeamOn[Q2mid],R_err_BeamOn[Q2mid]\n",
    "    plt.fill_between(ax.get_xlim()\n",
    "                     ,[R_BeamOn[Q2mid]-R_err_BeamOn[Q2mid],R_BeamOn[Q2mid]-R_err_BeamOn[Q2mid]]\n",
    "                     ,[R_BeamOn[Q2mid]+R_err_BeamOn[Q2mid],R_BeamOn[Q2mid]+R_err_BeamOn[Q2mid]]\n",
    "                     ,color=color,alpha=0.1)\n",
    "\n",
    "set_axes(ax,r'$m_A$ [GeV/c$^2$]',r'$R_{Q^2}$',xlim=(0.6,1.4))\n",
    "plt.legend(bbox_to_anchor=(1,1.05),loc=2,fontsize=25)"
   ]
  },
  {
   "cell_type": "code",
   "execution_count": null,
   "metadata": {},
   "outputs": [],
   "source": []
  }
 ],
 "metadata": {
  "celltoolbar": "Slideshow",
  "kernelspec": {
   "display_name": "Python 2",
   "language": "python",
   "name": "python2"
  },
  "language_info": {
   "codemirror_mode": {
    "name": "ipython",
    "version": 2
   },
   "file_extension": ".py",
   "mimetype": "text/x-python",
   "name": "python",
   "nbconvert_exporter": "python",
   "pygments_lexer": "ipython2",
   "version": "2.7.11"
  }
 },
 "nbformat": 4,
 "nbformat_minor": 2
}
