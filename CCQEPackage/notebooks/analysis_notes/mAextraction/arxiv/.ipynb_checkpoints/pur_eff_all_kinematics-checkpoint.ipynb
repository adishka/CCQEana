{
 "cells": [
  {
   "cell_type": "markdown",
   "metadata": {},
   "source": [
    "# Extraction of $m_A$ from the ratio of low to high proton momentum in the selected CCQE-like events"
   ]
  },
  {
   "cell_type": "code",
   "execution_count": 1,
   "metadata": {
    "slideshow": {
     "slide_type": "skip"
    }
   },
   "outputs": [
    {
     "name": "stdout",
     "output_type": "stream",
     "text": [
      "versions:\n",
      "{   'OffBeam': 'prod_reco_optfilter_extbnb_v12_mcc8_dev',\n",
      "    'OnBeam': 'prod_reco_optfilter_bnb_v12_unblind_mcc8',\n",
      "    'Overlay': 'prodgenie_bnb_nu_uboone_overlay_mcc8.11_reco2',\n",
      "    'data date': '2018_05_11',\n",
      "    'date': '2018_05_11',\n",
      "    'overlay date': '2018_05_11'}\n",
      "OffBeam_scaling: 0.706302660161 = N(on beam)/N(off beam) before SwT\n",
      "f(POT): 0.0512441465374 = N(POT on beam)/N(POT MC)\n"
     ]
    }
   ],
   "source": [
    "import sys; sys.path.insert(0, '../../'); \n",
    "from ccqe_notebook_tools import * \n",
    "from mupClassification_notebooks import *\n",
    "from onbeam_offbeam_notebooks import *\n",
    "%matplotlib inline"
   ]
  },
  {
   "cell_type": "code",
   "execution_count": 7,
   "metadata": {
    "scrolled": true
   },
   "outputs": [],
   "source": [
    "figures_path = '/Users/erezcohen/Desktop/Projects/uBoone/write-ups/mAextraction/Figures/eff_pur/'"
   ]
  },
  {
   "cell_type": "code",
   "execution_count": 3,
   "metadata": {},
   "outputs": [],
   "source": [
    "versions['data date'] = '2018_05_11'\n",
    "versions['overlay date'] = '2018_05_11'\n",
    "versions['Overlay'] = 'prodgenie_bnb_nu_uboone_overlay_mcc8.11_reco2'"
   ]
  },
  {
   "cell_type": "code",
   "execution_count": 4,
   "metadata": {},
   "outputs": [
    {
     "name": "stdout",
     "output_type": "stream",
     "text": [
      "38163 pairs from On-Beam, 24323 in Fiducial Volume\n",
      "\u001b[92m--------------------------------------------------------------\u001b[0m\n",
      "283762 pairs from MC-BNB + cosmic DATA overlay\n",
      "186485 pairs in FV\n",
      "49707 are 1mu-1p, 26.7%\n",
      "41519 are other pairs, 22.3%\n",
      "95259 are cosmic, 51.1%\n",
      "\u001b[92m--------------------------------------------------------------\u001b[0m\n",
      "23996 are CC 1p 0pi, 12.9%\n"
     ]
    }
   ],
   "source": [
    "OnBeam = pd.concat([pd.read_csv(vertices_files_path+'/'+versions['data date']+'/'+versions['OnBeam']+'_04_'+versions['data date']+'_vertices.csv')\n",
    "                    ,pd.read_csv(vertices_files_path+'/'+versions['data date']+'/'+versions['OnBeam']+'_05_'+versions['data date']+'_vertices.csv')])\n",
    "OnBeamFV = sample_in_FV(OnBeam)\n",
    "print \"%d\"%len(OnBeam)+' pairs from On-Beam, %d'%len(OnBeamFV)+' in Fiducial Volume'; print_line()\n",
    "\n",
    "OverlayPairsFV, OverlaySamples = load_MCbnbDATAcosmicSamples(date=versions['overlay date'],filename=versions['Overlay']+'_'+versions['overlay date']+'_vertices')"
   ]
  },
  {
   "cell_type": "code",
   "execution_count": 10,
   "metadata": {},
   "outputs": [
    {
     "name": "stdout",
     "output_type": "stream",
     "text": [
      "926088  GENIE interaction\n"
     ]
    }
   ],
   "source": [
    "GENIEall = pd.read_csv('/Users/erezcohen/Desktop/uBoone/CCQEanalysis/csvFiles/genie/2018_05_11/prodgenie_bnb_nu_uboone_overlay_mcc8.11_reco2_2018_05_11_genie.csv')\n",
    "print len(GENIEall),' GENIE interaction'"
   ]
  },
  {
   "cell_type": "code",
   "execution_count": 11,
   "metadata": {},
   "outputs": [
    {
     "name": "stdout",
     "output_type": "stream",
     "text": [
      "243732 GENIE CC1p0π events\n",
      "7304 selected CC1p0π events in overlay\n"
     ]
    }
   ],
   "source": [
    "GENIE_CC1p0pi = GENIEall[(GENIEall['IsCC_1p_200MeVc_0pi']==True)]\n",
    "print len(GENIE_CC1p0pi),'GENIE CC1p0π events'\n",
    "selected_CC1p0pi = selected_overlay['CC 1p 0pi']\n",
    "print len(selected_CC1p0pi),'selected CC1p0π events in overlay'"
   ]
  },
  {
   "cell_type": "markdown",
   "metadata": {},
   "source": [
    "## re-scaling of the cosmic in the overlay, and application of the cuts"
   ]
  },
  {
   "cell_type": "code",
   "execution_count": 5,
   "metadata": {},
   "outputs": [
    {
     "name": "stdout",
     "output_type": "stream",
     "text": [
      "overlay scalings\n",
      "{   'N(On) scaling and f(cosmic)=0.91': {   '1mu-1p': 0.024262743077631366,\n",
      "                                            'CC 1p 0pi': 0.024262743077631366,\n",
      "                                            'N(Ovelay)/N(On)': 7.667022982362373,\n",
      "                                            'cosmic': 0.23209992756589928,\n",
      "                                            'other pairs': 0.024262743077631366}}\n",
      "applied cuts to overlay\n",
      "applied cuts to data\n"
     ]
    }
   ],
   "source": [
    "cuts_order  = ['no cut'\n",
    "               ,'Chi2Proton'               \n",
    "               ,'MatchedFlash'               \n",
    "               ,'length'\n",
    "               ,'non-collinearity'               \n",
    "               ,'vertex activity'               \n",
    "               ,'delta phi'               \n",
    "               ,'Pt & delta phi'\n",
    "              ]\n",
    "cutlabels = ['preselection'\n",
    "             ,'$dE/dx$ profile'\n",
    "             ,'optical filter'\n",
    "             ,'track lengths'\n",
    "             ,'collinearity'\n",
    "             ,'vertex activity'\n",
    "             ,'coplanarity'\n",
    "             ,r'$p_t$ imbalance'\n",
    "            ]\n",
    "overlay_scalings = dict()\n",
    "f_Cosmic=0.909\n",
    "overlay_scalings['N(On) scaling and f(cosmic)=%.2f'%f_Cosmic] = get_samples_scaling( N_total= float(len(OnBeamFV)), f_Cosmic=f_Cosmic, OverlaySubsamples=OverlaySamples)\n",
    "print 'overlay scalings';pp.pprint(overlay_scalings)\n",
    "reducedOverlay,pureffOverlay,pureffNumbers = apply_cuts_to_overlay(OverlaySamples=OverlaySamples, cuts_order=cuts_order\n",
    "                                                                   ,overlay_scaling=overlay_scalings['N(On) scaling and f(cosmic)=%.2f'%f_Cosmic])\n",
    "print 'applied cuts to overlay'\n",
    "reducedOnBeam,BeamOnNumbers = apply_cuts_to_data(OnBeamFV=OnBeamFV,cuts_order=cuts_order)\n",
    "print 'applied cuts to data'"
   ]
  },
  {
   "cell_type": "markdown",
   "metadata": {},
   "source": [
    "## The $CC 1p 0 \\pi$ purity and efficiency as a function of all kinematical variables"
   ]
  },
  {
   "cell_type": "code",
   "execution_count": 6,
   "metadata": {},
   "outputs": [
    {
     "name": "stdout",
     "output_type": "stream",
     "text": [
      "350 selected pairs in data\n",
      "7304 selected CC1p0π pairs in overlay\n"
     ]
    }
   ],
   "source": [
    "selected_events = reducedOnBeam['Pt & delta phi']\n",
    "print len(selected_events),'selected pairs in data'\n",
    "selected_overlay=dict()\n",
    "for pair_type in pair_types:\n",
    "    selected_overlay[pair_type] = reducedOverlay['Pt & delta phi'][pair_type]\n",
    "selected_CC1p0pi = selected_overlay['CC 1p 0pi']\n",
    "print len(selected_CC1p0pi),'selected CC1p0π pairs in overlay'"
   ]
  },
  {
   "cell_type": "markdown",
   "metadata": {},
   "source": [
    "## Add $\\cos \\theta$ to samples"
   ]
  },
  {
   "cell_type": "code",
   "execution_count": 24,
   "metadata": {},
   "outputs": [
    {
     "name": "stderr",
     "output_type": "stream",
     "text": [
      "/usr/local/lib/python2.7/site-packages/ipykernel/__main__.py:1: SettingWithCopyWarning: \n",
      "A value is trying to be set on a copy of a slice from a DataFrame.\n",
      "Try using .loc[row_indexer,col_indexer] = value instead\n",
      "\n",
      "See the caveats in the documentation: http://pandas.pydata.org/pandas-docs/stable/indexing.html#indexing-view-versus-copy\n",
      "  if __name__ == '__main__':\n",
      "/usr/local/lib/python2.7/site-packages/ipykernel/__main__.py:2: SettingWithCopyWarning: \n",
      "A value is trying to be set on a copy of a slice from a DataFrame.\n",
      "Try using .loc[row_indexer,col_indexer] = value instead\n",
      "\n",
      "See the caveats in the documentation: http://pandas.pydata.org/pandas-docs/stable/indexing.html#indexing-view-versus-copy\n",
      "  from ipykernel import kernelapp as app\n"
     ]
    }
   ],
   "source": [
    "GENIE_CC1p0pi['truth_Pp_cos_theta'] = np.cos(GENIE_CC1p0pi['truth_Pp_theta'])\n",
    "GENIE_CC1p0pi['truth_Pmu_cos_theta'] = np.cos(GENIE_CC1p0pi['truth_Pmu_theta'])"
   ]
  },
  {
   "cell_type": "code",
   "execution_count": 19,
   "metadata": {},
   "outputs": [
    {
     "name": "stderr",
     "output_type": "stream",
     "text": [
      "/usr/local/lib/python2.7/site-packages/ipykernel/__main__.py:3: SettingWithCopyWarning: \n",
      "A value is trying to be set on a copy of a slice from a DataFrame.\n",
      "Try using .loc[row_indexer,col_indexer] = value instead\n",
      "\n",
      "See the caveats in the documentation: http://pandas.pydata.org/pandas-docs/stable/indexing.html#indexing-view-versus-copy\n",
      "  app.launch_new_instance()\n",
      "/usr/local/lib/python2.7/site-packages/ipykernel/__main__.py:4: SettingWithCopyWarning: \n",
      "A value is trying to be set on a copy of a slice from a DataFrame.\n",
      "Try using .loc[row_indexer,col_indexer] = value instead\n",
      "\n",
      "See the caveats in the documentation: http://pandas.pydata.org/pandas-docs/stable/indexing.html#indexing-view-versus-copy\n"
     ]
    }
   ],
   "source": [
    "for cut in cuts_order:\n",
    "    for pair_type in pair_types:\n",
    "        reducedOverlay[cut][pair_type]['reco_Pp_cos_theta'] = np.cos(reducedOverlay[cut][pair_type]['reco_Pp_theta'])\n",
    "        reducedOverlay[cut][pair_type]['reco_Pmu_cos_theta'] = np.cos(reducedOverlay[cut][pair_type]['reco_Pmu_theta'])"
   ]
  },
  {
   "cell_type": "code",
   "execution_count": 26,
   "metadata": {},
   "outputs": [
    {
     "name": "stderr",
     "output_type": "stream",
     "text": [
      "/usr/local/lib/python2.7/site-packages/ipykernel/__main__.py:1: SettingWithCopyWarning: \n",
      "A value is trying to be set on a copy of a slice from a DataFrame.\n",
      "Try using .loc[row_indexer,col_indexer] = value instead\n",
      "\n",
      "See the caveats in the documentation: http://pandas.pydata.org/pandas-docs/stable/indexing.html#indexing-view-versus-copy\n",
      "  if __name__ == '__main__':\n",
      "/usr/local/lib/python2.7/site-packages/ipykernel/__main__.py:2: SettingWithCopyWarning: \n",
      "A value is trying to be set on a copy of a slice from a DataFrame.\n",
      "Try using .loc[row_indexer,col_indexer] = value instead\n",
      "\n",
      "See the caveats in the documentation: http://pandas.pydata.org/pandas-docs/stable/indexing.html#indexing-view-versus-copy\n",
      "  from ipykernel import kernelapp as app\n",
      "/usr/local/lib/python2.7/site-packages/ipykernel/__main__.py:3: SettingWithCopyWarning: \n",
      "A value is trying to be set on a copy of a slice from a DataFrame.\n",
      "Try using .loc[row_indexer,col_indexer] = value instead\n",
      "\n",
      "See the caveats in the documentation: http://pandas.pydata.org/pandas-docs/stable/indexing.html#indexing-view-versus-copy\n",
      "  app.launch_new_instance()\n",
      "/usr/local/lib/python2.7/site-packages/ipykernel/__main__.py:4: SettingWithCopyWarning: \n",
      "A value is trying to be set on a copy of a slice from a DataFrame.\n",
      "Try using .loc[row_indexer,col_indexer] = value instead\n",
      "\n",
      "See the caveats in the documentation: http://pandas.pydata.org/pandas-docs/stable/indexing.html#indexing-view-versus-copy\n"
     ]
    }
   ],
   "source": [
    "selected_CC1p0pi['reco_Pp_cos_theta'] = np.cos(selected_CC1p0pi['reco_Pp_theta'])\n",
    "selected_CC1p0pi['reco_Pmu_cos_theta'] = np.cos(selected_CC1p0pi['reco_Pmu_theta'])\n",
    "selected_CC1p0pi['truth_Pp_cos_theta'] = np.cos(selected_CC1p0pi['truth_Pp_theta'])\n",
    "selected_CC1p0pi['truth_Pmu_cos_theta'] = np.cos(selected_CC1p0pi['truth_Pmu_theta'])"
   ]
  },
  {
   "cell_type": "code",
   "execution_count": null,
   "metadata": {},
   "outputs": [
    {
     "name": "stdout",
     "output_type": "stream",
     "text": [
      "saved /Users/erezcohen/Desktop/Projects/uBoone/write-ups/mAextraction/Figures/eff_pur/Pp_purity_after_cuts.pdf\n",
      "saved /Users/erezcohen/Desktop/Projects/uBoone/write-ups/mAextraction/Figures/eff_pur/Pp_cos_theta_purity_after_cuts.pdf\n",
      "saved /Users/erezcohen/Desktop/Projects/uBoone/write-ups/mAextraction/Figures/eff_pur/Pmu_purity_after_cuts.pdf\n",
      "saved /Users/erezcohen/Desktop/Projects/uBoone/write-ups/mAextraction/Figures/eff_pur/Pmu_cos_theta_purity_after_cuts.pdf\n"
     ]
    }
   ],
   "source": [
    "for var,x_label,bins in zip(['Pp','Pp_cos_theta','Pmu','Pmu_cos_theta']\n",
    "                            ,[r'$p_{p}$ [GeV/c]',r'$\\cos\\theta_{p}$',r'$p_{\\mu}$ [GeV/c]',r'$\\cos\\theta_{\\mu}$']\n",
    "                            ,[linspace(0.2,1.2,11),linspace(-1,1,11),linspace(0.05,0.9,11),linspace(-1,1,11)]):\n",
    "\n",
    "    bin_width=0.5*(bins[1]-bins[0])\n",
    "    xlim=(np.min(bins)-0.5*bin_width,np.max(bins)+0.5*bin_width)\n",
    "    fig=plt.figure(figsize=(19.416,12))\n",
    "    ax = fig.add_subplot(2,1,1)\n",
    "    h_stack,_=plot_stacked_MCsamples( reducedOverlay=reducedOverlay,cut_name='Pt & delta phi'\n",
    "                                     , overlay_scaling=overlay_scalings['N(On) scaling and f(cosmic)=%.2f'%f_Cosmic]\n",
    "                                     , ax=ax, var='reco_'+var, x_label='',y_label='counts', bins=bins \n",
    "                                     , remove_ticks_x=True\n",
    "                                     , fontsize=25, stackColor='black',stackLabel='overlay'\n",
    "                                  );\n",
    "    ax.legend(fontsize=25)\n",
    "    ax = fig.add_subplot(2,1,2)\n",
    "    mid,purity,purity_err = plot_purity( OverlaySamples=selected_overlay,debug=0               \n",
    "                , overlay_scaling=overlay_scalings['N(On) scaling and f(cosmic)=%.2f'%f_Cosmic]                               \n",
    "                , ax=ax, var='reco_'+var, bins=bins \n",
    "                , purity_pair_type='CC 1p 0pi'            \n",
    "                , x_label=x_label, y_label=r'$CC1p0\\pi$ purity [%]'                            \n",
    "                , color='blue', ecolor='blue',label=r'$\\mathcal{P}_{CC 1p 0\\pi}$'\n",
    "               );\n",
    "    plt.legend(fontsize=30)\n",
    "    plt.tight_layout()\n",
    "    plt.subplots_adjust(hspace=0.08)\n",
    "    save_figure(figures_path + var + '_purity_after_cuts.pdf')"
   ]
  },
  {
   "cell_type": "markdown",
   "metadata": {},
   "source": [
    "# The $CC1p0\\pi$ efficiency is taken from the entire sample of $CC1p0\\pi$ events in the overlay"
   ]
  },
  {
   "cell_type": "code",
   "execution_count": null,
   "metadata": {},
   "outputs": [],
   "source": [
    "for var,x_label,bins in zip(['Pp','Pp_cos_theta','Pmu','Pmu_cos_theta']\n",
    "                            ,[r'$p_{p}$ [GeV/c]',r'$\\cos\\theta_{p}$',r'$p_{\\mu}$ [GeV/c]',r'$\\cos\\theta_{\\mu}$']\n",
    "                            ,[linspace(0.2,1.2,11),linspace(-1,1,11),linspace(0.05,0.9,11),linspace(-1,1,11)]):\n",
    "\n",
    "\n",
    "    bin_width=0.5*(bins[1]-bins[0])\n",
    "    xlim=(np.min(bins)-0.5*bin_width,np.max(bins)+0.5*bin_width)\n",
    "\n",
    "    overlay_scaling=overlay_scalings['N(On) scaling and f(cosmic)=%.2f'%f_Cosmic]\n",
    "    fig=plt.figure(figsize=(19.416,12))\n",
    "    ax = fig.add_subplot(2,1,1)\n",
    "    h = dict()\n",
    "    for sam,sname,slabel,color in zip([GENIE_CC1p0pi,selected_CC1p0pi]\n",
    "                                      ,['gen','rec']\n",
    "                                      ,['generated $CC 1p 0\\pi$','reconstructed $CC 1p 0\\pi$']                               \n",
    "                                      ,['purple','blue']):\n",
    "        h[sname],edges = np.histogram(sam['truth_'+var],bins=bins)\n",
    "        if sname=='rec':\n",
    "            h[sname] = h[sname]*overlay_scaling['N(Ovelay)/N(On)']\n",
    "        mid = 0.5*(edges[1:]+edges[:-1])\n",
    "        bin_width=0.5*(edges[1]-edges[0])\n",
    "        plt.errorbar(x=mid,xerr=bin_width,y=h[sname],yerr=np.sqrt(h[sname]),color=color\n",
    "                     ,markersize=2,fmt='s',capsize=3,capthick=3,label=slabel)\n",
    "    set_axes(ax, x_label='', y_label=r'counts',remove_ticks_x=True\n",
    "             ,do_add_grid=True,do_add_legend=True,legend_loc='lower center')\n",
    "    ax.set_yscale('log')\n",
    "\n",
    "    eff = h['rec']/h['gen']\n",
    "    eff_err = eff * np.sqrt(1./h['rec'] + 1./h['gen'])\n",
    "\n",
    "    ax = fig.add_subplot(2,1,2)\n",
    "    plt.errorbar(x=mid , xerr=bin_width , y=100*eff , yerr=100*eff_err , color='black'\n",
    "                 ,markersize=2,fmt='s',capsize=3,capthick=3,label=r'$\\epsilon_{CC 1p 0\\pi}$')\n",
    "    set_axes(ax, x_label=x_label\n",
    "             , y_label=r'$CC1p0\\pi$ efficiency [%]',yticks=[0,10,20,30,40]\n",
    "             ,do_add_grid=True,do_add_legend=True,legend_loc='lower center')\n",
    "    plt.tight_layout()\n",
    "    plt.subplots_adjust(hspace=0.08)\n",
    "    save_figure(figures_path + var + '_efficiency_after_cuts.pdf')"
   ]
  },
  {
   "cell_type": "code",
   "execution_count": null,
   "metadata": {},
   "outputs": [],
   "source": []
  },
  {
   "cell_type": "code",
   "execution_count": null,
   "metadata": {},
   "outputs": [],
   "source": []
  }
 ],
 "metadata": {
  "celltoolbar": "Slideshow",
  "kernelspec": {
   "display_name": "Python 2",
   "language": "python",
   "name": "python2"
  },
  "language_info": {
   "codemirror_mode": {
    "name": "ipython",
    "version": 2
   },
   "file_extension": ".py",
   "mimetype": "text/x-python",
   "name": "python",
   "nbconvert_exporter": "python",
   "pygments_lexer": "ipython2",
   "version": "2.7.11"
  }
 },
 "nbformat": 4,
 "nbformat_minor": 2
}
