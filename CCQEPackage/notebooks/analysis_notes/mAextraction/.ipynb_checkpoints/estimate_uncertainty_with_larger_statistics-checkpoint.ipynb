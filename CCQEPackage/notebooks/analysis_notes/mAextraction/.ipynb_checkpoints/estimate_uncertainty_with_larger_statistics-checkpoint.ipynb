{
 "cells": [
  {
   "cell_type": "markdown",
   "metadata": {},
   "source": [
    "# Acceptance map that \"ruins\" GENIE samples to mimic the detector"
   ]
  },
  {
   "cell_type": "code",
   "execution_count": 1,
   "metadata": {
    "slideshow": {
     "slide_type": "skip"
    }
   },
   "outputs": [
    {
     "name": "stdout",
     "output_type": "stream",
     "text": [
      "versions:\n",
      "{   'OffBeam': 'prod_reco_optfilter_extbnb_v12_mcc8_dev',\n",
      "    'OnBeam': 'prod_reco_optfilter_bnb_v12_unblind_mcc8',\n",
      "    'Overlay': 'prodgenie_bnb_nu_uboone_overlay_mcc8.11_reco2',\n",
      "    'data date': '2018_05_11',\n",
      "    'date': '2018_05_11',\n",
      "    'overlay date': '2018_05_11'}\n",
      "OffBeam_scaling: 0.706302660161 = N(on beam)/N(off beam) before SwT\n",
      "f(POT): 0.0512441465374 = N(POT on beam)/N(POT MC)\n"
     ]
    }
   ],
   "source": [
    "import sys; sys.path.insert(0, '../../'); \n",
    "from ccqe_notebook_tools import * \n",
    "from mupClassification_notebooks import *\n",
    "from onbeam_offbeam_notebooks import *\n",
    "%matplotlib inline"
   ]
  },
  {
   "cell_type": "code",
   "execution_count": 2,
   "metadata": {
    "scrolled": true
   },
   "outputs": [],
   "source": [
    "figures_path = '/Users/erezcohen/Desktop/Projects/uBoone/write-ups/mAextraction/Figures/acceptance/'"
   ]
  },
  {
   "cell_type": "code",
   "execution_count": 3,
   "metadata": {},
   "outputs": [],
   "source": [
    "versions['data date'] = '2018_05_11'\n",
    "versions['overlay date'] = '2018_05_11'\n",
    "versions['Overlay'] = 'prodgenie_bnb_nu_uboone_overlay_mcc8.11_reco2'"
   ]
  },
  {
   "cell_type": "code",
   "execution_count": 4,
   "metadata": {},
   "outputs": [
    {
     "name": "stdout",
     "output_type": "stream",
     "text": [
      "38163 pairs from On-Beam, 24323 in Fiducial Volume\n",
      "\u001b[92m--------------------------------------------------------------\u001b[0m\n",
      "283762 pairs from MC-BNB + cosmic DATA overlay\n",
      "186485 pairs in FV\n",
      "49707 are 1mu-1p, 26.7%\n",
      "41519 are other pairs, 22.3%\n",
      "95259 are cosmic, 51.1%\n",
      "\u001b[92m--------------------------------------------------------------\u001b[0m\n",
      "23996 are CC 1p 0pi, 12.9%\n"
     ]
    }
   ],
   "source": [
    "OnBeam = pd.concat([pd.read_csv(vertices_files_path+'/'+versions['data date']+'/'+versions['OnBeam']+'_04_'+versions['data date']+'_vertices.csv')\n",
    "                    ,pd.read_csv(vertices_files_path+'/'+versions['data date']+'/'+versions['OnBeam']+'_05_'+versions['data date']+'_vertices.csv')])\n",
    "OnBeamFV = sample_in_FV(OnBeam)\n",
    "print \"%d\"%len(OnBeam)+' pairs from On-Beam, %d'%len(OnBeamFV)+' in Fiducial Volume'; print_line()\n",
    "\n",
    "_,OverlaySamples = load_MCbnbDATAcosmicSamples(date=versions['overlay date'],filename=versions['Overlay']+'_'+versions['overlay date']+'_vertices')"
   ]
  },
  {
   "cell_type": "markdown",
   "metadata": {},
   "source": [
    "## re-scaling of the cosmic in the overlay, and application of the cuts"
   ]
  },
  {
   "cell_type": "code",
   "execution_count": 5,
   "metadata": {},
   "outputs": [
    {
     "name": "stdout",
     "output_type": "stream",
     "text": [
      "overlay scalings\n",
      "{   'N(On) scaling and f(cosmic)=0.866': {   '1mu-1p': 0.03578088045074869,\n",
      "                                             'CC 1p 0pi': 0.03578088045074869,\n",
      "                                             'N(Ovelay)/N(On)': 7.667022982362373,\n",
      "                                             'cosmic': 0.22106943595880704,\n",
      "                                             'other pairs': 0.03578088045074868}}\n",
      "applied cuts to overlay\n",
      "applied cuts to data\n"
     ]
    }
   ],
   "source": [
    "cuts_order  = ['no cut','Chi2Proton','MatchedFlash','length','non-collinearity','vertex activity','delta phi','Pt & delta phi']\n",
    "overlay_scalings = dict()\n",
    "f_Cosmic=0.8658\n",
    "overlay_scalings['N(On) scaling and f(cosmic)=%.3f'%f_Cosmic] = get_samples_scaling( N_total= float(len(OnBeamFV)), f_Cosmic=f_Cosmic, OverlaySubsamples=OverlaySamples)\n",
    "print 'overlay scalings';pp.pprint(overlay_scalings)\n",
    "reducedOverlay,pureffOverlay,pureffNumbers = apply_cuts_to_overlay(OverlaySamples=OverlaySamples, cuts_order=cuts_order\n",
    "                                                                   ,overlay_scaling=overlay_scalings['N(On) scaling and f(cosmic)=%.3f'%f_Cosmic])\n",
    "print 'applied cuts to overlay'\n",
    "reducedOnBeam,BeamOnNumbers = apply_cuts_to_data(OnBeamFV=OnBeamFV,cuts_order=cuts_order)\n",
    "print 'applied cuts to data'"
   ]
  },
  {
   "cell_type": "code",
   "execution_count": 6,
   "metadata": {},
   "outputs": [],
   "source": [
    "overlay_scaling = overlay_scalings['N(On) scaling and f(cosmic)=%.3f'%f_Cosmic]"
   ]
  },
  {
   "cell_type": "code",
   "execution_count": 7,
   "metadata": {},
   "outputs": [
    {
     "name": "stdout",
     "output_type": "stream",
     "text": [
      "350 selected pairs in data\n",
      "7304 selected CC1p0π pairs in overlay\n"
     ]
    }
   ],
   "source": [
    "selected_events = reducedOnBeam['Pt & delta phi']\n",
    "print len(selected_events),'selected pairs in data'\n",
    "selected_overlay=dict()\n",
    "for pair_type in pair_types:\n",
    "    selected_overlay[pair_type] = reducedOverlay['Pt & delta phi'][pair_type]\n",
    "selected_CC1p0pi = selected_overlay['CC 1p 0pi']\n",
    "print len(selected_CC1p0pi),'selected CC1p0π pairs in overlay'"
   ]
  },
  {
   "cell_type": "code",
   "execution_count": 8,
   "metadata": {},
   "outputs": [
    {
     "name": "stdout",
     "output_type": "stream",
     "text": [
      "4 selected overlay in tight FV\n",
      "4064 selected CC1p0π in overlay in tight FV\n",
      "182 selected pairs in data in tight FV\n"
     ]
    }
   ],
   "source": [
    "# tight FV\n",
    "max_FV_y = 104 \n",
    "min_FV_z,max_FV_z = 5,1020\n",
    "min_FV_x,max_FV_x = 5,240\n",
    "\n",
    "selected_overlay_tightFV=dict()\n",
    "for pair_type in pair_types:\n",
    "    selected_overlay_tightFV[pair_type] = sample_in_FV(selected_overlay[pair_type]\n",
    "                                                       ,max_FV_y = max_FV_y ,min_FV_z = min_FV_z, max_FV_z = max_FV_z,min_FV_x = min_FV_x, max_FV_x = max_FV_x)\n",
    "overlay_tightFV = pd.concat([selected_overlay_tightFV['1mu-1p'],selected_overlay_tightFV['cosmic'],selected_overlay_tightFV['other pairs']])\n",
    "print len(selected_overlay_tightFV),'selected overlay in tight FV'\n",
    "selected_CC1p0pi_tightFV = sample_in_FV(sample=selected_CC1p0pi\n",
    "                                   ,max_FV_y = max_FV_y ,min_FV_z = min_FV_z, max_FV_z = max_FV_z,min_FV_x = min_FV_x, max_FV_x = max_FV_x)\n",
    "print len(selected_CC1p0pi_tightFV),'selected CC1p0π in overlay in tight FV'\n",
    "selected_events_tightFV = sample_in_FV(sample=selected_events\n",
    "                                   ,max_FV_y = max_FV_y ,min_FV_z = min_FV_z, max_FV_z = max_FV_z,min_FV_x = min_FV_x, max_FV_x = max_FV_x)\n",
    "print len(selected_events_tightFV),'selected pairs in data in tight FV'"
   ]
  },
  {
   "cell_type": "code",
   "execution_count": 9,
   "metadata": {},
   "outputs": [
    {
     "name": "stdout",
     "output_type": "stream",
     "text": [
      "926088  GENIE interaction\n",
      "243732 GENIE CC1p0π events\n"
     ]
    }
   ],
   "source": [
    "GENIEall = pd.read_csv('/Users/erezcohen/Desktop/uBoone/CCQEanalysis/csvFiles/genie/2018_05_11/prodgenie_bnb_nu_uboone_overlay_mcc8.11_reco2_2018_05_11_genie.csv')\n",
    "print len(GENIEall),' GENIE interaction'\n",
    "GENIE_CC1p0pi = GENIEall[(GENIEall['IsCC_1p_200MeVc_0pi']==True)]\n",
    "print len(GENIE_CC1p0pi),'GENIE CC1p0π events'"
   ]
  },
  {
   "cell_type": "code",
   "execution_count": 10,
   "metadata": {},
   "outputs": [
    {
     "name": "stderr",
     "output_type": "stream",
     "text": [
      "/usr/local/lib/python2.7/site-packages/ipykernel_launcher.py:1: SettingWithCopyWarning: \n",
      "A value is trying to be set on a copy of a slice from a DataFrame.\n",
      "Try using .loc[row_indexer,col_indexer] = value instead\n",
      "\n",
      "See the caveats in the documentation: http://pandas.pydata.org/pandas-docs/stable/indexing.html#indexing-view-versus-copy\n",
      "  \"\"\"Entry point for launching an IPython kernel.\n",
      "/usr/local/lib/python2.7/site-packages/ipykernel_launcher.py:2: SettingWithCopyWarning: \n",
      "A value is trying to be set on a copy of a slice from a DataFrame.\n",
      "Try using .loc[row_indexer,col_indexer] = value instead\n",
      "\n",
      "See the caveats in the documentation: http://pandas.pydata.org/pandas-docs/stable/indexing.html#indexing-view-versus-copy\n",
      "  \n"
     ]
    }
   ],
   "source": [
    "GENIE_CC1p0pi['truth_Pmu_cos_theta'] = np.cos(GENIE_CC1p0pi['truth_Pmu_theta'])\n",
    "selected_CC1p0pi_tightFV['truth_Pmu_cos_theta'] = np.cos(selected_CC1p0pi_tightFV['truth_Pmu_theta'])\n",
    "overlay_tightFV['truth_Pmu_cos_theta'] = np.cos(overlay_tightFV['truth_Pmu_theta'])"
   ]
  },
  {
   "cell_type": "markdown",
   "metadata": {},
   "source": [
    "# Randomly sample 350 CC1p0$\\pi$ events from the overlay, and compare to GENIE samples - what do we get?"
   ]
  },
  {
   "cell_type": "code",
   "execution_count": null,
   "metadata": {},
   "outputs": [],
   "source": [
    "Nrand = 350\n",
    "random_CC1p0pi_events = DataFrame.sample(n=Nrand)\n"
   ]
  }
 ],
 "metadata": {
  "celltoolbar": "Slideshow",
  "kernelspec": {
   "display_name": "Python 2",
   "language": "python",
   "name": "python2"
  },
  "language_info": {
   "codemirror_mode": {
    "name": "ipython",
    "version": 2
   },
   "file_extension": ".py",
   "mimetype": "text/x-python",
   "name": "python",
   "nbconvert_exporter": "python",
   "pygments_lexer": "ipython2",
   "version": "2.7.11"
  }
 },
 "nbformat": 4,
 "nbformat_minor": 2
}
