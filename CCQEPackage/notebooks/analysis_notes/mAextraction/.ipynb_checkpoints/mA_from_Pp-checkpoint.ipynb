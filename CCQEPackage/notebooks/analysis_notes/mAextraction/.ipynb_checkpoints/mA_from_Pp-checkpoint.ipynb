{
 "cells": [
  {
   "cell_type": "markdown",
   "metadata": {},
   "source": [
    "# mA form the reco. $p_p$ "
   ]
  },
  {
   "cell_type": "code",
   "execution_count": 1,
   "metadata": {
    "slideshow": {
     "slide_type": "skip"
    }
   },
   "outputs": [
    {
     "name": "stdout",
     "output_type": "stream",
     "text": [
      "versions:\n",
      "{   'OffBeam': 'prod_reco_optfilter_extbnb_v12_mcc8_dev',\n",
      "    'OnBeam': 'prod_reco_optfilter_bnb_v12_unblind_mcc8',\n",
      "    'Overlay': 'prodgenie_bnb_nu_uboone_overlay_mcc8.11_reco2',\n",
      "    'data date': '2018_05_11',\n",
      "    'date': '2018_05_11',\n",
      "    'overlay date': '2018_05_11'}\n",
      "OffBeam_scaling: 0.706302660161 = N(on beam)/N(off beam) before SwT\n",
      "f(POT): 0.0512441465374 = N(POT on beam)/N(POT MC)\n"
     ]
    }
   ],
   "source": [
    "import sys; sys.path.insert(0, '../../'); \n",
    "from ccqe_notebook_tools import * \n",
    "from mupClassification_notebooks import *\n",
    "from onbeam_offbeam_notebooks import *\n",
    "%matplotlib inline"
   ]
  },
  {
   "cell_type": "code",
   "execution_count": 2,
   "metadata": {
    "scrolled": true
   },
   "outputs": [],
   "source": [
    "figures_path = '/Users/erezcohen/Desktop/Projects/uBoone/write-ups/mAextraction/Figures/Pp/'"
   ]
  },
  {
   "cell_type": "code",
   "execution_count": 3,
   "metadata": {},
   "outputs": [],
   "source": [
    "versions['data date'] = '2018_05_11'\n",
    "versions['overlay date'] = '2018_05_11'\n",
    "versions['Overlay'] = 'prodgenie_bnb_nu_uboone_overlay_mcc8.11_reco2'"
   ]
  },
  {
   "cell_type": "code",
   "execution_count": 4,
   "metadata": {},
   "outputs": [
    {
     "name": "stdout",
     "output_type": "stream",
     "text": [
      "38163 pairs from On-Beam, 24323 in Fiducial Volume\n",
      "\u001b[92m--------------------------------------------------------------\u001b[0m\n",
      "283762 pairs from MC-BNB + cosmic DATA overlay\n",
      "186485 pairs in FV\n",
      "49707 are 1mu-1p, 26.7%\n",
      "41519 are other pairs, 22.3%\n",
      "95259 are cosmic, 51.1%\n",
      "\u001b[92m--------------------------------------------------------------\u001b[0m\n",
      "23996 are CC 1p 0pi, 12.9%\n"
     ]
    }
   ],
   "source": [
    "OnBeam = pd.concat([pd.read_csv(vertices_files_path+'/'+versions['data date']+'/'+versions['OnBeam']+'_04_'+versions['data date']+'_vertices.csv')\n",
    "                    ,pd.read_csv(vertices_files_path+'/'+versions['data date']+'/'+versions['OnBeam']+'_05_'+versions['data date']+'_vertices.csv')])\n",
    "OnBeamFV = sample_in_FV(OnBeam)\n",
    "print \"%d\"%len(OnBeam)+' pairs from On-Beam, %d'%len(OnBeamFV)+' in Fiducial Volume'; print_line()\n",
    "\n",
    "OverlayPairsFV, OverlaySamples = load_MCbnbDATAcosmicSamples(date=versions['overlay date'],filename=versions['Overlay']+'_'+versions['overlay date']+'_vertices')"
   ]
  },
  {
   "cell_type": "markdown",
   "metadata": {},
   "source": [
    "## re-scaling of the cosmic in the overlay, and application of the cuts"
   ]
  },
  {
   "cell_type": "code",
   "execution_count": 5,
   "metadata": {},
   "outputs": [
    {
     "name": "stdout",
     "output_type": "stream",
     "text": [
      "overlay scalings\n",
      "{   'N(On) scaling and f(cosmic)=0.91': {   '1mu-1p': 0.024262743077631366,\n",
      "                                            'CC 1p 0pi': 0.024262743077631366,\n",
      "                                            'N(Ovelay)/N(On)': 7.667022982362373,\n",
      "                                            'cosmic': 0.23209992756589928,\n",
      "                                            'other pairs': 0.024262743077631366}}\n",
      "applied cuts to overlay\n",
      "applied cuts to data\n"
     ]
    }
   ],
   "source": [
    "cuts_order  = ['no cut'\n",
    "               ,'Chi2Proton'               \n",
    "               ,'MatchedFlash'               \n",
    "               ,'length'\n",
    "               ,'non-collinearity'               \n",
    "               ,'vertex activity'               \n",
    "               ,'delta phi'               \n",
    "               ,'Pt & delta phi'\n",
    "              ]\n",
    "overlay_scalings = dict()\n",
    "f_Cosmic=0.909\n",
    "overlay_scalings['N(On) scaling and f(cosmic)=%.2f'%f_Cosmic] = get_samples_scaling( N_total= float(len(OnBeamFV)), f_Cosmic=f_Cosmic, OverlaySubsamples=OverlaySamples)\n",
    "print 'overlay scalings';pp.pprint(overlay_scalings)\n",
    "reducedOverlay,pureffOverlay,pureffNumbers = apply_cuts_to_overlay(OverlaySamples=OverlaySamples, cuts_order=cuts_order\n",
    "                                                                   ,overlay_scaling=overlay_scalings['N(On) scaling and f(cosmic)=%.2f'%f_Cosmic])\n",
    "print 'applied cuts to overlay'\n",
    "reducedOnBeam,BeamOnNumbers = apply_cuts_to_data(OnBeamFV=OnBeamFV,cuts_order=cuts_order)\n",
    "print 'applied cuts to data'"
   ]
  },
  {
   "cell_type": "code",
   "execution_count": 6,
   "metadata": {},
   "outputs": [
    {
     "name": "stdout",
     "output_type": "stream",
     "text": [
      "350 selected pairs in data\n",
      "7304 selected CC1p0π pairs in overlay\n"
     ]
    }
   ],
   "source": [
    "selected_events = reducedOnBeam['Pt & delta phi']\n",
    "print len(selected_events),'selected pairs in data'\n",
    "selected_overlay=dict()\n",
    "for pair_type in pair_types:\n",
    "    selected_overlay[pair_type] = reducedOverlay['Pt & delta phi'][pair_type]\n",
    "selected_CC1p0pi = selected_overlay['CC 1p 0pi']\n",
    "print len(selected_CC1p0pi),'selected CC1p0π pairs in overlay'"
   ]
  },
  {
   "cell_type": "markdown",
   "metadata": {},
   "source": [
    "# mA in afro GENIE samples"
   ]
  },
  {
   "cell_type": "code",
   "execution_count": 10,
   "metadata": {},
   "outputs": [],
   "source": [
    "mA_array = [0.80,0.90,0.99,1.10,1.20,1.40]\n",
    " # S.Dytman: GENIE assumes mA=0.99 GeV/c2 (Dec-30,2017)"
   ]
  },
  {
   "cell_type": "code",
   "execution_count": 11,
   "metadata": {},
   "outputs": [
    {
     "name": "stdout",
     "output_type": "stream",
     "text": [
      "32163 CC1p0π events in GENIE samples with mA=0.80\n",
      "33824 CC1p0π events in GENIE samples with mA=0.90\n",
      "34849 CC1p0π events in GENIE samples with mA=0.99\n",
      "36196 CC1p0π events in GENIE samples with mA=1.10\n",
      "37239 CC1p0π events in GENIE samples with mA=1.20\n",
      "38810 CC1p0π events in GENIE samples with mA=1.40\n"
     ]
    }
   ],
   "source": [
    "genie_CC1p0pi = dict()\n",
    "\n",
    "for mA in mA_array:\n",
    "    genie_sample = pd.read_csv('/Users/erezcohen/Desktop/uBoone/CCQEanalysis/mA/afro_genie_samples/CC_100k_mA_%.2f.csv'%mA)\n",
    "    genie_CC1p0pi[mA] = genie_sample[genie_sample['IsCC_1p_200MeVc_0pi']==True]\n",
    "    print len(genie_CC1p0pi[mA]),'CC1p0π events in GENIE samples with mA=%.2f'%mA"
   ]
  },
  {
   "cell_type": "code",
   "execution_count": 13,
   "metadata": {},
   "outputs": [],
   "source": [
    "overlay_genie_all = pd.read_csv('/Users/erezcohen/Desktop/uBoone/CCQEanalysis/csvFiles/genie/prodgenie_bnb_nu_uboone_overlay_mcc8.11_reco2_2018_05_07_genie.csv')\n",
    "overlay_genie_CC1p0pi = overlay_genie_all[overlay_genie_all['IsCC_1p_200MeVc_0pi']==1]"
   ]
  },
  {
   "cell_type": "code",
   "execution_count": 14,
   "metadata": {},
   "outputs": [],
   "source": [
    "def get_R(sam=None,var='',xmin_bins=None,xmax_bins=None,debug=0):\n",
    "    h,herr = [],[]\n",
    "\n",
    "    for xmin,xmax in zip(xmin_bins,xmax_bins):    \n",
    "        if debug: \n",
    "            print 'var:',var\n",
    "\n",
    "        sam_bin = sam[(sam[var]>xmin)&(sam[var]<xmax)]\n",
    "        h.append( float(len(sam_bin)) )\n",
    "        herr.append( np.sqrt(float(len(sam_bin))) )\n",
    "    if debug: \n",
    "        print 'xmin_bins,xmax_bins:',xmin_bins,xmax_bins\n",
    "        print 'h:',h\n",
    "    R = h[0]/h[1]\n",
    "    Rerr = R*np.sqrt(np.square(herr[0]/h[0]) + np.square(herr[1]/h[1]))\n",
    "    return R,Rerr\n",
    "\n",
    "def get_R_vs_mA(var=None,mA_array=None\n",
    "                ,xmin_bins=None,xmax_bins=None\n",
    "                ,debug=0):\n",
    "    \n",
    "    R_vs_mA = pd.DataFrame(columns=['mA','R','Rerr'])\n",
    "    for i_mA,mA in enumerate(mA_array):\n",
    "        sample = genie_CC1p0pi[mA]\n",
    "        R,Rerr = get_R(sam=genie_CC1p0pi[mA],var=var\n",
    "                       ,xmin_bins=xmin_bins\n",
    "                       ,xmax_bins=xmax_bins,debug=debug)\n",
    "        R_vs_mA = R_vs_mA.append({'mA': mA\n",
    "                                  ,'R':R\n",
    "                                  ,'Rerr':Rerr\n",
    "                                 }, ignore_index=True)\n",
    "    if debug: print 'R_vs_mA:',R_vs_mA\n",
    "    return R_vs_mA\n",
    "    \n",
    "\n",
    "def observable_low_high_ratio(var='Pp',mA_array=None,figsize=(14,8)\n",
    "                              ,do_add_genie_overlay=True\n",
    "                              ,xmin_bins=None,xmax_bins=None\n",
    "                              ,debug=0):\n",
    "    R_vs_mA_GENIE = get_R_vs_mA(var=var,mA_array=mA_array\n",
    "                                ,xmin_bins=xmin_bins,xmax_bins=xmax_bins\n",
    "                                ,debug=debug) \n",
    "    fig,ax=plt.subplots(figsize=figsize)\n",
    "    plt.errorbar(x=R_vs_mA_GENIE['mA'],xerr=0\n",
    "                 ,y=R_vs_mA_GENIE['R'],yerr=R_vs_mA_GENIE['Rerr']\n",
    "                 ,fmt='o',label='genie (Afro)',markersize=15)\n",
    "    \n",
    "    if do_add_genie_overlay:\n",
    "        R,Rerr = get_R(sam=overlay_genie_CC1p0pi,var='truth_Pp'\n",
    "                       ,xmin_bins=xmin_bins\n",
    "                       ,xmax_bins=xmax_bins,debug=debug)\n",
    "        R_vs_mA_overlay_genie = pd.DataFrame({'mA':0.99,'R':R,'Rerr':Rerr},index=[0])\n",
    "        plt.errorbar(x=R_vs_mA_overlay_genie['mA'],xerr=0\n",
    "                     ,y=R_vs_mA_overlay_genie['R'],yerr=R_vs_mA_overlay_genie['Rerr']\n",
    "                     ,fmt='o',label='genie (overlay)',markersize=15)\n",
    "    set_axes(ax,r'$m_A$ (GeV/c$^2$)',r'R',do_add_grid=True,do_add_legend=True)\n",
    "    \n",
    "    "
   ]
  },
  {
   "cell_type": "code",
   "execution_count": 17,
   "metadata": {},
   "outputs": [],
   "source": [
    "Ppmin_bins = [0.25,0.55]\n",
    "Ppmax_bins = [Ppmin_bins[1],1.0]"
   ]
  },
  {
   "cell_type": "code",
   "execution_count": 18,
   "metadata": {},
   "outputs": [
    {
     "data": {
      "image/png": "[encoded data removed]",
      "text/plain": [
       "<matplotlib.figure.Figure at 0x1096195d0>"
      ]
     },
     "metadata": {},
     "output_type": "display_data"
    }
   ],
   "source": [
    "# CC1p0pi = dict({'mA=0.99':geni})\n",
    "observable_low_high_ratio(var='Pp',debug=0\n",
    "                          ,mA_array=mA_array\n",
    "                          ,xmin_bins=Ppmin_bins,xmax_bins=Ppmax_bins)"
   ]
  },
  {
   "cell_type": "code",
   "execution_count": null,
   "metadata": {},
   "outputs": [],
   "source": []
  },
  {
   "cell_type": "code",
   "execution_count": null,
   "metadata": {},
   "outputs": [],
   "source": []
  },
  {
   "cell_type": "code",
   "execution_count": null,
   "metadata": {},
   "outputs": [],
   "source": [
    "fig=plt.figure(figsize=(12,8))\n",
    "ax = fig.add_subplot(1,1,1)\n",
    "for i_mA,(mA,color) in enumerate(zip(mA_array\n",
    "                                     ,['red','blue','green','black','purple','orange','cyan'])):\n",
    "    sample = genie_CC1p0pi[mA]\n",
    "    h,bins=np.histogram( sample['Pp'] , bins=np.linspace(0.,1.,25));\n",
    "    mid = 0.5*(bins[1:]+bins[:-1]); bin_width=0.5*(bins[1]-bins[0])\n",
    "    h = 100*h*(1./np.sum(h))\n",
    "    plt.errorbar(x=mid , y=h , xerr=bin_width\n",
    "                 ,fmt='.',markersize=0,label=r'$m_A = %.2f$ GeV/c$^2$'%mA,capthick=2)\n",
    "    plt.plot([Ppmin_bins[0],Ppmin_bins[0]],ax.get_ylim(),'--'\n",
    "         ,[Ppmin_bins[1],Ppmin_bins[1]],ax.get_ylim(),'--'\n",
    "         ,[Ppmax_bins[1],Ppmax_bins[1]],ax.get_ylim(),'--',color='black')\n",
    "\n",
    "set_axes(ax,r'$p_p$ (GeV/c)','frequency [%]',do_add_grid=True,do_add_legend=True)\n",
    "plt.tight_layout()    "
   ]
  },
  {
   "cell_type": "code",
   "execution_count": null,
   "metadata": {},
   "outputs": [],
   "source": []
  },
  {
   "cell_type": "code",
   "execution_count": null,
   "metadata": {},
   "outputs": [],
   "source": []
  },
  {
   "cell_type": "code",
   "execution_count": null,
   "metadata": {},
   "outputs": [],
   "source": []
  },
  {
   "cell_type": "code",
   "execution_count": null,
   "metadata": {},
   "outputs": [],
   "source": []
  },
  {
   "cell_type": "code",
   "execution_count": null,
   "metadata": {},
   "outputs": [],
   "source": []
  },
  {
   "cell_type": "code",
   "execution_count": null,
   "metadata": {},
   "outputs": [],
   "source": []
  }
 ],
 "metadata": {
  "celltoolbar": "Slideshow",
  "kernelspec": {
   "display_name": "Python 2",
   "language": "python",
   "name": "python2"
  },
  "language_info": {
   "codemirror_mode": {
    "name": "ipython",
    "version": 2
   },
   "file_extension": ".py",
   "mimetype": "text/x-python",
   "name": "python",
   "nbconvert_exporter": "python",
   "pygments_lexer": "ipython2",
   "version": "2.7.11"
  }
 },
 "nbformat": 4,
 "nbformat_minor": 2
}
