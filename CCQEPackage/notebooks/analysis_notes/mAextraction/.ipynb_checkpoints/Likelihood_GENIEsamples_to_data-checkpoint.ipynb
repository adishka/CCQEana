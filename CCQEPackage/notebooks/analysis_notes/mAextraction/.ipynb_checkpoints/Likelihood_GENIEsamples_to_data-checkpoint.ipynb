{
 "cells": [
  {
   "cell_type": "markdown",
   "metadata": {},
   "source": [
    "# Acceptance map that \"ruins\" GENIE samples to mimic the detector"
   ]
  },
  {
   "cell_type": "code",
   "execution_count": 1,
   "metadata": {
    "slideshow": {
     "slide_type": "skip"
    }
   },
   "outputs": [
    {
     "name": "stdout",
     "output_type": "stream",
     "text": [
      "versions:\n",
      "{   'OffBeam': 'prod_reco_optfilter_extbnb_v12_mcc8_dev',\n",
      "    'OnBeam': 'prod_reco_optfilter_bnb_v12_unblind_mcc8',\n",
      "    'Overlay': 'prodgenie_bnb_nu_uboone_overlay_mcc8.11_reco2',\n",
      "    'data date': '2018_05_11',\n",
      "    'date': '2018_05_11',\n",
      "    'overlay date': '2018_05_11'}\n",
      "OffBeam_scaling: 0.706302660161 = N(on beam)/N(off beam) before SwT\n",
      "f(POT): 0.0512441465374 = N(POT on beam)/N(POT MC)\n"
     ]
    }
   ],
   "source": [
    "import sys; sys.path.insert(0, '../../'); \n",
    "from ccqe_notebook_tools import * \n",
    "from mupClassification_notebooks import *\n",
    "from onbeam_offbeam_notebooks import *\n",
    "%matplotlib inline"
   ]
  },
  {
   "cell_type": "code",
   "execution_count": 2,
   "metadata": {
    "scrolled": true
   },
   "outputs": [],
   "source": [
    "figures_path = '/Users/erezcohen/Desktop/Projects/uBoone/write-ups/mAextraction/Figures/acceptance/'"
   ]
  },
  {
   "cell_type": "code",
   "execution_count": 3,
   "metadata": {},
   "outputs": [],
   "source": [
    "versions['data date'] = '2018_05_11'\n",
    "versions['overlay date'] = '2018_05_11'\n",
    "versions['Overlay'] = 'prodgenie_bnb_nu_uboone_overlay_mcc8.11_reco2'"
   ]
  },
  {
   "cell_type": "code",
   "execution_count": 4,
   "metadata": {},
   "outputs": [
    {
     "name": "stdout",
     "output_type": "stream",
     "text": [
      "38163 pairs from On-Beam, 24323 in Fiducial Volume\n",
      "\u001b[92m--------------------------------------------------------------\u001b[0m\n",
      "applied cuts to data\n",
      "350 selected pairs in data\n",
      "182 selected pairs in data in tight FV\n"
     ]
    }
   ],
   "source": [
    "OnBeam = pd.concat([pd.read_csv(vertices_files_path+'/'+versions['data date']+'/'+versions['OnBeam']+'_04_'+versions['data date']+'_vertices.csv')\n",
    "                    ,pd.read_csv(vertices_files_path+'/'+versions['data date']+'/'+versions['OnBeam']+'_05_'+versions['data date']+'_vertices.csv')])\n",
    "OnBeamFV = sample_in_FV(OnBeam)\n",
    "print \"%d\"%len(OnBeam)+' pairs from On-Beam, %d'%len(OnBeamFV)+' in Fiducial Volume'; print_line()\n",
    "\n",
    "cuts_order  = ['no cut','Chi2Proton','MatchedFlash','length','non-collinearity','vertex activity','delta phi','Pt & delta phi']\n",
    "reducedOnBeam,BeamOnNumbers = apply_cuts_to_data(OnBeamFV=OnBeamFV,cuts_order=cuts_order)\n",
    "print 'applied cuts to data'\n",
    "selected_events = reducedOnBeam['Pt & delta phi']\n",
    "print len(selected_events),'selected pairs in data'\n",
    "\n",
    "# tight FV\n",
    "max_FV_y = 104 \n",
    "min_FV_z,max_FV_z = 5,1020\n",
    "min_FV_x,max_FV_x = 5,240\n",
    "selected_events_tightFV = sample_in_FV(sample=selected_events\n",
    "                                   ,max_FV_y = max_FV_y ,min_FV_z = min_FV_z, max_FV_z = max_FV_z,min_FV_x = min_FV_x, max_FV_x = max_FV_x)\n",
    "Nevents = len(selected_events_tightFV)\n",
    "print Nevents,'selected pairs in data in tight FV'"
   ]
  },
  {
   "cell_type": "markdown",
   "metadata": {},
   "source": [
    "# afro GENIE samples with different $m_A$"
   ]
  },
  {
   "cell_type": "code",
   "execution_count": 5,
   "metadata": {},
   "outputs": [],
   "source": [
    "sns.set(style='white');\n",
    "mA_array = [0.6,0.7,0.8,0.9,0.95,0.99,1.1,1.2,1.4] # S.Dytman: GENIE assumes mA=0.99 GeV/c2 (Dec-30,2017)\n",
    "mA_colors= ['red','blue','yellow','forestgreen','purple','orange','pink','teal']"
   ]
  },
  {
   "cell_type": "code",
   "execution_count": 6,
   "metadata": {},
   "outputs": [
    {
     "name": "stdout",
     "output_type": "stream",
     "text": [
      "28507 CC1p0π events in GENIE samples with mA=0.60\n",
      "30599 CC1p0π events in GENIE samples with mA=0.70\n",
      "32163 CC1p0π events in GENIE samples with mA=0.80\n",
      "33824 CC1p0π events in GENIE samples with mA=0.90\n",
      "34849 CC1p0π events in GENIE samples with mA=0.99\n",
      "36196 CC1p0π events in GENIE samples with mA=1.10\n",
      "37239 CC1p0π events in GENIE samples with mA=1.20\n",
      "38810 CC1p0π events in GENIE samples with mA=1.40\n"
     ]
    }
   ],
   "source": [
    "genie_CC1p0pi = dict()\n",
    "for mA in mA_array:\n",
    "    genie_sample = pd.read_csv('/Users/erezcohen/Desktop/uBoone/CCQEanalysis/mA/afro_genie_samples/CC_100k_mA_%.2f.csv'%mA)\n",
    "    genie_CC1p0pi[mA] = genie_sample[genie_sample['IsCC_1p_200MeVc_0pi']==True]\n",
    "    print len(genie_CC1p0pi[mA]),'CC1p0π events in GENIE samples with mA=%.2f'%mA"
   ]
  },
  {
   "cell_type": "markdown",
   "metadata": {},
   "source": [
    "# fit the $Q^2$ distributions in the GENIE samples \n",
    "in order to obtain a smooth parameterization of the probability distribution function for each sample"
   ]
  },
  {
   "cell_type": "code",
   "execution_count": 7,
   "metadata": {},
   "outputs": [],
   "source": [
    "bins=linspace(0,1,25); mid=0.5*(bins[1:]+bins[:-1])\n",
    "var,x_label='Q2',r'$Q^2$ (GeV/c)$^2$'"
   ]
  },
  {
   "cell_type": "markdown",
   "metadata": {},
   "source": [
    "## Likelihood\n",
    "$$ {\\displaystyle {\\hat {\\ell }}(\\theta \\,;x)={\\frac {1}{n}}\\sum _{i=1}^{n}\\ln f(x_{i}\\mid \\theta ),} $$"
   ]
  },
  {
   "cell_type": "code",
   "execution_count": 8,
   "metadata": {},
   "outputs": [],
   "source": [
    "def find_Q2_bin( Q2, h, bins):\n",
    "    for Q2_bin in range(len(bins)-1):\n",
    "        if (Q2>bins[Q2_bin])&(Q2<bins[Q2_bin+1]):\n",
    "            return Q2_bin\n",
    "    return -1"
   ]
  },
  {
   "cell_type": "code",
   "execution_count": 9,
   "metadata": {},
   "outputs": [
    {
     "ename": "ImportError",
     "evalue": "No module named superplot.statslib.kde",
     "output_type": "error",
     "traceback": [
      "\u001b[0;31m---------------------------------------------------------------------------\u001b[0m",
      "\u001b[0;31mImportError\u001b[0m                               Traceback (most recent call last)",
      "\u001b[0;32m<ipython-input-9-d353f8b91af1>\u001b[0m in \u001b[0;36m<module>\u001b[0;34m()\u001b[0m\n\u001b[1;32m      1\u001b[0m \u001b[0mdebug\u001b[0m\u001b[0;34m=\u001b[0m\u001b[0;36m1\u001b[0m\u001b[0;34m\u001b[0m\u001b[0m\n\u001b[0;32m----> 2\u001b[0;31m \u001b[0;32mfrom\u001b[0m \u001b[0msuperplot\u001b[0m\u001b[0;34m.\u001b[0m\u001b[0mstatslib\u001b[0m\u001b[0;34m.\u001b[0m\u001b[0mkde\u001b[0m \u001b[0;32mimport\u001b[0m \u001b[0mgaussian_kde\u001b[0m\u001b[0;34m\u001b[0m\u001b[0m\n\u001b[0m\u001b[1;32m      3\u001b[0m \u001b[0mLL_df\u001b[0m \u001b[0;34m=\u001b[0m \u001b[0mpd\u001b[0m\u001b[0;34m.\u001b[0m\u001b[0mDataFrame\u001b[0m\u001b[0;34m(\u001b[0m\u001b[0mcolumns\u001b[0m\u001b[0;34m=\u001b[0m\u001b[0;34m{\u001b[0m\u001b[0;34m'mA'\u001b[0m\u001b[0;34m,\u001b[0m\u001b[0;34m'LL'\u001b[0m\u001b[0;34m}\u001b[0m\u001b[0;34m)\u001b[0m\u001b[0;34m\u001b[0m\u001b[0m\n\u001b[1;32m      4\u001b[0m \u001b[0mlog_f_i\u001b[0m\u001b[0;34m=\u001b[0m\u001b[0mdict\u001b[0m\u001b[0;34m(\u001b[0m\u001b[0;34m)\u001b[0m\u001b[0;34m\u001b[0m\u001b[0m\n\u001b[1;32m      5\u001b[0m \u001b[0;32mfor\u001b[0m \u001b[0mmA\u001b[0m \u001b[0;32min\u001b[0m \u001b[0mmA_array\u001b[0m\u001b[0;34m:\u001b[0m\u001b[0;34m\u001b[0m\u001b[0m\n",
      "\u001b[0;31mImportError\u001b[0m: No module named superplot.statslib.kde"
     ]
    }
   ],
   "source": [
    "debug=1\n",
    "from superplot.statslib.kde import gaussian_kde\n",
    "LL_df = pd.DataFrame(columns={'mA','LL'})\n",
    "log_f_i=dict()\n",
    "for mA in mA_array:\n",
    "#     hGenie,hGenie_err = np.zeros(len(bins)-1),np.zeros(len(bins)-1)\n",
    "#     for Q2_bin in range(len(bins)-1):\n",
    "#         genie_in_bin = genie_CC1p0pi[mA][(genie_CC1p0pi[mA][var]>bins[Q2_bin])&(genie_CC1p0pi[mA][var]<bins[Q2_bin+1])]\n",
    "#         weights_in_bin = genie_in_bin['MicroBooNEWeight_Pmu_theta_Pp_theta']\n",
    "#         hGenie[Q2_bin] = np.sum(weights_in_bin)\n",
    "#         hGenie_err[Q2_bin] = np.sqrt(np.sum(np.square(weights_in_bin)))\n",
    "        \n",
    "#     # normalize - to make it a PDF\n",
    "#     hGenie_err = hGenie_err*(1./np.float(np.sum(hGenie)))\n",
    "#     hGenie = hGenie*(1./np.float(np.sum(hGenie)))\n",
    "    \n",
    "    var_array = np.array(genie_CC1p0pi[mA][var])\n",
    "    weights = np.array(genie_CC1p0pi[mA]['MicroBooNEWeight_Pmu_theta_Pp_theta'])\n",
    "    pdf = gaussian_kde(var_array,weights=weights)\n",
    "#     x,y,yerr = mid,hGenie,hGenie_err\n",
    "#     z = np.polyfit(x,y,deg=6)\n",
    "#     pdf = np.poly1d(z)\n",
    "#     x_poly = linspace(0.02,1,100); dx=(x_poly[1]-x_poly[0]);\n",
    "#     integral = np.sum( [pdf(x)*dx for x in x_poly] )\n",
    "\n",
    "    # now compute the likelihood of the data\n",
    "#     LL = 0\n",
    "#     log_f_i[mA] = []\n",
    "    f = pdf(selected_events_tightFV['reco_Q2'])    \n",
    "    LL = np.sum(np.log(f))/len(f)\n",
    "#     print 'f:',f\n",
    "#     print 'LL:',LL\n",
    "#     for i,event in selected_events_tightFV.iterrows():    \n",
    "#         Q2_i = np.min( [0.98 , np.max([0.02 , event['reco_Q2']])])\n",
    "#         f_i = np.max([1e-5 , pdf(Q2_i)]) # cutoff to prevent negative Q2 values\n",
    "#         Q2_bin = find_Q2_bin( Q2_i, hGenie, bins)\n",
    "# #         print 'Q2_bin:',Q2_bin\n",
    "#         if Q2_bin==-1: f_i=1e-5\n",
    "#         else:\n",
    "# #         f_i = np.max([1e-5 , pdf(Q2_i)/integral]) # cutoff to prevent negative Q2 values\n",
    "\n",
    "# #             f_i = np.max([1e-5 , hGenie[Q2_bin]]) # cutoff to prevent negative Q2 values\n",
    "#         LL += np.log(f_i)\n",
    "#         log_f_i[mA].append(np.log(f_i))\n",
    "#         if np.log(f_i)>max_log_f_i:\n",
    "#         if mA==1.4:\n",
    "#         max_log_f_i = np.log(f_i)       \n",
    "#         print 'mA=',mA,',Q2_i:%.2f'%Q2_i,',f_i:%.2f'%f_i,',np.log(f_i):%.1f'%np.log(f_i)\n",
    "    LL_df = LL_df.append(pd.DataFrame({'mA':mA,'LL':LL},index=[mA]))\n",
    "    \n",
    "    if debug:\n",
    "#         print 'poly:',poly\n",
    "#         print 'hGenie:',hGenie\n",
    "#         print 'hGenie_err:',hGenie_err        \n",
    "        print 'np.min(f):',np.min(f)\n",
    "        print 'np.min(np.log(f)):',np.min(np.log(f)),'np.max(np.log(f)):',np.max(np.log(f))\n",
    "\n",
    "        print 'LL:',LL\n",
    "    print 'done mA=%.2f'%mA\n",
    "LL_df"
   ]
  },
  {
   "cell_type": "code",
   "execution_count": null,
   "metadata": {},
   "outputs": [],
   "source": [
    "fig=plt.figure(figsize=(12.944,8)); ax=fig.add_subplot(1,1,1)\n",
    "plt.plot( LL_df['mA'] , LL_df['LL'] , '--',color='red',linewidth=2)\n",
    "set_axes(ax,r'$m_A$ [GeV/c$^2$]','Log-Likelihood',do_add_grid=True)"
   ]
  },
  {
   "cell_type": "code",
   "execution_count": null,
   "metadata": {},
   "outputs": [],
   "source": [
    "fig,ax=plt.subplots(figsize=(9.708,6))\n",
    "for mA,c in zip(mA_array,mA_colors):\n",
    "    h,_,_=plt.hist(log_f_i[mA],bins=linspace(-10,1,10),histtype='step',linewidth=3,color=c)\n",
    "    print 'np.sum(h):',np.sum(h)\n",
    "    plt.plot([0,0],[0,0],linewidth=3,color=c,label=r'$m_A=%.2f$'%mA)\n",
    "set_axes(ax,r'$\\ln (f_i)$','',do_add_legend=True,legend_loc='upper left',fontsize=20)    "
   ]
  },
  {
   "cell_type": "code",
   "execution_count": null,
   "metadata": {
    "scrolled": false
   },
   "outputs": [],
   "source": [
    "fig=plt.figure(figsize=(12.944,8)); ax=fig.add_subplot(1,1,1)\n",
    "for mA,color in zip(mA_array[0:1],mA_colors):\n",
    "    var_array = np.array(genie_CC1p0pi[mA][var])\n",
    "    weights = np.array(genie_CC1p0pi[mA]['MicroBooNEWeight_Pmu_theta_Pp_theta'])\n",
    "    pdf = gaussian_kde(var_array,weights=weights)\n",
    "    x_poly = linspace(0,1,100); dx=(x_poly[1]-x_poly[0]);\n",
    "    ax.plot(x_poly, pdf(x_poly), '--',color=color,linewidth=2)\n",
    "\n",
    "    pdf_nw = gaussian_kde(var_array,weights=None)\n",
    "    ax.plot(x_poly, pdf_nw(x_poly), '--',color='black',linewidth=2)\n",
    "    ax.hist(genie_CC1p0pi[mA]['Q2'],bins=100,histtype='step',color='blue',linewidth=2,normed=1)\n",
    "    ax.hist(genie_CC1p0pi[mA]['Q2'],weights=genie_CC1p0pi[mA]['MicroBooNEWeight_Pmu_theta_Pp_theta'],bins=100,histtype='step',color='purple',linewidth=2,normed=1)\n",
    "\n",
    "\n",
    "set_axes(ax,x_label,'PDF',do_add_grid=True,xlim=(0,1))"
   ]
  },
  {
   "cell_type": "code",
   "execution_count": null,
   "metadata": {},
   "outputs": [],
   "source": []
  },
  {
   "cell_type": "code",
   "execution_count": null,
   "metadata": {},
   "outputs": [],
   "source": []
  },
  {
   "cell_type": "code",
   "execution_count": null,
   "metadata": {},
   "outputs": [],
   "source": []
  }
 ],
 "metadata": {
  "celltoolbar": "Slideshow",
  "kernelspec": {
   "display_name": "Python 2",
   "language": "python",
   "name": "python2"
  },
  "language_info": {
   "codemirror_mode": {
    "name": "ipython",
    "version": 2
   },
   "file_extension": ".py",
   "mimetype": "text/x-python",
   "name": "python",
   "nbconvert_exporter": "python",
   "pygments_lexer": "ipython2",
   "version": "2.7.11"
  }
 },
 "nbformat": 4,
 "nbformat_minor": 2
}
