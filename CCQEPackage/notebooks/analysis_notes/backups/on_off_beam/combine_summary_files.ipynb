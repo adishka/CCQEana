{
 "cells": [
  {
   "cell_type": "code",
   "execution_count": 1,
   "metadata": {},
   "outputs": [
    {
     "name": "stdout",
     "output_type": "stream",
     "text": [
      "versions:\n",
      "{   'OffBeam': 'prod_reco_optfilter_extbnb_v12_mcc8_dev',\n",
      "    'OnBeam': 'prod_reco_optfilter_bnb_v12_unblind_mcc8',\n",
      "    'Overlay': 'prodgenie_bnb_nu_uboone_overlay_mcc8.11_reco2',\n",
      "    'data date': '2018_05_11',\n",
      "    'date': '2018_05_11',\n",
      "    'overlay date': '2018_05_11'}\n",
      "OffBeam_scaling: 0.706302660161 = N(on beam)/N(off beam) before SwT\n",
      "f(POT): 0.0512441465374 = N(POT on beam)/N(POT MC)\n"
     ]
    }
   ],
   "source": [
    "import sys; sys.path.insert(0, '../../');  sys.path.insert(0,'../mupClassification/')\n",
    "from ccqe_notebook_tools import * \n",
    "from mupClassification_notebooks import *\n",
    "from onbeam_offbeam_notebooks import *\n",
    "%matplotlib inline"
   ]
  },
  {
   "cell_type": "markdown",
   "metadata": {},
   "source": [
    "# combine summary files "
   ]
  },
  {
   "cell_type": "code",
   "execution_count": 2,
   "metadata": {},
   "outputs": [],
   "source": [
    "summary_path = '/Users/erezcohen/Desktop/uBoone/CCQEanalysis/csvFiles/summary/'\n",
    "figures_path = '/Users/erezcohen/Desktop/Projects/uBoone/write-ups/mupClassification/Figures/'"
   ]
  },
  {
   "cell_type": "code",
   "execution_count": 3,
   "metadata": {},
   "outputs": [],
   "source": [
    "summaryOverlay = pd.read_csv('/Users/erezcohen/Desktop/uBoone/CCQEanalysis/csvFiles/summary/2018_05_11/prodgenie_bnb_nu_uboone_overlay_mcc8.11_reco2_2018_05_11_summary.csv')"
   ]
  },
  {
   "cell_type": "code",
   "execution_count": 4,
   "metadata": {},
   "outputs": [
    {
     "name": "stdout",
     "output_type": "stream",
     "text": [
      "494 files in total\n",
      "9.57767927e+20 POT in total\n",
      "923333 events in total\n",
      "283762 pairs in total\n"
     ]
    }
   ],
   "source": [
    "Nfiles_tot = len(summaryOverlay)\n",
    "print Nfiles_tot,'files in total'\n",
    "POT_tot = np.sum(summaryOverlay['POT'])\n",
    "print POT_tot,'POT in total'\n",
    "Nevents_tot = np.sum(summaryOverlay[(summaryOverlay['Nevents']>0)&(summaryOverlay['Nevents']<100000)]['Nevents'])\n",
    "print Nevents_tot,'events in total'\n",
    "Npairs_tot = np.sum(summaryOverlay[(summaryOverlay['Nvertices']>0)&(summaryOverlay['Nvertices']<100000)]['Nvertices'])\n",
    "print Npairs_tot,'pairs in total'"
   ]
  },
  {
   "cell_type": "code",
   "execution_count": 5,
   "metadata": {},
   "outputs": [],
   "source": [
    "summaryBeamOn = pd.concat([pd.read_csv('/Users/erezcohen/Desktop/uBoone/CCQEanalysis/csvFiles/summary/2018_05_11/prod_reco_optfilter_bnb_v12_unblind_mcc8_04_2018_05_11_summary.csv')\n",
    "                           ,pd.read_csv('/Users/erezcohen/Desktop/uBoone/CCQEanalysis/csvFiles/summary/2018_05_11/prod_reco_optfilter_bnb_v12_unblind_mcc8_05_2018_05_11_summary.csv')])"
   ]
  },
  {
   "cell_type": "code",
   "execution_count": 6,
   "metadata": {},
   "outputs": [
    {
     "name": "stdout",
     "output_type": "stream",
     "text": [
      "280 files in total\n",
      "191845 events in total\n",
      "38163 pairs in total\n"
     ]
    }
   ],
   "source": [
    "Nfiles_tot = len(summaryBeamOn)\n",
    "print Nfiles_tot,'files in total'\n",
    "Nevents_tot = np.sum(summaryBeamOn[(summaryBeamOn['Nevents']>0)&(summaryBeamOn['Nevents']<100000)]['Nevents'])\n",
    "print Nevents_tot,'events in total'\n",
    "Npairs_tot = np.sum(summaryBeamOn[(summaryBeamOn['Nvertices']>0)&(summaryBeamOn['Nvertices']<100000)]['Nvertices'])\n",
    "print Npairs_tot,'pairs in total'"
   ]
  },
  {
   "cell_type": "code",
   "execution_count": 7,
   "metadata": {},
   "outputs": [],
   "source": [
    "summaryBeamOff = pd.concat([pd.read_csv(summary_path+'/'+versions['data date']+'/'+versions['OffBeam']+'_04_'+versions['date']+'_summary.csv')\n",
    "                           ,pd.read_csv(summary_path+'/'+versions['data date']+'/'+versions['OffBeam']+'_05_'+versions['date']+'_summary.csv')])"
   ]
  },
  {
   "cell_type": "code",
   "execution_count": 8,
   "metadata": {},
   "outputs": [
    {
     "name": "stdout",
     "output_type": "stream",
     "text": [
      "201 files in total\n",
      "201224 events in total\n",
      "34730 pairs in total\n"
     ]
    }
   ],
   "source": [
    "Nfiles_tot = len(summaryBeamOff)\n",
    "print Nfiles_tot,'files in total'\n",
    "Nevents_tot = np.sum(summaryBeamOff[(summaryBeamOff['Nevents']>0)&(summaryBeamOff['Nevents']<100000)]['Nevents'])\n",
    "print Nevents_tot,'events in total'\n",
    "Npairs_tot = np.sum(summaryBeamOff[(summaryBeamOff['Nvertices']>0)&(summaryBeamOff['Nvertices']<100000)]['Nvertices'])\n",
    "print Npairs_tot,'pairs in total'"
   ]
  },
  {
   "cell_type": "code",
   "execution_count": null,
   "metadata": {
    "collapsed": true
   },
   "outputs": [],
   "source": []
  }
 ],
 "metadata": {
  "kernelspec": {
   "display_name": "Python 2",
   "language": "python",
   "name": "python2"
  },
  "language_info": {
   "codemirror_mode": {
    "name": "ipython",
    "version": 2
   },
   "file_extension": ".py",
   "mimetype": "text/x-python",
   "name": "python",
   "nbconvert_exporter": "python",
   "pygments_lexer": "ipython2",
   "version": "2.7.11"
  }
 },
 "nbformat": 4,
 "nbformat_minor": 1
}
