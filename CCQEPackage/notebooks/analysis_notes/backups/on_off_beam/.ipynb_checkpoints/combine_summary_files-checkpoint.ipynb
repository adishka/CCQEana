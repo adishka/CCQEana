{
 "cells": [
  {
   "cell_type": "code",
   "execution_count": 2,
   "metadata": {
    "collapsed": false
   },
   "outputs": [],
   "source": [
    "import sys; sys.path.insert(0, '../../');  sys.path.insert(0,'../mupClassification/')\n",
    "from ccqe_notebook_tools import * \n",
    "from mupClassification_notebooks import *\n",
    "%matplotlib inline"
   ]
  },
  {
   "cell_type": "markdown",
   "metadata": {},
   "source": [
    "# combine summary files "
   ]
  },
  {
   "cell_type": "code",
   "execution_count": 3,
   "metadata": {
    "collapsed": true
   },
   "outputs": [],
   "source": [
    "figures_path = '/Users/erezcohen/Desktop/Projects/uBoone/write-ups/mupClassification/Figures/'"
   ]
  },
  {
   "cell_type": "code",
   "execution_count": 6,
   "metadata": {
    "collapsed": true
   },
   "outputs": [],
   "source": [
    "summaryBeamOn = pd.concat([pd.read_csv('/Users/erezcohen/Desktop/uBoone/CCQEanalysis/csvFiles/summary/prod_reco_optfilter_bnb_v11_unblind_mcc8_v04_2018_03_29_summary.csv')\n",
    "                           ,pd.read_csv('/Users/erezcohen/Desktop/uBoone/CCQEanalysis/csvFiles/summary/prod_reco_optfilter_bnb_v11_unblind_mcc8_v05_2018_03_29_summary.csv')])"
   ]
  },
  {
   "cell_type": "code",
   "execution_count": 13,
   "metadata": {
    "collapsed": false
   },
   "outputs": [
    {
     "name": "stdout",
     "output_type": "stream",
     "text": [
      "405 files in total\n",
      "192043 events in total\n",
      "38199 pairs in total\n"
     ]
    }
   ],
   "source": [
    "Nfiles_tot = len(summaryBeamOn)\n",
    "print Nfiles_tot,'files in total'\n",
    "Nevents_tot = np.sum(summaryBeamOn[(summaryBeamOn['Nevents']>0)&(summaryBeamOn['Nevents']<100000)]['Nevents'])\n",
    "print Nevents_tot,'events in total'\n",
    "Npairs_tot = np.sum(summaryBeamOn[(summaryBeamOn['Nvertices']>0)&(summaryBeamOn['Nvertices']<100000)]['Nvertices'])\n",
    "print Npairs_tot,'pairs in total'"
   ]
  },
  {
   "cell_type": "code",
   "execution_count": 17,
   "metadata": {
    "collapsed": true
   },
   "outputs": [],
   "source": [
    "summaryBeamOff = pd.concat([pd.read_csv('/Users/erezcohen/Desktop/uBoone/CCQEanalysis/csvFiles/summary/prod_reco_optfilter_extbnb_v11_mcc8_dev_v04_2018_03_29_summary.csv')\n",
    "                           ,pd.read_csv('/Users/erezcohen/Desktop/uBoone/CCQEanalysis/csvFiles/summary/prod_reco_optfilter_extbnb_v11_mcc8_dev_v05_2018_03_29_summary.csv')])"
   ]
  },
  {
   "cell_type": "code",
   "execution_count": 18,
   "metadata": {
    "collapsed": false
   },
   "outputs": [
    {
     "name": "stdout",
     "output_type": "stream",
     "text": [
      "259 files in total\n",
      "198102 events in total\n",
      "34198 pairs in total\n"
     ]
    }
   ],
   "source": [
    "Nfiles_tot = len(summaryBeamOff)\n",
    "print Nfiles_tot,'files in total'\n",
    "Nevents_tot = np.sum(summaryBeamOff[(summaryBeamOff['Nevents']>0)&(summaryBeamOff['Nevents']<100000)]['Nevents'])\n",
    "print Nevents_tot,'events in total'\n",
    "Npairs_tot = np.sum(summaryBeamOff[(summaryBeamOff['Nvertices']>0)&(summaryBeamOff['Nvertices']<100000)]['Nvertices'])\n",
    "print Npairs_tot,'pairs in total'"
   ]
  },
  {
   "cell_type": "code",
   "execution_count": null,
   "metadata": {
    "collapsed": true
   },
   "outputs": [],
   "source": []
  }
 ],
 "metadata": {
  "kernelspec": {
   "display_name": "Python 2",
   "language": "python",
   "name": "python2"
  },
  "language_info": {
   "codemirror_mode": {
    "name": "ipython",
    "version": 2
   },
   "file_extension": ".py",
   "mimetype": "text/x-python",
   "name": "python",
   "nbconvert_exporter": "python",
   "pygments_lexer": "ipython2",
   "version": "2.7.11"
  }
 },
 "nbformat": 4,
 "nbformat_minor": 0
}
