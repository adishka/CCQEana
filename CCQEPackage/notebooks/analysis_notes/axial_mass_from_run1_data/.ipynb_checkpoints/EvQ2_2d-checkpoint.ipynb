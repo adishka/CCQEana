{
 "cells": [
  {
   "cell_type": "markdown",
   "metadata": {},
   "source": [
    "# correction as a function of both reconstructed $E_\\nu$ and $Q^2$"
   ]
  },
  {
   "cell_type": "code",
   "execution_count": null,
   "metadata": {
    "collapsed": true
   },
   "outputs": [],
   "source": [
    "Q2bins = np.linspace(0,0.8,16)\n",
    "Evbins = np.linspace(0,1.5,16)"
   ]
  },
  {
   "cell_type": "code",
   "execution_count": null,
   "metadata": {
    "collapsed": true
   },
   "outputs": [],
   "source": [
    "def get_pur_eff_Q2Ev_for_cut(Q2bins=Q2bins,Evbins=Evbins,cut_name = 'PIDa'):\n",
    "\n",
    "    mup_original = reduced_MCbnbDATAcosmicSamples['no cut']['1mu-1p']\n",
    "    Q2_pairs_original = mup_original['reco_Q2']\n",
    "    Ev_pairs_original = mup_original['reco_Ev']    \n",
    "    h_mup_original,xedges,yedges = np.histogram2d( Q2_pairs_original , Ev_pairs_original , bins=(Q2bins,Evbins) )    \n",
    "    for x in np.nditer(h_mup_original, op_flags=['readwrite']): x[...] = np.max([1,x])\n",
    "#     print 'h_mup_original:',h_mup_original\n",
    "    h = dict()\n",
    "    for pair_type,label,color in zip(pair_types,MClabels,MCcolors):\n",
    "        pairs = reduced_MCbnbDATAcosmicSamples[cut_name][pair_type]\n",
    "#         print \"len(pairs):\",len(pairs)\n",
    "        Q2_pairs = pairs['reco_Q2']\n",
    "        Ev_pairs = pairs['reco_Ev']\n",
    "        if len(pairs)>2:\n",
    "            histo,xedges,yedges = np.histogram2d( Q2_pairs , Ev_pairs , bins=(Q2bins,Evbins) )\n",
    "        else:\n",
    "            histo = np.zeros((len(Q2bins)-1,len(Evbins)-1))\n",
    "        for x in np.nditer(histo, op_flags=['readwrite']): x[...] = np.max([1,x])\n",
    "#         print 'histo:',histo\n",
    "\n",
    "        h[pair_type] = (np.array(histo)).astype(np.float)\n",
    " \n",
    "    eff_mup = h['1mu-1p']/h_mup_original\n",
    "    for x in np.nditer(eff_mup, op_flags=['readwrite']): x[...] = np.max([0.01,x])\n",
    "    \n",
    "    pur_mup = h['1mu-1p']/(h['1mu-1p'] + h['other pairs'] + h['cosmic'])\n",
    "    for x in np.nditer(pur_mup, op_flags=['readwrite']): x[...] = np.max([0.001,x])\n",
    "\n",
    "    \n",
    "    return eff_mup , pur_mup "
   ]
  },
  {
   "cell_type": "code",
   "execution_count": null,
   "metadata": {
    "collapsed": true
   },
   "outputs": [],
   "source": [
    "cuts = ['no cut','vertex activity','soft Pt'] \n",
    "cuts_labels = ['no cuts',r'detector cuts',r'kinematical cuts']\n",
    "eff_mup = dict()\n",
    "eff_mup_err = dict()\n",
    "pur_mup = dict()\n",
    "pur_mup_err = dict()\n",
    "pur_over_eff_mup = dict()\n",
    "pur_over_eff_mup_err = dict()\n",
    "\n",
    "for cut_name in cuts:    \n",
    "    eff, pur = get_pur_eff_Q2Ev_for_cut(cut_name=cut_name)\n",
    "    eff_mup[cut_name] = eff\n",
    "    pur_mup[cut_name] = pur\n",
    "    pur_over_eff_mup[cut_name] = pur/eff"
   ]
  },
  {
   "cell_type": "code",
   "execution_count": null,
   "metadata": {
    "collapsed": true
   },
   "outputs": [],
   "source": [
    "h_OnOff_corrected = dict()\n",
    "h_OnOff_corrected_err = dict()\n",
    "cuts = ['no cut'] # ,'vertex activity','soft Pt'\n",
    "for cut_name in cuts:\n",
    "    \n",
    "    OnBeamSample = reduced_OnBeam[cut_name]\n",
    "    OffBeamSample = reduced_OffBeam[cut_name]\n",
    "    \n",
    "    h_OnBeam,xedges,yedges = np.histogram2d( OnBeamSample['reco_Q2'] , OnBeamSample['reco_Ev']  , bins=(Q2bins,Evbins) )\n",
    "    h_OffBeam,xedges,yedges = np.histogram2d( OffBeamSample['reco_Q2'] , OffBeamSample['reco_Ev'] , bins=(Q2bins,Evbins) )\n",
    "    \n",
    "    h_OnBeam_minus_OffBeam = h_OnBeam - OffBeam_scaling*h_OffBeam\n",
    "    h_OnOff_corrected[cut_name] = h_OnBeam_minus_OffBeam*pur_over_eff_mup[cut_name]    "
   ]
  },
  {
   "cell_type": "code",
   "execution_count": null,
   "metadata": {
    "collapsed": true
   },
   "outputs": [],
   "source": [
    "def CCelasticXsec_mA_fitfunction((Q2,Ev), mA , N):\n",
    "    N = float(N) # just a normalization constant\n",
    "    mA = float(mA) # the axial mass\n",
    "    sigma = N*KinFactor(Ev , Q2) * ( A(Q2,mA) + xi(Ev,Q2)*B(Q2,mA) + np.square(xi(Ev,Q2))*C(Q2,mA) )\n",
    "    return sigma.ravel()"
   ]
  },
  {
   "cell_type": "code",
   "execution_count": null,
   "metadata": {
    "collapsed": true
   },
   "outputs": [],
   "source": [
    "hOn,bins=np.histogram(OnBeamSample['reco_Ev'],bins=Evbins)\n",
    "hOff,bins=np.histogram(OffBeamSample['reco_Ev'],bins=Evbins)\n",
    "hOnOff = hOn-OffBeam_scaling*hOff\n",
    "plt.plot(bins[:-1],hOnOff)\n",
    "print hOnOff\n",
    "\n",
    "hOn,bins=np.histogram(OnBeamSample['reco_Q2'],bins=Evbins)\n",
    "hOff,bins=np.histogram(OffBeamSample['reco_Q2'],bins=Evbins)\n",
    "hOnOff = hOn-OffBeam_scaling*hOff\n",
    "plt.plot(bins[:-1],hOnOff)\n",
    "print hOnOff"
   ]
  },
  {
   "cell_type": "code",
   "execution_count": null,
   "metadata": {
    "collapsed": true
   },
   "outputs": [],
   "source": [
    "bins = (Q2bins,Evbins)\n",
    "# the On-Off data in a 2d histogram\n",
    "x_data = OnBeamSample['reco_Q2']\n",
    "y_data = OnBeamSample['reco_Ev']\n",
    "OnBeamData = np.array( [x_data , y_data ] )\n",
    "hOnBeam, edges = np.histogramdd( OnBeamData.T ,bins=bins)\n",
    "x_data = OffBeamSample['reco_Q2']\n",
    "y_data = OffBeamSample['reco_Ev']\n",
    "OffBeamData = np.array( [x_data , y_data ] )\n",
    "hOffBeam, edges = np.histogramdd( OffBeamData.T ,bins=bins)\n",
    "\n",
    "hist = hOnBeam - OffBeam_scaling*hOffBeam\n",
    "# print hist\n",
    "histCorrected = hist*pur_over_eff_mup[cut_name]\n",
    "\n",
    "x_centres = (edges[0][:-1] + edges[0][1:])/2\n",
    "y_centres = (edges[1][:-1] + edges[1][1:])/2\n",
    "X,Y = np.meshgrid(x_centres,y_centres)\n",
    "# print (X,Y)\n",
    "\n",
    "\n",
    "# fit the histogrammed data to the CC-elastic cross-section\n",
    "histCorrected=histCorrected.ravel()\n",
    "p0=[1.0,np.mean(histCorrected)]\n",
    "popt, pcov = opt.curve_fit(CCelasticXsec_mA_fitfunction, (X,Y), histCorrected, p0=p0)\n",
    "hist_fit = CCelasticXsec_mA_fitfunction( (X , Y), *popt)\n",
    "print 'initial guess:',p0\n",
    "print 'popt,pcov:',popt,pcov\n",
    "# plot....\n",
    "fig= plt.figure(figsize=(20,6))\n",
    "ax = fig.add_subplot(1,2,1)\n",
    "im = ax.imshow(histCorrected.reshape(len(x_centres),len(y_centres))\n",
    "               ,cmap='hot_r'\n",
    "               ,origin='bottom'\n",
    "               ,extent=(x_centres.min(), x_centres.max(), y_centres.min(), y_centres.max())\n",
    "              )\n",
    "plt.colorbar(im)\n",
    "set_axes(ax,x_label=r'reco. $Q^2$ (GeV/c)$^2$'\n",
    "         ,y_label=r'reco. $E_\\nu$ [GeV]'\n",
    "         ,fontsize=20)\n",
    "\n",
    "\n",
    "ax = fig.add_subplot(1,2,2)\n",
    "im = ax.imshow(hist_fit.reshape(len(x_centres),len(y_centres))\n",
    "               ,cmap='hot_r'\n",
    "               ,origin='bottom'\n",
    "               ,extent=(x_centres.min(), x_centres.max(), y_centres.min(), y_centres.max()))\n",
    "plt.colorbar(im)\n",
    "ax.contour( X , Y, hist_fit.reshape(len(x_centres),len(y_centres)), 8, colors='w');\n",
    "set_axes(ax,x_label=r'reco. $Q^2$ (GeV/c)$^2$'\n",
    "         ,y_label=r'reco. $E_\\nu$ [GeV]'\n",
    "         ,fontsize=20)"
   ]
  },
  {
   "cell_type": "code",
   "execution_count": null,
   "metadata": {
    "collapsed": true
   },
   "outputs": [],
   "source": [
    "# plot data\n",
    "# %matplotlib \n",
    "X,Y = np.meshgrid(Q2bins[:-1],Evbins[:-1])\n",
    "fig = plt.figure(figsize=(12,8))\n",
    "ax = fig.gca(projection='3d')\n",
    "ax.scatter( X, Y, h_OnOff_corrected[cut_name], c='r', s=50)\n",
    "set_axes(ax,x_label=r'reco. $Q^2$ (GeV/c)$^2$'\n",
    "         ,y_label=r'reco. $E_\\nu$ [GeV]'\n",
    "         ,z_label=r'$(On-Off) \\times (\\epsilon / \\mathcal{P}) $'\n",
    "         ,fontsize=20)\n",
    "\n",
    "# C,_,_,_ = scipy.linalg.lstsq(CCelasticXsec_mA(kinematics=h_OnOff_corrected[cut_name]), data[:,2])\n",
    "print X.shape, Y.shape, h_OnOff_corrected[cut_name].shape\n",
    "ax.plot_surface(X, Y, h_OnOff_corrected[cut_name], rstride=1, cstride=1, alpha=0.2)\n",
    "# plt.subplot_tool()\n",
    "# ax.pcolormesh( X,Y,h_OnOff_corrected[cut_name])"
   ]
  },
  {
   "cell_type": "code",
   "execution_count": null,
   "metadata": {
    "collapsed": true
   },
   "outputs": [],
   "source": [
    "Q2_centers = np.linspace(0.1,0.8,100)\n",
    "Ev_centers = np.linspace(0.2,1.5,100)\n",
    "Q2,Ev = np.meshgrid(Q2_centers,Ev_centers)\n",
    "# imagionary_fit_result = CCelasticXsec_mA_fitfunction( (Q2,E), mA=1. , N=7 )\n",
    "N = 7\n",
    "mA = 1.0\n",
    "sigma = N*KinFactor(Ev , Q2) * ( A(Q2,mA) + xi(Ev,Q2)*B(Q2,mA) + np.square(xi(Ev,Q2))*C(Q2,mA) )\n",
    "# imagionary_fit_result = imagionary_fit_result.ravel()\n",
    "# # plot....\n",
    "# fig= plt.figure(figsize=(12,6))\n",
    "# ax = fig.add_subplot(1,1,1)\n",
    "# im = ax.imshow(imagionary_fit_result.reshape(len(x_centers),len(y_centers))\n",
    "#                ,cmap='hot_r'\n",
    "#                ,origin='bottom'\n",
    "#                ,extent=(x_centers.min(), x_centers.max(), y_centers.min(), y_centers.max()))\n",
    "# plt.colorbar(im)\n",
    "# ax.contour( X , Y, imagionary_fit_result.reshape(len(x_centers),len(y_centers)), 8, colors='w');\n",
    "# set_axes(ax,x_label=r'reco. $Q^2$ (GeV/c)$^2$'\n",
    "#          ,y_label=r'reco. $E_\\nu$ [GeV]'\n",
    "#          ,fontsize=20)\n",
    "print sigma.shape\n",
    "hQ2 = sigma.sum(axis=0)\n",
    "hEv = sigma.sum(axis=1)\n",
    "plt.plot(Q2_centers,hQ2)\n",
    "plt.plot(Ev_centers,hEv)"
   ]
  }
 ],
 "metadata": {
  "kernelspec": {
   "display_name": "Python 2",
   "language": "python",
   "name": "python2"
  },
  "language_info": {
   "codemirror_mode": {
    "name": "ipython",
    "version": 2
   },
   "file_extension": ".py",
   "mimetype": "text/x-python",
   "name": "python",
   "nbconvert_exporter": "python",
   "pygments_lexer": "ipython2",
   "version": "2.7.11"
  }
 },
 "nbformat": 4,
 "nbformat_minor": 0
}
