{
 "cells": [
  {
   "cell_type": "markdown",
   "metadata": {},
   "source": [
    "# refinement of f(cosmic)"
   ]
  },
  {
   "cell_type": "code",
   "execution_count": 1,
   "metadata": {
    "scrolled": true,
    "slideshow": {
     "slide_type": "skip"
    }
   },
   "outputs": [
    {
     "name": "stdout",
     "output_type": "stream",
     "text": [
      "versions:\n",
      "{   'OffBeam': 'prod_reco_optfilter_extbnb_v12_mcc8_dev',\n",
      "    'OnBeam': 'prod_reco_optfilter_bnb_v12_unblind_mcc8',\n",
      "    'Overlay': 'prodgenie_bnb_nu_uboone_overlay_mcc8.11_reco2',\n",
      "    'data date': '2018_05_11',\n",
      "    'date': '2018_05_11',\n",
      "    'overlay date': '2018_05_11'}\n",
      "OffBeam_scaling: 0.706302660161 = N(on beam)/N(off beam) before SwT\n",
      "f(POT): 0.0512441465374 = N(POT on beam)/N(POT MC)\n"
     ]
    }
   ],
   "source": [
    "import sys; sys.path.insert(0, '../../'); \n",
    "from ccqe_notebook_tools import * \n",
    "from mupClassification_notebooks import *\n",
    "from onbeam_offbeam_notebooks import *\n",
    "%matplotlib inline"
   ]
  },
  {
   "cell_type": "code",
   "execution_count": 2,
   "metadata": {
    "scrolled": true
   },
   "outputs": [],
   "source": [
    "figures_path = '/Users/erezcohen/Desktop/Projects/uBoone/write-ups/OnBeamOffBeam5e19/Figures/fCosmic_refinement/'"
   ]
  },
  {
   "cell_type": "code",
   "execution_count": 3,
   "metadata": {},
   "outputs": [],
   "source": [
    "versions['data date'] = '2018_05_11'\n",
    "versions['overlay date'] = '2018_05_11'\n",
    "versions['Overlay'] = 'prodgenie_bnb_nu_uboone_overlay_mcc8.11_reco2'"
   ]
  },
  {
   "cell_type": "code",
   "execution_count": 4,
   "metadata": {},
   "outputs": [
    {
     "name": "stdout",
     "output_type": "stream",
     "text": [
      "38163 pairs from On-Beam, 24323 in Fiducial Volume\n",
      "283762 pairs from MC-BNB + cosmic DATA overlay\n",
      "186485 pairs in FV\n",
      "49707 are 1mu-1p, 26.7%\n",
      "41519 are other pairs, 22.3%\n",
      "95259 are cosmic, 51.1%\n",
      "\u001b[92m--------------------------------------------------------------\u001b[0m\n",
      "23996 are CC 1p 0pi, 12.9%\n",
      "95259 cosmic pairs and 49707 mu-p pairs in overlay\n"
     ]
    }
   ],
   "source": [
    "OnBeam = pd.concat([pd.read_csv(vertices_files_path+'/'+versions['data date']+'/'+versions['OnBeam']+'_04_'+versions['data date']+'_vertices.csv')\n",
    "                    ,pd.read_csv(vertices_files_path+'/'+versions['data date']+'/'+versions['OnBeam']+'_05_'+versions['data date']+'_vertices.csv')])\n",
    "OnBeamFV = sample_in_FV(OnBeam)\n",
    "print \"%d\"%len(OnBeam)+' pairs from On-Beam, %d'%len(OnBeamFV)+' in Fiducial Volume'\n",
    "\n",
    "OverlayPairsFV, OverlaySamples = load_MCbnbDATAcosmicSamples(date=versions['overlay date'],filename=versions['Overlay']+'_'+versions['overlay date']+'_vertices')\n",
    "print \"%d\"%len(OverlaySamples['cosmic'])+' cosmic pairs and %d'%len(OverlaySamples['1mu-1p'])+' mu-p pairs in overlay'"
   ]
  },
  {
   "cell_type": "code",
   "execution_count": 5,
   "metadata": {},
   "outputs": [
    {
     "data": {
      "text/html": [
       "<div>\n",
       "<style>\n",
       "    .dataframe thead tr:only-child th {\n",
       "        text-align: right;\n",
       "    }\n",
       "\n",
       "    .dataframe thead th {\n",
       "        text-align: left;\n",
       "    }\n",
       "\n",
       "    .dataframe tbody tr th {\n",
       "        vertical-align: top;\n",
       "    }\n",
       "</style>\n",
       "<table border=\"1\" class=\"dataframe\">\n",
       "  <thead>\n",
       "    <tr style=\"text-align: right;\">\n",
       "      <th></th>\n",
       "      <th>$\\mu p$ eff.</th>\n",
       "      <th>$\\mu p$ pur.</th>\n",
       "      <th>CC$0\\pi 1 p$ eff.</th>\n",
       "      <th>CC$0\\pi 1 p$ pur.</th>\n",
       "      <th>label</th>\n",
       "      <th>1mu-1p</th>\n",
       "      <th>other pairs</th>\n",
       "      <th>cosmic</th>\n",
       "      <th>CC 1p 0pi</th>\n",
       "    </tr>\n",
       "  </thead>\n",
       "  <tbody>\n",
       "    <tr>\n",
       "      <th>no cut</th>\n",
       "      <td>100.0%</td>\n",
       "      <td>26.7%</td>\n",
       "      <td>100.0%</td>\n",
       "      <td>12.9%</td>\n",
       "      <td>no cut</td>\n",
       "      <td>100.0% (49707)</td>\n",
       "      <td>100.0% (41519)</td>\n",
       "      <td>100.0% (95259)</td>\n",
       "      <td>100.0% (23996)</td>\n",
       "    </tr>\n",
       "    <tr>\n",
       "      <th>MatchedFlash</th>\n",
       "      <td>80.9%</td>\n",
       "      <td>39.6%</td>\n",
       "      <td>81.4%</td>\n",
       "      <td>19.2%</td>\n",
       "      <td>MatchedFlash</td>\n",
       "      <td>80.9% (40210)</td>\n",
       "      <td>73.0% (30305)</td>\n",
       "      <td>32.6% (31032)</td>\n",
       "      <td>81.4% (19527)</td>\n",
       "    </tr>\n",
       "  </tbody>\n",
       "</table>\n",
       "</div>"
      ],
      "text/plain": [
       "             $\\mu p$ eff. $\\mu p$ pur. CC$0\\pi 1 p$ eff. CC$0\\pi 1 p$ pur.  \\\n",
       "no cut             100.0%        26.7%            100.0%             12.9%   \n",
       "MatchedFlash        80.9%        39.6%             81.4%             19.2%   \n",
       "\n",
       "                     label          1mu-1p     other pairs          cosmic  \\\n",
       "no cut              no cut  100.0% (49707)  100.0% (41519)  100.0% (95259)   \n",
       "MatchedFlash  MatchedFlash   80.9% (40210)   73.0% (30305)   32.6% (31032)   \n",
       "\n",
       "                   CC 1p 0pi  \n",
       "no cut        100.0% (23996)  \n",
       "MatchedFlash   81.4% (19527)  "
      ]
     },
     "execution_count": 5,
     "metadata": {},
     "output_type": "execute_result"
    }
   ],
   "source": [
    "cuts_order  = ['no cut'\n",
    "               ,'MatchedFlash'               \n",
    "              ]\n",
    "cutlabels = ['preselection'\n",
    "             ,'optical filter'\n",
    "            ]\n",
    "\n",
    "reducedOverlay,pureffOverlay,pureffNumbers = apply_cuts_to_overlay(OverlaySamples=OverlaySamples, cuts_order=cuts_order)\n",
    "pureffOverlay"
   ]
  },
  {
   "cell_type": "code",
   "execution_count": 7,
   "metadata": {},
   "outputs": [
    {
     "name": "stdout",
     "output_type": "stream",
     "text": [
      "done applying cuts to data\n"
     ]
    }
   ],
   "source": [
    "reducedOnBeam,_ = apply_cuts_to_data(OnBeamFV=OnBeamFV,cuts_order=cuts_order)\n",
    "print 'done applying cuts to data'"
   ]
  },
  {
   "cell_type": "markdown",
   "metadata": {},
   "source": [
    "# we found f(cosmic) = 0.909 + 0.060 - 0.040\n",
    "how much should we change it to get an integrated matching between data and overlay after all cuts?"
   ]
  },
  {
   "cell_type": "code",
   "execution_count": 9,
   "metadata": {},
   "outputs": [],
   "source": [
    "f_Cosmic=0.909\n",
    "overlay_scalings = dict()\n",
    "overlay_scalings['N(On) scaling and f(cosmic)=%.2f'%f_Cosmic] = get_samples_scaling( N_total= float(len(reducedOnBeam['no cut']))\n",
    "                                                                                    , debug=0\n",
    "                                                                                    , f_Cosmic=f_Cosmic\n",
    "                                                                                    , OverlaySubsamples=reducedOverlay['no cut'])"
   ]
  },
  {
   "cell_type": "code",
   "execution_count": 12,
   "metadata": {},
   "outputs": [],
   "source": [
    "cuts_order  = ['no cut'\n",
    "               ,'Chi2Proton'               \n",
    "               ,'MatchedFlash'               \n",
    "               ,'length'\n",
    "               ,'non-collinearity'               \n",
    "               ,'vertex activity'               \n",
    "               ,'delta phi'               \n",
    "               ,'Pt & delta phi'\n",
    "              ]"
   ]
  },
  {
   "cell_type": "code",
   "execution_count": 13,
   "metadata": {},
   "outputs": [
    {
     "name": "stdout",
     "output_type": "stream",
     "text": [
      "done applying cuts to data\n"
     ]
    },
    {
     "data": {
      "text/plain": [
       "350.0"
      ]
     },
     "execution_count": 13,
     "metadata": {},
     "output_type": "execute_result"
    }
   ],
   "source": [
    "_,BeamOnNumbers = apply_cuts_to_data(OnBeamFV=OnBeamFV,cuts_order=cuts_order)\n",
    "print 'done applying cuts to data'\n",
    "BeamOnNumbers.iloc[-1]['$N_{On}$']"
   ]
  },
  {
   "cell_type": "code",
   "execution_count": 37,
   "metadata": {},
   "outputs": [],
   "source": [
    "f_Cosmic=0.866\n",
    "overlay_scalings = dict()\n",
    "overlay_scalings['N(On) scaling and f(cosmic)=%.2f'%f_Cosmic] = get_samples_scaling( N_total= float(len(reducedOnBeam['no cut']))\n",
    "                                                                                    , debug=0\n",
    "                                                                                    , f_Cosmic=f_Cosmic\n",
    "                                                                                    , OverlaySubsamples=reducedOverlay['no cut'])"
   ]
  },
  {
   "cell_type": "code",
   "execution_count": 38,
   "metadata": {},
   "outputs": [
    {
     "data": {
      "text/plain": [
       "349.91342590801838"
      ]
     },
     "execution_count": 38,
     "metadata": {},
     "output_type": "execute_result"
    }
   ],
   "source": [
    "_,_,pureffNumbers = apply_cuts_to_overlay(OverlaySamples=OverlaySamples, cuts_order=cuts_order\n",
    "                                                                   ,overlay_scaling=overlay_scalings['N(On) scaling and f(cosmic)=%.2f'%f_Cosmic])\n",
    "pureffNumbers.iloc[-1]['$N_{Overlay scaled}$']"
   ]
  },
  {
   "cell_type": "code",
   "execution_count": null,
   "metadata": {},
   "outputs": [],
   "source": []
  },
  {
   "cell_type": "code",
   "execution_count": null,
   "metadata": {},
   "outputs": [],
   "source": []
  }
 ],
 "metadata": {
  "celltoolbar": "Slideshow",
  "kernelspec": {
   "display_name": "Python 2",
   "language": "python",
   "name": "python2"
  },
  "language_info": {
   "codemirror_mode": {
    "name": "ipython",
    "version": 2
   },
   "file_extension": ".py",
   "mimetype": "text/x-python",
   "name": "python",
   "nbconvert_exporter": "python",
   "pygments_lexer": "ipython2",
   "version": "2.7.11"
  }
 },
 "nbformat": 4,
 "nbformat_minor": 2
}
