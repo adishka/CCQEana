{
 "cells": [
  {
   "cell_type": "code",
   "execution_count": 1,
   "metadata": {
    "collapsed": false,
    "scrolled": false,
    "slideshow": {
     "slide_type": "skip"
    }
   },
   "outputs": [],
   "source": [
    "import sys; sys.path.insert(0, '../../'); \n",
    "from ccqe_notebook_tools import * \n",
    "from mupClassification_notebooks import *\n",
    "%matplotlib inline"
   ]
  },
  {
   "cell_type": "markdown",
   "metadata": {},
   "source": [
    "# truth informations on tracks in which we are interested\n",
    "Oct-11, 2017"
   ]
  },
  {
   "cell_type": "code",
   "execution_count": 2,
   "metadata": {
    "collapsed": true,
    "scrolled": true
   },
   "outputs": [],
   "source": [
    "figures_path = '/Users/erezcohen/Desktop/Projects/uBoone/write-ups/mupClassification/Figures/truth_tracks_information/'"
   ]
  },
  {
   "cell_type": "markdown",
   "metadata": {},
   "source": [
    "# pairs of tracks at close proximity"
   ]
  },
  {
   "cell_type": "code",
   "execution_count": 3,
   "metadata": {
    "collapsed": false
   },
   "outputs": [
    {
     "name": "stdout",
     "output_type": "stream",
     "text": [
      "50859 pairs from MC-BNB + cosmic DATA overlay\n",
      "30325 pairs in FV\n",
      "3806 are 1mu-1p, 12.6%\n",
      "3995 are other pairs, 13.2%\n",
      "22524 are cosmic, 74.3%\n",
      "\u001b[92m--------------------------------------------------------------\u001b[0m\n",
      "1232 are CC 1p 0pi, 4.1%\n"
     ]
    }
   ],
   "source": [
    "MCbnbDATAcosmicPairsFV, MCbnbDATAcosmicSamples = load_MCbnbDATAcosmicSamples()"
   ]
  },
  {
   "cell_type": "code",
   "execution_count": 10,
   "metadata": {
    "collapsed": false
   },
   "outputs": [
    {
     "name": "stdout",
     "output_type": "stream",
     "text": [
      "138749 pairs from MC-BNB + cosmic MC overlay\n",
      "95676 pairs in FV\n",
      "19573 are 1mu-1p, 20.5%\n",
      "16269 are other pairs, 17.0%\n",
      "59944 are cosmic, 62.7%\n",
      "\u001b[92m--------------------------------------------------------------\u001b[0m\n",
      "7561 are CC 1p 0pi, 7.9%\n"
     ]
    }
   ],
   "source": [
    "MCbnbMCcosmicPairsFV, MCbnbMCcosmicSamples = load_MCbnbMCcosmicSamples()"
   ]
  },
  {
   "cell_type": "markdown",
   "metadata": {},
   "source": [
    "# $PID_a$ of $\\mu,p,\\pi,K$?"
   ]
  },
  {
   "cell_type": "code",
   "execution_count": 9,
   "metadata": {
    "collapsed": false
   },
   "outputs": [
    {
     "name": "stdout",
     "output_type": "stream",
     "text": [
      "len(pions_long): 587\n",
      "len(pions_short): 880\n",
      "len(protons_long): 435\n",
      "len(protons_short): 3371\n",
      "len(muons_long): 2122\n",
      "len(muons_short): 1687\n",
      "len(Kaons_long): 1\n",
      "len(Kaons_short): 11\n"
     ]
    }
   ],
   "source": [
    "sam = MCbnbDATAcosmicSamples['other pairs']\n",
    "pions_long = sam[(sam['pdg_long']==211) | (sam['pdg_long']==-211) | (sam['pdg_long']==111)]\n",
    "print 'len(pions_long):',len(pions_long)\n",
    "pions_short = sam[(sam['pdg_short']==211) | (sam['pdg_short']==-211) | (sam['pdg_short']==111)]\n",
    "print 'len(pions_short):',len(pions_short)\n",
    "\n",
    "\n",
    "sam = MCbnbDATAcosmicSamples['1mu-1p']\n",
    "protons_long = sam[sam['pdg_long']==2212]\n",
    "print 'len(protons_long):',len(protons_long)\n",
    "protons_short = sam[sam['pdg_short']==2212]\n",
    "print 'len(protons_short):',len(protons_short)\n",
    "\n",
    "sam = MCbnbDATAcosmicSamples['other pairs']\n",
    "muons_long = sam[(sam['pdg_long']==13) | (sam['pdg_long']==-13)]\n",
    "print 'len(muons_long):',len(muons_long)\n",
    "muons_short = sam[(sam['pdg_short']==13) | (sam['pdg_short']==-13)]\n",
    "print 'len(muons_short):',len(muons_short)\n",
    "\n",
    "\n",
    "sam = MCbnbDATAcosmicSamples['other pairs']\n",
    "Kaons_long = sam[(sam['pdg_long']==130) | (sam['pdg_long']==310) | (sam['pdg_long']==311) | (sam['pdg_long']==321)]\n",
    "print 'len(Kaons_long):',len(Kaons_long)\n",
    "Kaons_short = sam[(sam['pdg_short']==130) | (sam['pdg_short']==310) | (sam['pdg_short']==311) | (sam['pdg_short']==321)]\n",
    "print 'len(Kaons_short):',len(Kaons_short)"
   ]
  },
  {
   "cell_type": "code",
   "execution_count": 18,
   "metadata": {
    "collapsed": false
   },
   "outputs": [
    {
     "data": {
      "image/png": "[encoded data removed]",
      "text/plain": [
       "<matplotlib.figure.Figure at 0x1124ac4d0>"
      ]
     },
     "metadata": {},
     "output_type": "display_data"
    }
   ],
   "source": [
    "# plt.hist(muons_long['PIDa_long'],bins=np.linspace(0,30,100));\n",
    "# plt.hist(muons_short['PIDa_short'],bins=np.linspace(0,30,100));\n",
    "muons = np.concatenate([muons_long['PIDa_long'],muons_short['PIDa_short']])\n",
    "plt.hist(muons,bins=np.linspace(0,30,100));\n",
    "\n",
    "protons = np.concatenate([protons_long['PIDa_long'],protons_short['PIDa_short']])\n",
    "plt.hist(protons,bins=np.linspace(0,30,100));\n",
    "\n",
    "pions = np.concatenate([pions_long['PIDa_long'],pions_short['PIDa_short']])\n",
    "plt.hist(pions,bins=np.linspace(0,30,100));\n",
    "\n",
    "Kaons = np.concatenate([Kaons_long['PIDa_long'],Kaons_short['PIDa_short']])\n",
    "plt.hist(Kaons,bins=np.linspace(0,30,100));"
   ]
  },
  {
   "cell_type": "code",
   "execution_count": null,
   "metadata": {
    "collapsed": true
   },
   "outputs": [],
   "source": []
  }
 ],
 "metadata": {
  "celltoolbar": "Slideshow",
  "kernelspec": {
   "display_name": "Python 2",
   "language": "python",
   "name": "python2"
  },
  "language_info": {
   "codemirror_mode": {
    "name": "ipython",
    "version": 2
   },
   "file_extension": ".py",
   "mimetype": "text/x-python",
   "name": "python",
   "nbconvert_exporter": "python",
   "pygments_lexer": "ipython2",
   "version": "2.7.11"
  }
 },
 "nbformat": 4,
 "nbformat_minor": 0
}
