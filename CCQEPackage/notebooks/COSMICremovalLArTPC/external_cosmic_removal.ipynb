{
 "cells": [
  {
   "cell_type": "markdown",
   "metadata": {},
   "source": [
    "# cosmic rejection which is external to our analysis"
   ]
  },
  {
   "cell_type": "code",
   "execution_count": 2,
   "metadata": {
    "collapsed": false,
    "scrolled": true,
    "slideshow": {
     "slide_type": "skip"
    }
   },
   "outputs": [],
   "source": [
    "import sys; sys.path.insert(0, '../'); sys.path.insert(0, '../analysis_notes/mupClassification/'); \n",
    "from ccqe_notebook_tools import * \n",
    "from mupClassification_notebooks import *\n",
    "import seaborn as sns;sns.set(style=\"white\", color_codes=True ,font_scale=2);\n",
    "%matplotlib inline"
   ]
  },
  {
   "cell_type": "code",
   "execution_count": 3,
   "metadata": {
    "collapsed": true,
    "scrolled": true
   },
   "outputs": [],
   "source": [
    "figures_path = '/Users/erezcohen/Desktop/Projects/uBoone/write-ups/RejectingCosBGInLArTPC/Figures/ExternalCosmicRemoval/'"
   ]
  },
  {
   "cell_type": "code",
   "execution_count": 5,
   "metadata": {
    "collapsed": false,
    "scrolled": true
   },
   "outputs": [
    {
     "name": "stdout",
     "output_type": "stream",
     "text": [
      "137 pandoraCosmic pairs 64 pandoraNu pairs\n"
     ]
    }
   ],
   "source": [
    "pandora_pairs = pd.read_csv('/Users/erezcohen/Desktop/uBoone/CCQEanalysis/csvFiles/pandora_pairs/prodcosmics_corsika_cmc_uboone_mcc8.4_reco2_vertices.csv')\n",
    "pandoraNu_pairs = pandora_pairs[pandora_pairs.isPandoraNu==True]\n",
    "pandoraCosmic_pairs = pandora_pairs[pandora_pairs.isPandoraCosmic==True]\n",
    "print len(pandoraCosmic_pairs),'pandoraCosmic pairs',len(pandoraNu_pairs),'pandoraNu pairs'"
   ]
  },
  {
   "cell_type": "code",
   "execution_count": 6,
   "metadata": {
    "collapsed": true
   },
   "outputs": [],
   "source": [
    "samples = [pandoraNu_pairs,pandoraCosmic_pairs]\n",
    "labels = ['pandoraNu pairs','pandoraCosmic pairs']\n",
    "colors = ['teal','tomato']"
   ]
  },
  {
   "cell_type": "code",
   "execution_count": 16,
   "metadata": {
    "collapsed": false
   },
   "outputs": [
    {
     "data": {
      "text/plain": [
       "8                 0.704796\n",
       "9                 0.803705\n",
       "10                  1.0246\n",
       "13                0.824318\n",
       "14                 5.41207\n",
       "21                 1.22355\n",
       "22                0.877895\n",
       "25                 1.30793\n",
       "26                 1.08164\n",
       "28                   5.098\n",
       "30          1.457697.12187\n",
       "31                 6.77078\n",
       "35                 1.18199\n",
       "39                 1.29035\n",
       "40                0.879296\n",
       "41                0.314435\n",
       "46                0.542475\n",
       "48                 1.42287\n",
       "49                0.671364\n",
       "50                0.534732\n",
       "52                 0.30082\n",
       "59                 6.74237\n",
       "61                0.688671\n",
       "67         0.8825311.28885\n",
       "68                 1.65505\n",
       "69                0.109562\n",
       "72                  3.7308\n",
       "76         0.5363171.97941\n",
       "77                 2.20102\n",
       "89                  4.2177\n",
       "              ...         \n",
       "97                 1.89135\n",
       "101               0.678388\n",
       "104               0.117478\n",
       "106               0.130813\n",
       "113               0.398739\n",
       "114               0.530304\n",
       "118               0.885093\n",
       "121               0.394639\n",
       "122               0.608018\n",
       "128         0.21266210.331\n",
       "129                10.4667\n",
       "134                0.57499\n",
       "139               0.340934\n",
       "147               0.388647\n",
       "150               0.776676\n",
       "155    0.14561500000000002\n",
       "161               0.395364\n",
       "162                0.85506\n",
       "171               0.757937\n",
       "176               0.595902\n",
       "178                2.97314\n",
       "182                3.01232\n",
       "185                8.42915\n",
       "189     0.8671709999999999\n",
       "190               0.605288\n",
       "191                10.1382\n",
       "192     1.2342799999999998\n",
       "193     1.5616299999999999\n",
       "194               0.385363\n",
       "197               0.670165\n",
       "Name: distance, Length: 64, dtype: object"
      ]
     },
     "execution_count": 16,
     "metadata": {},
     "output_type": "execute_result"
    }
   ],
   "source": [
    "pandoraNu_pairs.distance"
   ]
  },
  {
   "cell_type": "markdown",
   "metadata": {},
   "source": [
    "# inter-track separation distance"
   ]
  },
  {
   "cell_type": "code",
   "execution_count": 15,
   "metadata": {
    "collapsed": false
   },
   "outputs": [
    {
     "data": {
      "image/png": "[encoded data removed]",
      "text/plain": [
       "<matplotlib.figure.Figure at 0x11239a190>"
      ]
     },
     "metadata": {},
     "output_type": "display_data"
    }
   ],
   "source": [
    "fig,ax=plt.subplots(figsize=(12,6))\n",
    "for sample,label,color in zip(samples,labels,colors):\n",
    "    d = sample['distance']\n",
    "    h,bins,_ = plt.hist(d \n",
    "#                         , bins=np.linspace(0,11,50)\n",
    "#                         ,color=color,histtype='step'\n",
    "                       )\n",
    "#     mid = bins[1:] - 0.5*(bins[1]-bins[0])\n",
    "#     plt.errorbar(mid,h,yerr=np.sqrt(h),fmt='o',markersize=1, color=color , ecolor=color, capthick=2)\n",
    "set_axes(ax,'reconstructed distance between tracks [cm]' , 'counts'\n",
    "         ,xticks=[3,6,9,12]\n",
    "         ,do_add_grid=True,do_add_legend=True)\n",
    "plt.tight_layout()\n",
    "plt.savefig(figures_path+'separation_distance.pdf')"
   ]
  },
  {
   "cell_type": "code",
   "execution_count": null,
   "metadata": {
    "collapsed": true
   },
   "outputs": [],
   "source": []
  }
 ],
 "metadata": {
  "celltoolbar": "Slideshow",
  "kernelspec": {
   "display_name": "Python 2",
   "language": "python",
   "name": "python2"
  },
  "language_info": {
   "codemirror_mode": {
    "name": "ipython",
    "version": 2
   },
   "file_extension": ".py",
   "mimetype": "text/x-python",
   "name": "python",
   "nbconvert_exporter": "python",
   "pygments_lexer": "ipython2",
   "version": "2.7.11"
  }
 },
 "nbformat": 4,
 "nbformat_minor": 0
}
